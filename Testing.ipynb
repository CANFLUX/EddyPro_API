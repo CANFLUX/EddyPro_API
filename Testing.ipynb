{
 "cells": [
  {
   "attachments": {},
   "cell_type": "markdown",
   "metadata": {},
   "source": [
    "## Read .ghg metadata"
   ]
  },
  {
   "cell_type": "code",
   "execution_count": 1,
   "metadata": {},
   "outputs": [
    {
     "name": "stdout",
     "output_type": "stream",
     "text": [
      "2023-03-01 00:00:00\n",
      "272.4150548665461\n",
      "Preprocessing Files[████████████████████████████████████████████████████████████] 1318/1318\n",
      "\n",
      "Runtime:  3.7469259023666384  minutes\n"
     ]
    }
   ],
   "source": [
    "import preProcessing\n",
    "import importlib\n",
    "import time\n",
    "importlib.reload(preProcessing)\n",
    "T1 = time.time()\n",
    "\n",
    "# pr = preProcessing.read_ALL('BB',2023,processes=1,Test=48,reset=1)\n",
    "pr = preProcessing.read_ALL('BB',2023,processes=4,reset=1)\n",
    "T2 = time.time()\n",
    "print('\\n')\n",
    "print('Runtime: ',(T2-T1)/60,' minutes')\n"
   ]
  },
  {
   "cell_type": "code",
   "execution_count": 32,
   "metadata": {},
   "outputs": [
    {
     "data": {
      "text/html": [
       "<div>\n",
       "<style scoped>\n",
       "    .dataframe tbody tr th:only-of-type {\n",
       "        vertical-align: middle;\n",
       "    }\n",
       "\n",
       "    .dataframe tbody tr th {\n",
       "        vertical-align: top;\n",
       "    }\n",
       "\n",
       "    .dataframe thead th {\n",
       "        text-align: right;\n",
       "    }\n",
       "</style>\n",
       "<table border=\"1\" class=\"dataframe\">\n",
       "  <thead>\n",
       "    <tr style=\"text-align: right;\">\n",
       "      <th></th>\n",
       "      <th>flow_rate_7200</th>\n",
       "      <th>signal_strength_7200</th>\n",
       "      <th>signal_strength_7700</th>\n",
       "    </tr>\n",
       "  </thead>\n",
       "  <tbody>\n",
       "    <tr>\n",
       "      <th>0</th>\n",
       "      <td>15.321447</td>\n",
       "      <td>97.953576</td>\n",
       "      <td>54.399928</td>\n",
       "    </tr>\n",
       "    <tr>\n",
       "      <th>1</th>\n",
       "      <td>15.254173</td>\n",
       "      <td>97.932219</td>\n",
       "      <td>55.164712</td>\n",
       "    </tr>\n",
       "    <tr>\n",
       "      <th>2</th>\n",
       "      <td>15.233608</td>\n",
       "      <td>97.948343</td>\n",
       "      <td>51.548026</td>\n",
       "    </tr>\n",
       "    <tr>\n",
       "      <th>3</th>\n",
       "      <td>15.192895</td>\n",
       "      <td>97.974557</td>\n",
       "      <td>46.460325</td>\n",
       "    </tr>\n",
       "  </tbody>\n",
       "</table>\n",
       "</div>"
      ],
      "text/plain": [
       "   flow_rate_7200  signal_strength_7200  signal_strength_7700\n",
       "0       15.321447             97.953576             54.399928\n",
       "1       15.254173             97.932219             55.164712\n",
       "2       15.233608             97.948343             51.548026\n",
       "3       15.192895             97.974557             46.460325"
      ]
     },
     "execution_count": 32,
     "metadata": {},
     "output_type": "execute_result"
    }
   ],
   "source": [
    "import pandas as pd\n",
    "df = pd.read_csv('C:/highfreq/BB/metadata/rawMeans.csv',parse_dates={'TimeStamp':['TIMESTAMP']})\n",
    "df[['flow_rate_7200','signal_strength_7200','signal_strength_7700']]\n",
    "\n",
    "\n",
    "# df.columns\n"
   ]
  },
  {
   "cell_type": "code",
   "execution_count": 10,
   "metadata": {},
   "outputs": [
    {
     "data": {
      "text/plain": [
       "Index(['DATAH', 'Seconds', 'Nanoseconds', 'Sequence Number',\n",
       "       'Diagnostic Value', 'Diagnostic Value 2', 'Date', 'Time',\n",
       "       'CO2 Absorptance', 'H2O Absorptance', 'CO2 (mmol/m^3)', 'CO2 (mg/m^3)',\n",
       "       'H2O (mmol/m^3)', 'H2O (g/m^3)', 'Block Temperature (C)',\n",
       "       'Total Pressure (kPa)', 'Box Pressure (kPa)', 'Head Pressure (kPa)',\n",
       "       'Aux 1 - U (m/s)', 'Aux 2 - V (m/s)', 'Aux 3 - W (m/s)',\n",
       "       'Aux 4 - SOS (m/s)', 'Cooler Voltage (V)', 'Chopper Cooler Voltage (V)',\n",
       "       'Vin SmartFlux (V)', 'CO2 (umol/mol)', 'CO2 dry(umol/mol)',\n",
       "       'H2O (mmol/mol)', 'H2O dry(mmol/mol)', 'Dew Point (C)',\n",
       "       'Cell Temperature (C)', 'Temperature In (C)', 'Temperature Out (C)',\n",
       "       'Average Signal Strength', 'CO2 Signal Strength', 'H2O Signal Strength',\n",
       "       'Delta Signal Strength', 'Flow Rate (slpm)', 'Flow Rate (lpm)',\n",
       "       'Flow Pressure (kPa)', 'Flow Power (V)', 'Flow Drive (%)', 'H2O Sample',\n",
       "       'H2O Reference', 'CO2 Sample', 'CO2 Reference', 'HIT Power (W)',\n",
       "       'Vin HIT (V)', 'CH4 Seconds', 'CH4 (umol/mol)', 'CH4 (mmol/m^3)',\n",
       "       'CH4 Temperature', 'CH4 Pressure', 'CH4 Signal Strength',\n",
       "       'CH4 Diagnostic Value', 'CH4 Drop Rate (%)', 'CHK'],\n",
       "      dtype='object')"
      ]
     },
     "execution_count": 10,
     "metadata": {},
     "output_type": "execute_result"
    }
   ],
   "source": [
    "df = pd.read_csv('C:/highfreq/BB/2023-03-28T120000_LI-7200/2023-03-28T120000_LI-7200.data',skiprows=7,delimiter='\\t')\n",
    "df.columns"
   ]
  },
  {
   "cell_type": "code",
   "execution_count": 68,
   "metadata": {},
   "outputs": [
    {
     "name": "stdout",
     "output_type": "stream",
     "text": [
      "2\n",
      "3\n",
      "Running EddyPro[████████████████████████████████████████████████████████████] 2/2\n",
      "\n",
      "Runtime:  0.6247695684432983\n"
     ]
    }
   ],
   "source": [
    "import setupEP as eP\n",
    "import importlib\n",
    "import time\n",
    "importlib.reload(eP)\n",
    "\n",
    "########## Note - incomplete ghg files crash program\n",
    "\n",
    "\n",
    "T1 = time.time()\n",
    "mR = eP.makeRun('ep_Templates/DefaultSettings.eddypro','BB')\n",
    "mR.runDates(['2023-03-17 13:00','2023-03-17 16:00'],'test',threads=1,priority = 'high')\n",
    "T2 = time.time()\n",
    "print('\\n')\n",
    "print('Runtime: ',(T2-T1)/60)\n"
   ]
  },
  {
   "cell_type": "code",
   "execution_count": 14,
   "metadata": {},
   "outputs": [
    {
     "data": {
      "text/plain": [
       "DatetimeIndex(['2023-03-01 12:00:00', '2023-03-01 12:30:00',\n",
       "               '2023-03-01 13:00:00'],\n",
       "              dtype='datetime64[ns]', freq='30T')"
      ]
     },
     "execution_count": 14,
     "metadata": {},
     "output_type": "execute_result"
    }
   ],
   "source": [
    "import pandas as pd\n",
    "dateRange = ['2023-03-01 12:00','2023-03-01 13:00']\n",
    "pd.date_range(dateRange[0],dateRange[1],freq='30T')"
   ]
  },
  {
   "cell_type": "markdown",
   "metadata": {},
   "source": [
    "# Speedtests\n",
    "\n",
    "All times in minutes\n",
    "\n",
    "### 4 threads (8 timesteps each)\n",
    "\n",
    "Normal priority: 2.05\n",
    "High priority: 1.91\n",
    "\n",
    "### 4 threads (48 timesteps each x 12 days)\n",
    "\n",
    "High priority: 29\n",
    "\n",
    "### Eddypro GUI (1 run [12 days, 576 timesteps])\n",
    "\n",
    "High priority: 90"
   ]
  }
 ],
 "metadata": {
  "kernelspec": {
   "display_name": ".venv",
   "language": "python",
   "name": "python3"
  },
  "language_info": {
   "codemirror_mode": {
    "name": "ipython",
    "version": 3
   },
   "file_extension": ".py",
   "mimetype": "text/x-python",
   "name": "python",
   "nbconvert_exporter": "python",
   "pygments_lexer": "ipython3",
   "version": "3.11.5"
  },
  "orig_nbformat": 4,
  "vscode": {
   "interpreter": {
    "hash": "ef0cd03416062db1397a6f4c064b2fd8fe41d0681561742315105bdf1dc915d9"
   }
  }
 },
 "nbformat": 4,
 "nbformat_minor": 2
}
