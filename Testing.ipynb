{
 "cells": [
  {
   "attachments": {},
   "cell_type": "markdown",
   "metadata": {},
   "source": [
    "## Read .ghg metadata"
   ]
  },
  {
   "cell_type": "code",
   "execution_count": 76,
   "metadata": {},
   "outputs": [
    {
     "name": "stdout",
     "output_type": "stream",
     "text": [
      "2023-03-01 00:00:00\n",
      "272.4150548665461\n",
      "Preprocessing Files[████████████████████████████████████████████████████████████] 1318/1318\n",
      "\n",
      "Runtime:  3.0305892904599507  minutes\n"
     ]
    }
   ],
   "source": [
    "import preProcessing\n",
    "import importlib\n",
    "import time\n",
    "importlib.reload(preProcessing)\n",
    "T1 = time.time()\n",
    "\n",
    "# pr = preProcessing.read_ALL('BB',2023,processes=1,Test=48,reset=1)\n",
    "pr = preProcessing.read_ALL('BB',2023,processes=4,reset=1)\n",
    "T2 = time.time()\n",
    "print('\\n')\n",
    "print('Runtime: ',(T2-T1)/60,' minutes')\n"
   ]
  },
  {
   "cell_type": "code",
   "execution_count": 74,
   "metadata": {},
   "outputs": [
    {
     "data": {
      "text/plain": [
       "'Total Pressure (kPa)'"
      ]
     },
     "execution_count": 74,
     "metadata": {},
     "output_type": "execute_result"
    }
   ],
   "source": [
    "import pandas as pd\n",
    "df = pd.read_csv('C:/highfreq/BB/2023-03-17T003000_LI-7200/2023-03-17T003000_LI-7200.data',skiprows=7,sep='\\t')\n",
    "\n",
    "\n",
    "# df[['flow_rate_7200','signal_strength_7200','signal_strength_7700']]\n",
    "\n",
    "\n",
    "\n",
    "df.columns[15]\n"
   ]
  },
  {
   "cell_type": "code",
   "execution_count": 10,
   "metadata": {},
   "outputs": [
    {
     "data": {
      "text/plain": [
       "Index(['DATAH', 'Seconds', 'Nanoseconds', 'Sequence Number',\n",
       "       'Diagnostic Value', 'Diagnostic Value 2', 'Date', 'Time',\n",
       "       'CO2 Absorptance', 'H2O Absorptance', 'CO2 (mmol/m^3)', 'CO2 (mg/m^3)',\n",
       "       'H2O (mmol/m^3)', 'H2O (g/m^3)', 'Block Temperature (C)',\n",
       "       'Total Pressure (kPa)', 'Box Pressure (kPa)', 'Head Pressure (kPa)',\n",
       "       'Aux 1 - U (m/s)', 'Aux 2 - V (m/s)', 'Aux 3 - W (m/s)',\n",
       "       'Aux 4 - SOS (m/s)', 'Cooler Voltage (V)', 'Chopper Cooler Voltage (V)',\n",
       "       'Vin SmartFlux (V)', 'CO2 (umol/mol)', 'CO2 dry(umol/mol)',\n",
       "       'H2O (mmol/mol)', 'H2O dry(mmol/mol)', 'Dew Point (C)',\n",
       "       'Cell Temperature (C)', 'Temperature In (C)', 'Temperature Out (C)',\n",
       "       'Average Signal Strength', 'CO2 Signal Strength', 'H2O Signal Strength',\n",
       "       'Delta Signal Strength', 'Flow Rate (slpm)', 'Flow Rate (lpm)',\n",
       "       'Flow Pressure (kPa)', 'Flow Power (V)', 'Flow Drive (%)', 'H2O Sample',\n",
       "       'H2O Reference', 'CO2 Sample', 'CO2 Reference', 'HIT Power (W)',\n",
       "       'Vin HIT (V)', 'CH4 Seconds', 'CH4 (umol/mol)', 'CH4 (mmol/m^3)',\n",
       "       'CH4 Temperature', 'CH4 Pressure', 'CH4 Signal Strength',\n",
       "       'CH4 Diagnostic Value', 'CH4 Drop Rate (%)', 'CHK'],\n",
       "      dtype='object')"
      ]
     },
     "execution_count": 10,
     "metadata": {},
     "output_type": "execute_result"
    }
   ],
   "source": [
    "df = pd.read_csv('C:/highfreq/BB/2023-03-28T120000_LI-7200/2023-03-28T120000_LI-7200.data',skiprows=7,delimiter='\\t')\n",
    "df.columns"
   ]
  },
  {
   "cell_type": "code",
   "execution_count": 80,
   "metadata": {},
   "outputs": [
    {
     "name": "stdout",
     "output_type": "stream",
     "text": [
      "4\n",
      "last_change_date\n",
      "str(datetime.now()).replace(' ','T').split('.')[0]\n",
      "file_name\n",
      "file_name\n",
      "project_title\n",
      "project_id\n",
      "project_id\n",
      "project_id\n",
      "use_pfile\n",
      "'1'\n",
      "proj_file\n",
      "batch_path+Metadata_File\n",
      "master_sonic\n",
      "'csat3_1'\n",
      "col_air_p\n",
      "'0'\n",
      "col_air_t\n",
      "'0'\n",
      "col_ts\n",
      "'0'\n",
      "pr_subset\n",
      "'1'\n",
      "pr_start_date\n",
      "pr_start_date\n",
      "pr_start_time\n",
      "pr_start_time\n",
      "pr_end_date\n",
      "pr_end_date\n",
      "pr_end_time\n",
      "pr_end_time\n",
      "out_path\n",
      "output_path\n",
      "use_biom\n",
      "'2'\n",
      "biom_file\n",
      "self.sub(self.ini['Paths']['biomet']+self.ini['filenames']['biomet'])\n",
      "biom_ext\n",
      "'.'+self.ini['filenames']['biomet'].split('.')[-1]\n",
      "out_mean_cosp\n",
      "'1'\n",
      "out_biomet\n",
      "'1'\n",
      "out_mean_spec\n",
      "'1'\n",
      "sa_start_date\n",
      "pr_start_date\n",
      "sa_end_date\n",
      "pr_end_date\n",
      "sa_start_time\n",
      "pr_start_time\n",
      "sa_end_time\n",
      "pr_end_time\n",
      "data_path\n",
      "self.sub(self.ini['Paths']['raw'])\n",
      "pf_start_date\n",
      "pr_start_date\n",
      "pf_end_date\n",
      "pr_end_date\n",
      "pf_start_time\n",
      "pr_start_time\n",
      "pf_end_time\n",
      "pr_end_time\n",
      "to_start_date\n",
      "pr_start_date\n",
      "to_end_date\n",
      "pr_end_date\n",
      "to_start_time\n",
      "pr_start_time\n",
      "to_end_time\n",
      "pr_end_time\n",
      "3\n",
      "last_change_date\n",
      "str(datetime.now()).replace(' ','T').split('.')[0]\n",
      "file_name\n",
      "file_name\n",
      "project_title\n",
      "project_id\n",
      "project_id\n",
      "project_id\n",
      "use_pfile\n",
      "'1'\n",
      "proj_file\n",
      "batch_path+Metadata_File\n",
      "master_sonic\n",
      "'csat3_1'\n",
      "col_air_p\n",
      "'0'\n",
      "col_air_t\n",
      "'0'\n",
      "col_ts\n",
      "'0'\n",
      "pr_subset\n",
      "'1'\n",
      "pr_start_date\n",
      "pr_start_date\n",
      "pr_start_time\n",
      "pr_start_time\n",
      "pr_end_date\n",
      "pr_end_date\n",
      "pr_end_time\n",
      "pr_end_time\n",
      "out_path\n",
      "output_path\n",
      "use_biom\n",
      "'2'\n",
      "biom_file\n",
      "self.sub(self.ini['Paths']['biomet']+self.ini['filenames']['biomet'])\n",
      "biom_ext\n",
      "'.'+self.ini['filenames']['biomet'].split('.')[-1]\n",
      "out_mean_cosp\n",
      "'1'\n",
      "out_biomet\n",
      "'1'\n",
      "out_mean_spec\n",
      "'1'\n",
      "sa_start_date\n",
      "pr_start_date\n",
      "sa_end_date\n",
      "pr_end_date\n",
      "sa_start_time\n",
      "pr_start_time\n",
      "sa_end_time\n",
      "pr_end_time\n",
      "data_path\n",
      "self.sub(self.ini['Paths']['raw'])\n",
      "pf_start_date\n",
      "pr_start_date\n",
      "pf_end_date\n",
      "pr_end_date\n",
      "pf_start_time\n",
      "pr_start_time\n",
      "pf_end_time\n",
      "pr_end_time\n",
      "to_start_date\n",
      "pr_start_date\n",
      "to_end_date\n",
      "pr_end_date\n",
      "to_start_time\n",
      "pr_start_time\n",
      "to_end_time\n",
      "pr_end_time\n",
      "Running EddyPro[████████████████████████████████████████████████████████████] 2/2\n",
      "\n",
      "Runtime:  0.6460881392161052\n"
     ]
    }
   ],
   "source": [
    "import setupEP as eP\n",
    "import importlib\n",
    "import time\n",
    "importlib.reload(eP)\n",
    "\n",
    "########## Note - incomplete ghg files crash program\n",
    "\n",
    "\n",
    "T1 = time.time()\n",
    "mR = eP.makeRun('ep_Templates/DefaultSettings.eddypro','BB')\n",
    "mR.runDates(['2023-03-17 13:00','2023-03-17 16:00'],'test',threads=1,priority = 'high')\n",
    "T2 = time.time()\n",
    "print('\\n')\n",
    "print('Runtime: ',(T2-T1)/60)\n"
   ]
  },
  {
   "cell_type": "code",
   "execution_count": 14,
   "metadata": {},
   "outputs": [
    {
     "data": {
      "text/plain": [
       "DatetimeIndex(['2023-03-01 12:00:00', '2023-03-01 12:30:00',\n",
       "               '2023-03-01 13:00:00'],\n",
       "              dtype='datetime64[ns]', freq='30T')"
      ]
     },
     "execution_count": 14,
     "metadata": {},
     "output_type": "execute_result"
    }
   ],
   "source": [
    "import pandas as pd\n",
    "dateRange = ['2023-03-01 12:00','2023-03-01 13:00']\n",
    "pd.date_range(dateRange[0],dateRange[1],freq='30T')"
   ]
  },
  {
   "cell_type": "markdown",
   "metadata": {},
   "source": [
    "# Speedtests\n",
    "\n",
    "All times in minutes\n",
    "\n",
    "### 4 threads (8 timesteps each)\n",
    "\n",
    "Normal priority: 2.05\n",
    "High priority: 1.91\n",
    "\n",
    "### 4 threads (48 timesteps each x 12 days)\n",
    "\n",
    "High priority: 29\n",
    "\n",
    "### Eddypro GUI (1 run [12 days, 576 timesteps])\n",
    "\n",
    "High priority: 90"
   ]
  }
 ],
 "metadata": {
  "kernelspec": {
   "display_name": ".venv",
   "language": "python",
   "name": "python3"
  },
  "language_info": {
   "codemirror_mode": {
    "name": "ipython",
    "version": 3
   },
   "file_extension": ".py",
   "mimetype": "text/x-python",
   "name": "python",
   "nbconvert_exporter": "python",
   "pygments_lexer": "ipython3",
   "version": "3.11.5"
  },
  "orig_nbformat": 4,
  "vscode": {
   "interpreter": {
    "hash": "ef0cd03416062db1397a6f4c064b2fd8fe41d0681561742315105bdf1dc915d9"
   }
  }
 },
 "nbformat": 4,
 "nbformat_minor": 2
}
