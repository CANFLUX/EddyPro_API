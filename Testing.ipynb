{
 "cells": [
  {
   "attachments": {},
   "cell_type": "markdown",
   "metadata": {},
   "source": [
    "## Read .ghg metadata"
   ]
  },
  {
   "cell_type": "code",
   "execution_count": 25,
   "metadata": {},
   "outputs": [
    {
     "name": "stdout",
     "output_type": "stream",
     "text": [
      "Preprocessing Files[████████████████████████████████████████████████████████████] 776/776\n",
      "\n",
      "\n",
      "\n",
      "Runtime:  0.3377904772758484  minutes\n"
     ]
    }
   ],
   "source": [
    "import preProcessing\n",
    "import importlib\n",
    "import time\n",
    "importlib.reload(preProcessing)\n",
    "T1 = time.time()\n",
    "\n",
    "# pr = preProcessing.read_ALL('BB',2022,6,processes=1,Test=2)\n",
    "# pr = preProcessing.read_ALL('BBS',2023,6,processes=4,Test=4,file_type='dat',copy_From=\"Z:\\\\BBS\\\\EC_Station\\\\20230705/\",copy_tag='FLUX')\n",
    "pr = preProcessing.read_ALL('BBS',2023,6,processes=4,file_type='dat')\n",
    "T2 = time.time()\n",
    "\n",
    "print('\\n')\n",
    "print('Runtime: ',(T2-T1)/60,' minutes')\n"
   ]
  },
  {
   "cell_type": "code",
   "execution_count": 27,
   "metadata": {},
   "outputs": [
    {
     "name": "stdout",
     "output_type": "stream",
     "text": [
      "Splitting into 2 batches due to update metadata\n",
      "Running EddyPro[████████████████████████████████████████████████████████████] 8/8\n",
      "\n",
      "Runtime:  5.913702301184336\n"
     ]
    }
   ],
   "source": [
    "import setupEP as eP\n",
    "import importlib\n",
    "import time\n",
    "importlib.reload(eP)\n",
    "\n",
    "########## Note - incomplete ghg files can crash program (preprocessing procedures should help prevent that by re-naming incomplete files)\n",
    "\n",
    "T1 = time.time()\n",
    "mR = eP.makeRun('ep_Templates/DefaultSettings.eddypro','BBS','test',Processes=4,priority = 'high priority')\n",
    "mR.runDates(['2023-06-15 12:00','2023-07-01 00:30'])\n",
    "# mR.runDates(['2023-06-15 12:00','2023-06-15 18:30'])\n",
    "T2 = time.time()\n",
    "print('\\n')\n",
    "print('Runtime: ',(T2-T1)/60)"
   ]
  },
  {
   "cell_type": "markdown",
   "metadata": {},
   "source": [
    "# Speedtests\n",
    "\n",
    "All times in minutes\n",
    "\n",
    "### 4 threads (8 timesteps each)\n",
    "\n",
    "Normal priority: 2.05\n",
    "High priority: 1.91\n",
    "\n",
    "### 4 threads (48 timesteps each x 12 days)\n",
    "\n",
    "High priority: 29\n",
    "\n",
    "### Eddypro GUI (1 run [12 days, 576 timesteps])\n",
    "\n",
    "High priority: 90"
   ]
  }
 ],
 "metadata": {
  "kernelspec": {
   "display_name": ".venv",
   "language": "python",
   "name": "python3"
  },
  "language_info": {
   "codemirror_mode": {
    "name": "ipython",
    "version": 3
   },
   "file_extension": ".py",
   "mimetype": "text/x-python",
   "name": "python",
   "nbconvert_exporter": "python",
   "pygments_lexer": "ipython3",
   "version": "3.11.5"
  },
  "orig_nbformat": 4,
  "vscode": {
   "interpreter": {
    "hash": "ef0cd03416062db1397a6f4c064b2fd8fe41d0681561742315105bdf1dc915d9"
   }
  }
 },
 "nbformat": 4,
 "nbformat_minor": 2
}
