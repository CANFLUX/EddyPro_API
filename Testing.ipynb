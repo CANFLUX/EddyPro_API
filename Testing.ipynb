{
 "cells": [
  {
   "attachments": {},
   "cell_type": "markdown",
   "metadata": {},
   "source": [
    "## Read .ghg metadata"
   ]
  },
  {
   "cell_type": "code",
   "execution_count": 4,
   "metadata": {},
   "outputs": [
    {
     "name": "stdout",
     "output_type": "stream",
     "text": [
      "                                                     filename Flag\n",
      "TIMESTAMP                                                         \n",
      "2023-03-17 14:12:55  2023-03-17T141255_LI-7200_incomplete.ghg    -\n",
      "2023-03-17 14:32:15  2023-03-17T143215_LI-7200_incomplete.ghg    -\n",
      "2023-03-17 15:11:51  2023-03-17T151151_LI-7200_incomplete.ghg    -\n",
      "\n",
      "\n",
      "Runtime:  0.00859395662943522  minutes\n"
     ]
    }
   ],
   "source": [
    "import preProcessing\n",
    "import importlib\n",
    "import time\n",
    "importlib.reload(preProcessing)\n",
    "T1 = time.time()\n",
    "\n",
    "# pr = preProcessing.read_ALL('BB',2023,3,processes=4,Test=48,reset=1)\n",
    "pr = preProcessing.read_ALL('BB',2023,3,processes=4,reset=1)\n",
    "T2 = time.time()\n",
    "print('\\n')\n",
    "print('Runtime: ',(T2-T1)/60,' minutes')\n"
   ]
  },
  {
   "cell_type": "code",
   "execution_count": 32,
   "metadata": {},
   "outputs": [
    {
     "name": "stdout",
     "output_type": "stream",
     "text": [
      "C:/highfreq/BB/metadata/\n"
     ]
    },
    {
     "data": {
      "text/plain": [
       "['File_Inventory.csv']"
      ]
     },
     "execution_count": 32,
     "metadata": {},
     "output_type": "execute_result"
    }
   ],
   "source": []
  },
  {
   "cell_type": "code",
   "execution_count": 11,
   "metadata": {},
   "outputs": [
    {
     "name": "stdout",
     "output_type": "stream",
     "text": [
      "2\n",
      "3\n",
      "Running EddyPro[████████████████████████████████████████████████████████████] 4/4\n",
      "\n",
      "Runtime:  0.8971825242042542\n"
     ]
    }
   ],
   "source": [
    "import setupEP as eP\n",
    "import importlib\n",
    "import time\n",
    "importlib.reload(eP)\n",
    "\n",
    "########## Note - incomplete ghg files crash program\n",
    "\n",
    "T1 = time.time()\n",
    "mR = eP.makeRun('ep_Templates/DefaultSettings.eddypro','BB')\n",
    "mR.runDates(['2023-03-17 13:00','2023-03-17 16:00'],'test',threads=2,priority = 'high')\n",
    "T2 = time.time()\n",
    "print('\\n')\n",
    "print('Runtime: ',(T2-T1)/60)\n"
   ]
  },
  {
   "cell_type": "markdown",
   "metadata": {},
   "source": [
    "# Speedtests\n",
    "\n",
    "All times in minutes\n",
    "\n",
    "### 4 threads (8 timesteps each)\n",
    "\n",
    "Normal priority: 2.05\n",
    "High priority: 1.91\n",
    "\n",
    "### 4 threads (48 timesteps each x 12 days)\n",
    "\n",
    "High priority: 29\n",
    "\n",
    "### Eddypro GUI (1 run [12 days, 576 timesteps])\n",
    "\n",
    "High priority: 90"
   ]
  }
 ],
 "metadata": {
  "kernelspec": {
   "display_name": ".venv",
   "language": "python",
   "name": "python3"
  },
  "language_info": {
   "codemirror_mode": {
    "name": "ipython",
    "version": 3
   },
   "file_extension": ".py",
   "mimetype": "text/x-python",
   "name": "python",
   "nbconvert_exporter": "python",
   "pygments_lexer": "ipython3",
   "version": "3.11.5"
  },
  "orig_nbformat": 4,
  "vscode": {
   "interpreter": {
    "hash": "ef0cd03416062db1397a6f4c064b2fd8fe41d0681561742315105bdf1dc915d9"
   }
  }
 },
 "nbformat": 4,
 "nbformat_minor": 2
}
