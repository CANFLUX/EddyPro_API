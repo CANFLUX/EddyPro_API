{
 "cells": [
  {
   "attachments": {},
   "cell_type": "markdown",
   "metadata": {},
   "source": [
    "## Read .ghg metadata"
   ]
  },
  {
   "cell_type": "code",
   "execution_count": 51,
   "metadata": {},
   "outputs": [
    {
     "name": "stdout",
     "output_type": "stream",
     "text": [
      "\n",
      "\n",
      "Runtime:  0.05043521324793498  minutes\n"
     ]
    }
   ],
   "source": [
    "import preProcessing\n",
    "import importlib\n",
    "import time\n",
    "importlib.reload(preProcessing)\n",
    "T1 = time.time()\n",
    "\n",
    "pr = preProcessing.read_ALL('BB',2023,3,processes=1,Test=4,reset=0)\n",
    "# pr = preProcessing.read_ALL('BB',2023,3,processes=4,reset=1)\n",
    "T2 = time.time()\n",
    "print('\\n')\n",
    "print('Runtime: ',(T2-T1)/60,' minutes')\n"
   ]
  },
  {
   "cell_type": "code",
   "execution_count": 6,
   "metadata": {},
   "outputs": [
    {
     "data": {
      "text/plain": [
       "False"
      ]
     },
     "execution_count": 6,
     "metadata": {},
     "output_type": "execute_result"
    }
   ],
   "source": [
    "Template_File=False\n",
    "isinstance(Template_File,bool)==False"
   ]
  },
  {
   "cell_type": "code",
   "execution_count": 29,
   "metadata": {},
   "outputs": [
    {
     "name": "stdout",
     "output_type": "stream",
     "text": [
      "8\n",
      "5\n",
      "Running EddyPro[████████████████████████████████████████████████████████████] 4/4\n",
      "\n",
      "Runtime:  1.172266670068105\n"
     ]
    }
   ],
   "source": [
    "import setupEP as eP\n",
    "import importlib\n",
    "import time\n",
    "importlib.reload(eP)\n",
    "\n",
    "########## Note - incomplete ghg files crash program\n",
    "\n",
    "T1 = time.time()\n",
    "mR = eP.makeRun('ep_Templates/LabStandard_Express.eddypro','BB')\n",
    "mR.runDates(['2023-03-17 10:00','2023-03-17 17:00'],'test',threads=2,priority = 'high')\n",
    "T2 = time.time()\n",
    "print('\\n')\n",
    "print('Runtime: ',(T2-T1)/60)\n"
   ]
  },
  {
   "cell_type": "markdown",
   "metadata": {},
   "source": [
    "# Speedtests\n",
    "\n",
    "All times in minutes\n",
    "\n",
    "### 4 threads (8 timesteps each)\n",
    "\n",
    "Normal priority: 2.05\n",
    "High priority: 1.91\n",
    "\n",
    "### 4 threads (48 timesteps each x 12 days)\n",
    "\n",
    "High priority: 29\n",
    "\n",
    "### Eddypro GUI (1 run [12 days, 576 timesteps])\n",
    "\n",
    "High priority: 90"
   ]
  }
 ],
 "metadata": {
  "kernelspec": {
   "display_name": ".venv",
   "language": "python",
   "name": "python3"
  },
  "language_info": {
   "codemirror_mode": {
    "name": "ipython",
    "version": 3
   },
   "file_extension": ".py",
   "mimetype": "text/x-python",
   "name": "python",
   "nbconvert_exporter": "python",
   "pygments_lexer": "ipython3",
   "version": "3.11.5"
  },
  "orig_nbformat": 4,
  "vscode": {
   "interpreter": {
    "hash": "ef0cd03416062db1397a6f4c064b2fd8fe41d0681561742315105bdf1dc915d9"
   }
  }
 },
 "nbformat": 4,
 "nbformat_minor": 2
}
