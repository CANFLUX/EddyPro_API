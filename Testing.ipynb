{
 "cells": [
  {
   "attachments": {},
   "cell_type": "markdown",
   "metadata": {},
   "source": [
    "## Read .ghg metadata"
   ]
  },
  {
   "cell_type": "code",
   "execution_count": 9,
   "metadata": {},
   "outputs": [
    {
     "name": "stdout",
     "output_type": "stream",
     "text": [
      "col_co2 [26]\n",
      "col_h2o [28]\n",
      "col_ch4 [50]\n",
      "col_n2o []\n",
      "col_int_t_1 [31]\n",
      "col_int_t_2 [32]\n",
      "col_int_p [15]\n",
      "col_air_t [51]\n",
      "col_air_p [52]\n",
      "col_cell_t [30]\n",
      "col_diag_75 [4]\n",
      "col_diag_72 []\n",
      "col_diag_77 [54]\n",
      "col_diag_anem []\n",
      "C:/highfreq/BB/metadata/File_Inventory.csv\n",
      "\n",
      "\n",
      "6.602632522583008\n"
     ]
    }
   ],
   "source": [
    "import preProcessing\n",
    "import importlib\n",
    "import time\n",
    "importlib.reload(preProcessing)\n",
    "T1 = time.time()\n",
    "\n",
    "pr = preProcessing.read_ALL('BB',2022,processes=1,Test=12,reset=1)\n",
    "T2 = time.time()\n",
    "print('\\n')\n",
    "print(T2-T1)\n"
   ]
  },
  {
   "cell_type": "code",
   "execution_count": 24,
   "metadata": {},
   "outputs": [
    {
     "name": "stdout",
     "output_type": "stream",
     "text": [
      "DEFAULT\n",
      "Project\n",
      "RawProcess_General\n",
      "DEFAULT\n",
      "Project\n",
      "RawProcess_General\n",
      "DEFAULT\n",
      "Project\n",
      "RawProcess_General\n"
     ]
    }
   ],
   "source": [
    "import setupEP as eP\n",
    "import importlib\n",
    "import time\n",
    "importlib.reload(eP)\n",
    "\n",
    "# T1 = time.time()\n",
    "mR = eP.makeRun('ep_Templates/DefaultSettings.eddypro','BB')\n",
    "mR.runDates(['2022-11-06','2022-11-08'],'test')\n"
   ]
  },
  {
   "cell_type": "code",
   "execution_count": 15,
   "metadata": {},
   "outputs": [
    {
     "data": {
      "text/plain": [
       "'C:/highfreq/SITE/raw/YEAR/'"
      ]
     },
     "execution_count": 15,
     "metadata": {},
     "output_type": "execute_result"
    }
   ],
   "source": [
    "mR.ini['Paths']['raw']"
   ]
  },
  {
   "cell_type": "code",
   "execution_count": 13,
   "metadata": {},
   "outputs": [
    {
     "data": {
      "text/plain": [
       "2022"
      ]
     },
     "execution_count": 13,
     "metadata": {},
     "output_type": "execute_result"
    }
   ],
   "source": [
    "# # from HelperFunctions import progressbar\n",
    "\n",
    "# # pb = progressbar(15, \"Computing: \", 40)\n",
    "\n",
    "\n",
    "# mR.inventory.index.date\n",
    "# # import time    \n",
    "# # # pb = progressbar()\n",
    "# # for i in range(15):\n",
    "# #     time.sleep(0.1) # any code you need\n",
    "# #     pb.step()\n",
    "\n",
    "mR.Year"
   ]
  },
  {
   "cell_type": "markdown",
   "metadata": {},
   "source": []
  }
 ],
 "metadata": {
  "kernelspec": {
   "display_name": ".venv",
   "language": "python",
   "name": "python3"
  },
  "language_info": {
   "codemirror_mode": {
    "name": "ipython",
    "version": 3
   },
   "file_extension": ".py",
   "mimetype": "text/x-python",
   "name": "python",
   "nbconvert_exporter": "python",
   "pygments_lexer": "ipython3",
   "version": "3.11.5"
  },
  "orig_nbformat": 4,
  "vscode": {
   "interpreter": {
    "hash": "ef0cd03416062db1397a6f4c064b2fd8fe41d0681561742315105bdf1dc915d9"
   }
  }
 },
 "nbformat": 4,
 "nbformat_minor": 2
}
