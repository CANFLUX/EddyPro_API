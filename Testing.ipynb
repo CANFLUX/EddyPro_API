{
 "cells": [
  {
   "attachments": {},
   "cell_type": "markdown",
   "metadata": {},
   "source": [
    "## Read .ghg metadata"
   ]
  },
  {
   "cell_type": "code",
   "execution_count": 31,
   "metadata": {},
   "outputs": [
    {
     "name": "stdout",
     "output_type": "stream",
     "text": [
      "Preprocessing Files[████████████████████████████████████████████████████████████] 1440/1440\n",
      "\n",
      "274.51424527168274\n"
     ]
    }
   ],
   "source": [
    "import preProcessing\n",
    "import importlib\n",
    "import time\n",
    "importlib.reload(preProcessing)\n",
    "T1 = time.time()\n",
    "\n",
    "pr = preProcessing.read_ALL('BB',2022,processes=4,Test=48*30,reset=1)\n",
    "T2 = time.time()\n",
    "print('\\n')\n",
    "print(T2-T1)\n"
   ]
  },
  {
   "cell_type": "code",
   "execution_count": 27,
   "metadata": {},
   "outputs": [
    {
     "data": {
      "text/plain": [
       "4.134006162484487"
      ]
     },
     "execution_count": 27,
     "metadata": {},
     "output_type": "execute_result"
    }
   ],
   "source": [
    "Pre_4_core = 248.0403697490692/60\n",
    "Pre_4_core\n"
   ]
  },
  {
   "cell_type": "code",
   "execution_count": 12,
   "metadata": {},
   "outputs": [
    {
     "name": "stdout",
     "output_type": "stream",
     "text": [
      "Running EddyPro[████████████████████████████████████████████████████████████] 12/12\n",
      "\n",
      "2203.766878604889\n"
     ]
    }
   ],
   "source": [
    "import setupEP as eP\n",
    "import importlib\n",
    "import time\n",
    "importlib.reload(eP)\n",
    "\n",
    "T1 = time.time()\n",
    "mR = eP.makeRun('ep_Templates/DefaultSettings.eddypro','BB')\n",
    "mR.runDates(['2022-10-27','2022-11-08'],'test',threads=3,priority = 'high')\n",
    "print()\n",
    "print()\n",
    "print(time.time()-T1)\n"
   ]
  },
  {
   "cell_type": "markdown",
   "metadata": {},
   "source": [
    "# Speedtest by priority level\n",
    "\n",
    "All times in seconds\n",
    "\n",
    "## 2 threads (4 timesteps each)\n",
    "\n",
    "Normal: 46.4262752532959\n",
    "High: 44.214123487472534\n",
    "\n",
    "\n",
    "## 4 threads (4 timesteps each)\n",
    "\n",
    "Normal: 65.41894197463989\n",
    "High: 57.69831418991089\n",
    "\n",
    "\n",
    "## 4 threads (8 timesteps each)\n",
    "\n",
    "Normal: 123.06079506874084\n",
    "High: 114.89187097549438\n",
    "\n",
    "## 4 threads (48 timesteps each x 12 runs)\n",
    "\n",
    "High: 1742.1814894676208\n",
    "\n",
    "\n",
    "## 3 threads (48 timesteps each x 12 runs)\n",
    "\n",
    "High: 2203.766878604889\n",
    "\n",
    "## Eddypro GUI (1 run [12 days, 576 timesteps])\n",
    "\n",
    "High: 5400"
   ]
  },
  {
   "cell_type": "code",
   "execution_count": 24,
   "metadata": {},
   "outputs": [
    {
     "data": {
      "text/plain": [
       "4511040"
      ]
     },
     "execution_count": 24,
     "metadata": {},
     "output_type": "execute_result"
    }
   ],
   "source": [
    "48*4699*20"
   ]
  },
  {
   "cell_type": "code",
   "execution_count": 37,
   "metadata": {},
   "outputs": [
    {
     "name": "stdout",
     "output_type": "stream",
     "text": [
      "-0.667\n",
      "45.625\n",
      "15.556571619985279\n"
     ]
    },
    {
     "data": {
      "text/plain": [
       "<BarContainer object of 2 artists>"
      ]
     },
     "execution_count": 37,
     "metadata": {},
     "output_type": "execute_result"
    },
    {
     "data": {
      "image/png": "[encoded data removed]",
      "text/plain": [
       "<Figure size 640x480 with 1 Axes>"
      ]
     },
     "metadata": {},
     "output_type": "display_data"
    }
   ],
   "source": [
    "\n",
    "import matplotlib.pyplot as plt\n",
    "import numpy as np\n",
    "\n",
    "nSite_Days_Tested = 12\n",
    "Assumed_Days = 365\n",
    "\n",
    "\n",
    "EP_API = ((1742/nSite_Days_Tested/60)*Assumed_Days + Pre_4_core*Assumed_Days/30)/60\n",
    "EP_GUI = 5400/nSite_Days_Tested/60*Assumed_Days/60\n",
    "\n",
    "print(np.round((15-45)/45,3))\n",
    "print(EP_GUI)\n",
    "print(EP_API)\n",
    "\n",
    "plt.figure()\n",
    "plt.barh(['EddyPro GUI','EddyPro API'],[EP_GUI,EP_API])"
   ]
  }
 ],
 "metadata": {
  "kernelspec": {
   "display_name": ".venv",
   "language": "python",
   "name": "python3"
  },
  "language_info": {
   "codemirror_mode": {
    "name": "ipython",
    "version": 3
   },
   "file_extension": ".py",
   "mimetype": "text/x-python",
   "name": "python",
   "nbconvert_exporter": "python",
   "pygments_lexer": "ipython3",
   "version": "3.11.5"
  },
  "orig_nbformat": 4,
  "vscode": {
   "interpreter": {
    "hash": "ef0cd03416062db1397a6f4c064b2fd8fe41d0681561742315105bdf1dc915d9"
   }
  }
 },
 "nbformat": 4,
 "nbformat_minor": 2
}
