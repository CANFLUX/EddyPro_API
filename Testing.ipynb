{
 "cells": [
  {
   "attachments": {},
   "cell_type": "markdown",
   "metadata": {},
   "source": [
    "## Read .ghg metadata"
   ]
  },
  {
   "cell_type": "code",
   "execution_count": 85,
   "metadata": {},
   "outputs": [
    {
     "name": "stdout",
     "output_type": "stream",
     "text": [
      "\n",
      "\n",
      "Runtime:  0.0284736434618632  minutes\n"
     ]
    }
   ],
   "source": [
    "import preProcessing\n",
    "import importlib\n",
    "import time\n",
    "importlib.reload(preProcessing)\n",
    "T1 = time.time()\n",
    "\n",
    "# pr = preProcessing.read_ALL('BB',2022,6,processes=1,Test=2)\n",
    "for m in range(6,12):\n",
    "    pr = preProcessing.read_ALL('BBS',2023,m,processes=4,file_type='dat')#,copy_From=\"X:\\\\BBS\\\\EC_Station\\\\\",copy_tag='FLUX')\n",
    "# pr = preProcessing.read_ALL('BBS',2023,6,Test=4,processes=1,file_type='dat')\n",
    "T2 = time.time()\n",
    "\n",
    "print('\\n')\n",
    "print('Runtime: ',(T2-T1)/60,' minutes')\n"
   ]
  },
  {
   "cell_type": "code",
   "execution_count": 82,
   "metadata": {},
   "outputs": [
    {
     "name": "stdout",
     "output_type": "stream",
     "text": [
      "[60, 120]\n"
     ]
    }
   ],
   "source": [
    "\n",
    "bearing = 140\n",
    "width = 30\n",
    "mn_mx = [bearing+180-width,bearing+180+width]\n",
    "if mn_mx[0] <= 360 and mn_mx[1] <= 360:\n",
    "    filters=mn_mx\n",
    "elif mn_mx[0] > 360 and mn_mx[1] > 360:\n",
    "    filters=[mn_mx[0]-360,mn_mx[1]-360]\n",
    "else:\n",
    "    filters=[mn_mx[0],360,0,mn_mx[1]-360]\n",
    "print(filters)"
   ]
  },
  {
   "cell_type": "code",
   "execution_count": 10,
   "metadata": {},
   "outputs": [
    {
     "name": "stdout",
     "output_type": "stream",
     "text": [
      "Splitting into 2 batches due to update metadata\n",
      "Running EddyPro[████████████████████████████████████████████████████████████] 12/12\n",
      "\n",
      "Runtime:  58.52033663988114\n"
     ]
    }
   ],
   "source": [
    "import setupEP as eP\n",
    "import importlib\n",
    "import time\n",
    "importlib.reload(eP)\n",
    "\n",
    "########## Note - incomplete ghg or biomet files can crash program (preprocessing procedures should help prevent that by re-naming incomplete files)\n",
    "\n",
    "T1 = time.time()\n",
    "mR = eP.makeRun('ep_Templates/DefaultSettings.eddypro','BBS','test',Processes=6,priority = 'high priority')\n",
    "D = []\n",
    "# for i in range(12,15):\n",
    "    # print(i)2023-07-13 2100\n",
    "mR.runDates(['2023-06-14 00:00','2023-12-15 23:59'])\n",
    "T2 = time.time()\n",
    "print('\\n')\n",
    "print('Runtime: ',(T2-T1)/60)"
   ]
  },
  {
   "cell_type": "code",
   "execution_count": 47,
   "metadata": {},
   "outputs": [],
   "source": [
    "dout = mR.output_path+'eddypro_test_BBS_full_output_2024-02-14T1935_adv.csv'\n",
    "import pandas as pd\n",
    "df = pd.read_csv(dout,skiprows=[0,2],na_values=-9999,parse_dates={'TIMESTAMP':['date','time']},index_col='TIMESTAMP')\n",
    "df[['H','LE','co2_flux']].describe()\n",
    "\n",
    "mout = mR.output_path+'eddypro_test_BBS_biomet_2024-02-14T1935_adv.csv'\n",
    "\n",
    "bm = pd.read_csv(mout,skiprows=[1],na_values=-9999,parse_dates={'TIMESTAMP':['date','time']},index_col='TIMESTAMP')\n",
    "\n",
    "df = pd.concat([df,bm[['RH_1_1_1','canopy_height','Ta_1_1_1','Rg_1_1_1','LWIN_1_1_1']]],axis=1)"
   ]
  },
  {
   "cell_type": "code",
   "execution_count": 55,
   "metadata": {},
   "outputs": [
    {
     "data": {
      "text/plain": [
       "count    2419.000000\n",
       "mean       -6.204410\n",
       "std         9.103856\n",
       "min       -66.868200\n",
       "25%       -12.159250\n",
       "50%        -7.743760\n",
       "75%        -1.805355\n",
       "max       101.946000\n",
       "Name: co2_flux, dtype: float64"
      ]
     },
     "execution_count": 55,
     "metadata": {},
     "output_type": "execute_result"
    },
    {
     "data": {
      "image/png": "[encoded data removed]",
      "text/plain": [
       "<Figure size 640x480 with 1 Axes>"
      ]
     },
     "metadata": {},
     "output_type": "display_data"
    }
   ],
   "source": [
    "import matplotlib.pyplot as plt\n",
    "import numpy as np\n",
    "\n",
    "\n",
    "# df[['Rg_1_1_1','co2_flux']].sort_index()\n",
    "df.loc[df['qc_co2_flux']>0,'co2_flux']=np.nan\n",
    "df.loc[df['u*']<0.2,'co2_flux']=np.nan\n",
    "\n",
    "plt.scatter(df['Rg_1_1_1'],df['co2_flux'])\\\n",
    "\n",
    "df['co2_flux'].describe()"
   ]
  },
  {
   "cell_type": "markdown",
   "metadata": {},
   "source": [
    "# Speedtests\n",
    "\n",
    "All times in minutes\n",
    "\n",
    "### 4 threads (8 timesteps each)\n",
    "\n",
    "Normal priority: 2.05\n",
    "High priority: 1.91\n",
    "\n",
    "### 4 threads (48 timesteps each x 12 days)\n",
    "\n",
    "High priority: 29\n",
    "\n",
    "### Eddypro GUI (1 run [12 days, 576 timesteps])\n",
    "\n",
    "High priority: 90"
   ]
  }
 ],
 "metadata": {
  "kernelspec": {
   "display_name": ".venv",
   "language": "python",
   "name": "python3"
  },
  "language_info": {
   "codemirror_mode": {
    "name": "ipython",
    "version": 3
   },
   "file_extension": ".py",
   "mimetype": "text/x-python",
   "name": "python",
   "nbconvert_exporter": "python",
   "pygments_lexer": "ipython3",
   "version": "3.11.5"
  },
  "orig_nbformat": 4,
  "vscode": {
   "interpreter": {
    "hash": "ef0cd03416062db1397a6f4c064b2fd8fe41d0681561742315105bdf1dc915d9"
   }
  }
 },
 "nbformat": 4,
 "nbformat_minor": 2
}
