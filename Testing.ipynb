{
 "cells": [
  {
   "attachments": {},
   "cell_type": "markdown",
   "metadata": {},
   "source": [
    "## Read .ghg metadata"
   ]
  },
  {
   "cell_type": "code",
   "execution_count": 140,
   "metadata": {},
   "outputs": [
    {
     "name": "stdout",
     "output_type": "stream",
     "text": [
      "Preprocessing 2023 06[████████████████████████████████████████████████████████████] 784/784\n",
      "\n",
      "Preprocessing 2023 07[████████████████████████████████████████████████████████████] 1485/1485\n",
      "\n",
      "Preprocessing 2023 08[████████████████████████████████████████████████████████████] 1035/1035\n",
      "\n",
      "Preprocessing 2023 09[████████████████████████████████████████████████████████████] 739/739\n",
      "\n",
      "Preprocessing 2023 10[████████████████████████████████████████████████████████████] 1488/1488\n",
      "\n",
      "Preprocessing 2023 11[████████████████████████████████████████████████████████████] 1419/1419\n",
      "\n",
      "Preprocessing 2024 02[████████████████████████████████████████████████████████████] 910/910\n",
      "\n",
      "\n",
      "\n",
      "Runtime:  7.514209481080373  minutes\n"
     ]
    }
   ],
   "source": [
    "import preProcessing\n",
    "import importlib\n",
    "import time\n",
    "importlib.reload(preProcessing)\n",
    "T1 = time.time()\n",
    "\n",
    "for m in range(6,13):\n",
    "    pr = preProcessing.read_ALL('BBS',2023,m,processes=8,file_type='dat')\n",
    "\n",
    "for m in range(1,3):\n",
    "    pr = preProcessing.read_ALL('BBS',2024,m,processes=8,file_type='dat')#,copy_From=\"X:\\\\BBS\\\\EC_Station\\\\2024\\\\\",copy_tag='FLUX')\n",
    "\n",
    "# y = 2023\n",
    "# m = 6\n",
    "# pr = preProcessing.read_ALL('BB',y,m,processes=8,file_type='ghg',copy_From=f\"Y:\\\\BB\\\\raw\\\\{y}\\\\{str(m).zfill(2)}\\\\\")\n",
    "\n",
    "\n",
    "T2 = time.time()\n",
    "\n",
    "print('\\n')\n",
    "print('Runtime: ',(T2-T1)/60,' minutes')\n"
   ]
  },
  {
   "cell_type": "code",
   "execution_count": 6,
   "metadata": {},
   "outputs": [
    {
     "name": "stdout",
     "output_type": "stream",
     "text": [
      "Splitting into 4 batches due to update metadata\n",
      "Running EddyPro[████████████████████████████████████████████████████████████] 24/24\n",
      "\n",
      "Runtime:  57.93737214406331\n"
     ]
    }
   ],
   "source": [
    "import setupEP as eP\n",
    "import importlib\n",
    "import time\n",
    "importlib.reload(eP)\n",
    "\n",
    "########## Note - incomplete ghg or biomet files can crash program (preprocessing procedures should help prevent that by re-naming incomplete files)\n",
    "\n",
    "T1 = time.time()\n",
    "mR = eP.makeRun('ep_Templates/DefaultSettings.eddypro','BBS',Processes=6,priority = 'high priority')\n",
    "\n",
    "# mR.runDates(['2023-06-01 00:00','2023-06-30 23:59'])\n",
    "mR.runDates(['2023-01-01 00:00','2024-02-26 23:59'])\n",
    "T2 = time.time()\n",
    "print('\\n')\n",
    "print('Runtime: ',(T2-T1)/60)"
   ]
  },
  {
   "cell_type": "markdown",
   "metadata": {},
   "source": [
    "## Full Runtime\n",
    "\n",
    "### Reading & Writing all to Y: drive:\n",
    "\n",
    "1 Month of BB data (20 hz)\n",
    "\n",
    "**Preprocessing**: 3.91 minutes (8 cores)\n",
    "**Processing**: 56.92 minutes (6 cores)\n",
    "\n",
    "Total: **60.83** minutes\n",
    "\n",
    "### Reading & Preprocessing on Y: drive then writing EddyPro results locally:\n",
    "\n",
    "1 Month of BB data (20 hz)\n",
    "\n",
    "**Preprocessing**: 3.91 minutes (8 cores)\n",
    "**Processing**: 55.74 minutes (6 cores)\n",
    "\n",
    "Total: **59.65** minutes\n",
    "\n",
    "### Copying data to C then writing EddyPro results locally:\n",
    "\n",
    "1 Month of BB data (20 hz)\n",
    "\n",
    "**Preprocessing**: 6.30 minutes (1 core copy > 8 core preprocessing)\n",
    "\n",
    "**Processing**: 54.33 minutes (6 cores)\n",
    "\n",
    "Total: **60.3** minutes\n",
    "\n",
    "* Paralellizing data copy could shave enought time to get marginal benfit, but doesn't look to matter much"
   ]
  },
  {
   "cell_type": "code",
   "execution_count": 8,
   "metadata": {},
   "outputs": [
    {
     "data": {
      "text/html": [
       "<div>\n",
       "<style scoped>\n",
       "    .dataframe tbody tr th:only-of-type {\n",
       "        vertical-align: middle;\n",
       "    }\n",
       "\n",
       "    .dataframe tbody tr th {\n",
       "        vertical-align: top;\n",
       "    }\n",
       "\n",
       "    .dataframe thead th {\n",
       "        text-align: right;\n",
       "    }\n",
       "</style>\n",
       "<table border=\"1\" class=\"dataframe\">\n",
       "  <thead>\n",
       "    <tr style=\"text-align: right;\">\n",
       "      <th></th>\n",
       "      <th>wind_speed</th>\n",
       "      <th>u*</th>\n",
       "      <th>wind_dir</th>\n",
       "      <th>Ta_1_1_1</th>\n",
       "      <th>H</th>\n",
       "    </tr>\n",
       "    <tr>\n",
       "      <th>TIMESTAMP</th>\n",
       "      <th></th>\n",
       "      <th></th>\n",
       "      <th></th>\n",
       "      <th></th>\n",
       "      <th></th>\n",
       "    </tr>\n",
       "  </thead>\n",
       "  <tbody>\n",
       "    <tr>\n",
       "      <th>2023-08-16 22:30:00</th>\n",
       "      <td>0.736949</td>\n",
       "      <td>0.161242</td>\n",
       "      <td>221.6520</td>\n",
       "      <td>17.49740</td>\n",
       "      <td>-50.9067</td>\n",
       "    </tr>\n",
       "    <tr>\n",
       "      <th>2023-09-18 03:00:00</th>\n",
       "      <td>1.770440</td>\n",
       "      <td>0.280402</td>\n",
       "      <td>176.1550</td>\n",
       "      <td>12.04650</td>\n",
       "      <td>-20.8196</td>\n",
       "    </tr>\n",
       "    <tr>\n",
       "      <th>2023-10-09 16:00:00</th>\n",
       "      <td>1.775180</td>\n",
       "      <td>0.260063</td>\n",
       "      <td>33.1475</td>\n",
       "      <td>13.49510</td>\n",
       "      <td>-10.4223</td>\n",
       "    </tr>\n",
       "    <tr>\n",
       "      <th>2023-11-09 22:00:00</th>\n",
       "      <td>2.330620</td>\n",
       "      <td>0.354012</td>\n",
       "      <td>90.3921</td>\n",
       "      <td>7.34953</td>\n",
       "      <td>-36.9295</td>\n",
       "    </tr>\n",
       "    <tr>\n",
       "      <th>2023-11-10 18:30:00</th>\n",
       "      <td>3.288600</td>\n",
       "      <td>0.590838</td>\n",
       "      <td>57.9467</td>\n",
       "      <td>7.67253</td>\n",
       "      <td>-68.6438</td>\n",
       "    </tr>\n",
       "    <tr>\n",
       "      <th>2023-11-10 21:00:00</th>\n",
       "      <td>4.120500</td>\n",
       "      <td>0.753196</td>\n",
       "      <td>60.1926</td>\n",
       "      <td>7.77312</td>\n",
       "      <td>-98.8908</td>\n",
       "    </tr>\n",
       "    <tr>\n",
       "      <th>2023-11-10 21:30:00</th>\n",
       "      <td>5.073780</td>\n",
       "      <td>0.899394</td>\n",
       "      <td>61.2620</td>\n",
       "      <td>7.66576</td>\n",
       "      <td>-109.8260</td>\n",
       "    </tr>\n",
       "    <tr>\n",
       "      <th>2023-11-11 01:30:00</th>\n",
       "      <td>7.212230</td>\n",
       "      <td>1.231940</td>\n",
       "      <td>68.0636</td>\n",
       "      <td>8.34353</td>\n",
       "      <td>-130.9210</td>\n",
       "    </tr>\n",
       "  </tbody>\n",
       "</table>\n",
       "</div>"
      ],
      "text/plain": [
       "                     wind_speed        u*  wind_dir  Ta_1_1_1         H\n",
       "TIMESTAMP                                                              \n",
       "2023-08-16 22:30:00    0.736949  0.161242  221.6520  17.49740  -50.9067\n",
       "2023-09-18 03:00:00    1.770440  0.280402  176.1550  12.04650  -20.8196\n",
       "2023-10-09 16:00:00    1.775180  0.260063   33.1475  13.49510  -10.4223\n",
       "2023-11-09 22:00:00    2.330620  0.354012   90.3921   7.34953  -36.9295\n",
       "2023-11-10 18:30:00    3.288600  0.590838   57.9467   7.67253  -68.6438\n",
       "2023-11-10 21:00:00    4.120500  0.753196   60.1926   7.77312  -98.8908\n",
       "2023-11-10 21:30:00    5.073780  0.899394   61.2620   7.66576 -109.8260\n",
       "2023-11-11 01:30:00    7.212230  1.231940   68.0636   8.34353 -130.9210"
      ]
     },
     "execution_count": 8,
     "metadata": {},
     "output_type": "execute_result"
    },
    {
     "data": {
      "image/png": "[encoded data removed]",
      "text/plain": [
       "<Figure size 640x480 with 1 Axes>"
      ]
     },
     "metadata": {},
     "output_type": "display_data"
    }
   ],
   "source": [
    "import matplotlib.pyplot as plt\n",
    "import numpy as np\n",
    "import pandas as pd\n",
    "\n",
    "df = pd.read_csv(mR.all_outputs['fulloutput'],skiprows=[0,2],na_values=-9999,parse_dates={'TIMESTAMP':['date','time']},index_col='TIMESTAMP')\n",
    "bm = pd.read_csv(mR.all_outputs['biomet'],skiprows=[1],na_values=-9999,parse_dates={'TIMESTAMP':['date','time']},index_col='TIMESTAMP')\n",
    "\n",
    "df = pd.concat([df,bm[['RH_1_1_1','Ta_1_1_1','Rg_1_1_1','LWIN_1_1_1']]],axis=1)\n",
    "df.loc[df['qc_co2_flux']>0,'co2_flux']=np.nan\n",
    "df.loc[df['u*']<0.15,'co2_flux']=np.nan\n",
    "\n",
    "plt.scatter(df['H'],df['co2_flux'])\n",
    "\n",
    "df.loc[df['co2_flux']>20,['wind_speed','u*','wind_dir','Ta_1_1_1','H']]\n",
    "\n",
    "# df['co2_flux'].quantile([.05,.95])\n",
    "\n",
    "# plt.scatter(df['co2_flux'],(df['co2_flux']-df['co2_flux'].mean())/df['co2_flux'].std())\n",
    "# bm[bm.duplicated(keep=False)].sort_index()"
   ]
  },
  {
   "cell_type": "markdown",
   "metadata": {},
   "source": [
    "# Speedtests\n",
    "\n",
    "All times in minutes\n",
    "\n",
    "### 4 threads (8 timesteps each)\n",
    "\n",
    "Normal priority: 2.05\n",
    "High priority: 1.91\n",
    "\n",
    "### 4 threads (48 timesteps each x 12 days)\n",
    "\n",
    "High priority: 29\n",
    "\n",
    "### Eddypro GUI (1 run [12 days, 576 timesteps])\n",
    "\n",
    "High priority: 90"
   ]
  }
 ],
 "metadata": {
  "kernelspec": {
   "display_name": ".venv",
   "language": "python",
   "name": "python3"
  },
  "language_info": {
   "codemirror_mode": {
    "name": "ipython",
    "version": 3
   },
   "file_extension": ".py",
   "mimetype": "text/x-python",
   "name": "python",
   "nbconvert_exporter": "python",
   "pygments_lexer": "ipython3",
   "version": "3.11.5"
  },
  "orig_nbformat": 4,
  "vscode": {
   "interpreter": {
    "hash": "ef0cd03416062db1397a6f4c064b2fd8fe41d0681561742315105bdf1dc915d9"
   }
  }
 },
 "nbformat": 4,
 "nbformat_minor": 2
}
