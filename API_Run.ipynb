{
 "cells": [
  {
   "cell_type": "markdown",
   "metadata": {},
   "source": [
    "# EddyPro API\n",
    "\n",
    "This notebook gives an outline for working with the API.\n",
    "\n",
    "* First step is to define your input primary parameters.  You need to give a siteID, everything else is *optional*.\n",
    "\n",
    "    * kwargs (dict of all optional settings):\\\n",
    "        * sourceDir: if not provided, assumes data are already in Outputs folder\n",
    "        * dateRange (if not provided, will run all files in the current year)\n",
    "        * fileType (defaults to .ghg) must specify otherwise for \n",
    "        * metadataTemplate (only required for .dat files)\n",
    "\n"
   ]
  },
  {
   "cell_type": "code",
   "execution_count": 3,
   "metadata": {},
   "outputs": [],
   "source": [
    "# Example run for BB on one day in 2024\n",
    "siteID = 'BB'\n",
    "kwargs = {\n",
    "    'dateRange':['2024-04-01','2024-04-02'],\n",
    "    'sourceDir':\"C:/highfreq/BB\"\n",
    "}\n",
    "\n",
    "# # Example run for All BBS data\n",
    "siteID = 'BBS'\n",
    "kwargs = {\n",
    "    'dateRange':['2023-06-01','2024-05-31'],\n",
    "    # 'sourceDir':\"X:/BBS/EC_Station/2024/20240516/\",\n",
    "    'searchTag':\"BBS.FLUX\",\n",
    "    'timeShift':30,\n",
    "    'fileType':'dat',\n",
    "    'metaDataTemplate':'C:/highfreq/BBS/TOA5_BBS.FLUX_2023_06_14_1500.metadata',\n",
    "}\n",
    "\n",
    "\n",
    "# Cospectral correction options\n",
    "hf_meth = {\n",
    "    'Moncrieff et al. (1997)':'1',\n",
    "    'Horst (1997)':'2',\n",
    "    'Ibrom et al. (2007)':'3',\n",
    "    'Fratini et al. (2012)':'4', # Recommended for closed path systems, when sufficient data (>1 month) are available\n",
    "    'Massman (2000, 2001)':'5'\n",
    "}\n",
    "\n",
    "if siteID == 'BBS':\n",
    "    userDefinedEddyProSettings = {\n",
    "        'Project':{\n",
    "            'hf_meth':'1'\n",
    "            },\n",
    "        'RawProcess_Settings':{\n",
    "            'v_offset':0.08,\n",
    "            'u_offset':-0.04\n",
    "            },\n",
    "        }\n",
    "    kwargs['userDefinedEddyProSettings'] = userDefinedEddyProSettings\n",
    "\n",
    "if 'dateRange' not in kwargs:\n",
    "    kwargs['dateRange'] = None\n"
   ]
  },
  {
   "cell_type": "markdown",
   "metadata": {},
   "source": [
    "# Check the configurations"
   ]
  },
  {
   "cell_type": "code",
   "execution_count": 4,
   "metadata": {},
   "outputs": [
    {
     "name": "stdout",
     "output_type": "stream",
     "text": [
      "{'dbase_metadata': {'timestamp': {'name': 'clean_tv', 'dtype': 'float64', 'precision': 8, 'base': 719529, 'base_unit': 'D', 'resolution': '30min'}, 'traces': {'dtype': 'float32', 'precision': 4}}, 'stage': {'Second': 'Clean/SecondStage', 'Third': 'Clean/ThirdStage', 'Third_Default': 'Clean/ThirdStage_Default_Ustar', 'Third_Advanced': 'Clean/ThirdStage_Full_Ustar_Uncertainty', 'Met': 'Met', 'Flux': 'Flux', 'Manual': 'Met/Manual'}, 'rootDir': {'Database': 'C:/Database/', 'Outputs': 'C:/temp/', 'Datadump': 'X:/'}, 'tasks': {'biometData': {'formatting': {'units_in_header': True, 'na_value': -9999, 'time_vectors': {'timestamp': {'output_name': 'TIMESTAMP_1', 'fmt': '%Y-%m-%d %H%M', 'units': 'yyyy-mm-dd HHMM'}}}, 'traces': {'LW_IN_1_1_1': {'units': 'W+1m-2', 'output_name': 'LWIN_1_1_1'}, 'PA_1_1_1': {'units': 'kPa', 'output_name': 'Pa_1_1_1'}, 'PPFD_IN_1_1_1': {'units': 'umol+1m-2s-1', 'output_name': 'PPFD_1_1_1'}, 'RH_1_1_1': {'units': '%', 'output_name': 'RH_1_1_1'}, 'SW_IN_1_1_1': {'units': 'W+1m-2', 'output_name': 'Rg_1_1_1'}, 'TA_1_1_1': {'units': 'degC', 'output_name': 'Ta_1_1_1'}}}, 'dynamicMetadata': {'traces': {'canopy_height': {'units': 'm', 'output_name': 'canopy_height'}}, 'formatting': {'resample': {'freq': 'D', 'agg': 'mean'}, 'units_in_header': False, 'na_value': None, 'time_vectors': {'date': {'output_name': 'date', 'fmt': '%Y-%m-%d', 'units': 'yyyy-mm-dd'}, 'time': {'output_name': 'time', 'fmt': '%H:%M', 'units': 'HH:MM'}}}}}}\n",
      "Initializing tasks for BBS over: ['2023-06-01 00:00' '2024-05-31 00:00']\n",
      "PPFD_IN_1_1_1 missing, outputting NaNs\n",
      "See output: C:/temp//BBS_biometData_202306010000_202405310000.csv\n",
      "See output: C:/temp//BBS_dynamicMetadata_202306010000_202405310000.csv\n",
      "All tasks completed successfully\n"
     ]
    },
    {
     "data": {
      "text/plain": [
       "{'Biomet.Net': 'C:/Biomet.Net/', 'Database': 'C:/Database/'}"
      ]
     },
     "execution_count": 4,
     "metadata": {},
     "output_type": "execute_result"
    }
   ],
   "source": [
    "import eddyProAPI\n",
    "import importlib\n",
    "importlib.reload(eddyProAPI)\n",
    "kwargs['queryBiometDatabase'] = True\n",
    "eP = eddyProAPI.eddyProAPI(siteID,**kwargs)\n",
    "eP.config['BiometUser']"
   ]
  },
  {
   "cell_type": "markdown",
   "metadata": {},
   "source": [
    "## Run PreProcessing"
   ]
  },
  {
   "cell_type": "code",
   "execution_count": 5,
   "metadata": {},
   "outputs": [
    {
     "name": "stdout",
     "output_type": "stream",
     "text": [
      "{'dbase_metadata': {'timestamp': {'name': 'clean_tv', 'dtype': 'float64', 'precision': 8, 'base': 719529, 'base_unit': 'D', 'resolution': '30min'}, 'traces': {'dtype': 'float32', 'precision': 4}}, 'stage': {'Second': 'Clean/SecondStage', 'Third': 'Clean/ThirdStage', 'Third_Default': 'Clean/ThirdStage_Default_Ustar', 'Third_Advanced': 'Clean/ThirdStage_Full_Ustar_Uncertainty', 'Met': 'Met', 'Flux': 'Flux', 'Manual': 'Met/Manual'}, 'rootDir': {'Database': 'C:/Database/', 'Outputs': 'C:/temp/', 'Datadump': 'X:/'}, 'tasks': {'biometData': {'formatting': {'units_in_header': True, 'na_value': -9999, 'time_vectors': {'timestamp': {'output_name': 'TIMESTAMP_1', 'fmt': '%Y-%m-%d %H%M', 'units': 'yyyy-mm-dd HHMM'}}}, 'traces': {'LW_IN_1_1_1': {'units': 'W+1m-2', 'output_name': 'LWIN_1_1_1'}, 'PA_1_1_1': {'units': 'kPa', 'output_name': 'Pa_1_1_1'}, 'PPFD_IN_1_1_1': {'units': 'umol+1m-2s-1', 'output_name': 'PPFD_1_1_1'}, 'RH_1_1_1': {'units': '%', 'output_name': 'RH_1_1_1'}, 'SW_IN_1_1_1': {'units': 'W+1m-2', 'output_name': 'Rg_1_1_1'}, 'TA_1_1_1': {'units': 'degC', 'output_name': 'Ta_1_1_1'}}}, 'dynamicMetadata': {'traces': {'canopy_height': {'units': 'm', 'output_name': 'canopy_height'}}, 'formatting': {'resample': {'freq': 'D', 'agg': 'mean'}, 'units_in_header': False, 'na_value': None, 'time_vectors': {'date': {'output_name': 'date', 'fmt': '%Y-%m-%d', 'units': 'yyyy-mm-dd'}, 'time': {'output_name': 'time', 'fmt': '%H:%M', 'units': 'HH:MM'}}}}}}\n",
      "Initializing tasks for BBS over: ['2023-06-01 00:00' '2024-05-31 00:00']\n",
      "PPFD_IN_1_1_1 missing, outputting NaNs\n",
      "See output: C:/temp//BBS_biometData_202306010000_202405310000.csv\n",
      "See output: C:/temp//BBS_dynamicMetadata_202306010000_202405310000.csv\n",
      "All tasks completed successfully\n",
      "Searching C:/temp//BBS/raw/2024\\04\n",
      "[████████████████████████████████████████████████████████████] 598/598\n",
      "\n",
      "Searching C:/temp//BBS/raw/2024\\05\n",
      "[████████████████████████████████████████████████████████████] 740/740\n",
      "\n",
      "Files Search Complete, time elapsed:  2.476141929626465\n",
      "Reading Data\n",
      "Reading Complete, time elapsed:  0.09538102149963379\n"
     ]
    }
   ],
   "source": [
    "pre = eddyProAPI.preProcessing(siteID,**kwargs)"
   ]
  },
  {
   "cell_type": "markdown",
   "metadata": {},
   "source": [
    "# Run EddyPro in Parallel over date range"
   ]
  },
  {
   "cell_type": "code",
   "execution_count": 6,
   "metadata": {},
   "outputs": [
    {
     "name": "stdout",
     "output_type": "stream",
     "text": [
      "{'dbase_metadata': {'timestamp': {'name': 'clean_tv', 'dtype': 'float64', 'precision': 8, 'base': 719529, 'base_unit': 'D', 'resolution': '30min'}, 'traces': {'dtype': 'float32', 'precision': 4}}, 'stage': {'Second': 'Clean/SecondStage', 'Third': 'Clean/ThirdStage', 'Third_Default': 'Clean/ThirdStage_Default_Ustar', 'Third_Advanced': 'Clean/ThirdStage_Full_Ustar_Uncertainty', 'Met': 'Met', 'Flux': 'Flux', 'Manual': 'Met/Manual'}, 'rootDir': {'Database': 'C:/Database/', 'Outputs': 'C:/temp/', 'Datadump': 'X:/'}, 'tasks': {'biometData': {'formatting': {'units_in_header': True, 'na_value': -9999, 'time_vectors': {'timestamp': {'output_name': 'TIMESTAMP_1', 'fmt': '%Y-%m-%d %H%M', 'units': 'yyyy-mm-dd HHMM'}}}, 'traces': {'LW_IN_1_1_1': {'units': 'W+1m-2', 'output_name': 'LWIN_1_1_1'}, 'PA_1_1_1': {'units': 'kPa', 'output_name': 'Pa_1_1_1'}, 'PPFD_IN_1_1_1': {'units': 'umol+1m-2s-1', 'output_name': 'PPFD_1_1_1'}, 'RH_1_1_1': {'units': '%', 'output_name': 'RH_1_1_1'}, 'SW_IN_1_1_1': {'units': 'W+1m-2', 'output_name': 'Rg_1_1_1'}, 'TA_1_1_1': {'units': 'degC', 'output_name': 'Ta_1_1_1'}}}, 'dynamicMetadata': {'traces': {'canopy_height': {'units': 'm', 'output_name': 'canopy_height'}}, 'formatting': {'resample': {'freq': 'D', 'agg': 'mean'}, 'units_in_header': False, 'na_value': None, 'time_vectors': {'date': {'output_name': 'date', 'fmt': '%Y-%m-%d', 'units': 'yyyy-mm-dd'}, 'time': {'output_name': 'time', 'fmt': '%H:%M', 'units': 'HH:MM'}}}}}}\n",
      "Initializing tasks for BBS over: ['2023-06-01 00:00' '2024-05-31 00:00']\n",
      "PPFD_IN_1_1_1 missing, outputting NaNs\n",
      "See output: C:/temp//BBS_biometData_202306010000_202405310000.csv\n",
      "See output: C:/temp//BBS_dynamicMetadata_202306010000_202405310000.csv\n",
      "All tasks completed successfully\n",
      "Creating C:\\MM_Py\\EddyPro_API\\temp\\group_1_rp_A.eddypro for 335 files\n",
      "9\n",
      "Creating C:\\MM_Py\\EddyPro_API\\temp\\group_1_rp_B.eddypro for 334 files\n",
      "9\n",
      "Creating C:\\MM_Py\\EddyPro_API\\temp\\group_1_rp_C.eddypro for 334 files\n",
      "9\n",
      "Creating C:\\MM_Py\\EddyPro_API\\temp\\group_1_rp_D.eddypro for 335 files\n",
      "9\n",
      "Creating C:\\MM_Py\\EddyPro_API\\temp\\group_1_fcc.eddypro for 1338 files\n",
      "9\n",
      "Initiating EddyPro Runs for group 1 on 4 cores at normal priority\n",
      "['C:\\\\MM_Py\\\\EddyPro_API\\\\temp\\\\group_1_rp_A.eddypro', 'C:\\\\MM_Py\\\\EddyPro_API\\\\temp\\\\group_1_rp_B.eddypro', 'C:\\\\MM_Py\\\\EddyPro_API\\\\temp\\\\group_1_rp_C.eddypro', 'C:\\\\MM_Py\\\\EddyPro_API\\\\temp\\\\group_1_rp_D.eddypro']\n",
      "[............................................................] 0/4\r"
     ]
    }
   ],
   "source": [
    "\n",
    "import eddyProAPI\n",
    "import importlib\n",
    "importlib.reload(eddyProAPI)\n",
    "\n",
    "\n",
    "eP = eddyProAPI.runEP(siteID,**kwargs)"
   ]
  }
 ],
 "metadata": {
  "kernelspec": {
   "display_name": ".venv",
   "language": "python",
   "name": "python3"
  },
  "language_info": {
   "codemirror_mode": {
    "name": "ipython",
    "version": 3
   },
   "file_extension": ".py",
   "mimetype": "text/x-python",
   "name": "python",
   "nbconvert_exporter": "python",
   "pygments_lexer": "ipython3",
   "version": "3.11.5"
  },
  "orig_nbformat": 4,
  "vscode": {
   "interpreter": {
    "hash": "ef0cd03416062db1397a6f4c064b2fd8fe41d0681561742315105bdf1dc915d9"
   }
  }
 },
 "nbformat": 4,
 "nbformat_minor": 2
}
