{
 "cells": [
  {
   "cell_type": "markdown",
   "metadata": {},
   "source": [
    "# EddyPro API\n",
    "\n",
    "This notebook gives an outline for working with the API.\n",
    "\n",
    "* First step is to define your input primary parameters.  You need to give a siteID, everything else is *optional*.\n",
    "\n",
    "    * kwargs (dict of all optional settings):\\\n",
    "        * sourceDir: if not provided, assumes data are already in Outputs folder\n",
    "        * dateRange (if not provided, will run all files in the current year)\n",
    "        * fileType (defaults to .ghg) must specify otherwise for \n",
    "        * metadataTemplate (only required for .dat files)\n",
    "\n"
   ]
  },
  {
   "cell_type": "code",
   "execution_count": 1,
   "metadata": {},
   "outputs": [],
   "source": [
    "# def makeUserConfig()\n",
    "\n",
    "\n",
    "# Example run for BB on one day in 2024\n",
    "siteID = 'BB'\n",
    "kwargs = {\n",
    "    'dateRange':['2024-04-01','2024-04-02'],\n",
    "    'sourceDir':\"Y:/BB/raw/2024/\",\n",
    "    # 'reset':True,\n",
    "    'metaDataUpdates':'Y:/BB/Manual_Metadata_Updates.csv',\n",
    "    'priority':'High Priority'\n",
    "}\n",
    "\n",
    "# # # Example run for All BBS data from the Datadump Folder 20240516\n",
    "# siteID = 'BBS'\n",
    "# kwargs = {\n",
    "#     'dateRange':['2023-06-01','2024-05-31'],\n",
    "#     'sourceDir':\"X:/BBS/EC_Station/2024/20240516/\",\n",
    "#     'searchTag':\"BBS.FLUX\",\n",
    "#     'timeShift':30,\n",
    "#     'fileType':'dat',\n",
    "#     'metaDataTemplate':'Y:/BBS/TOA5_BBS.FLUX_2023_06_14_1500.metadata',\n",
    "# }\n",
    "\n",
    "\n",
    "# # Cospectral correction options\n",
    "# hf_meth = {\n",
    "#     'Moncrieff et al. (1997)':'1',\n",
    "#     'Horst (1997)':'2',\n",
    "#     'Ibrom et al. (2007)':'3',\n",
    "#     'Fratini et al. (2012)':'4', # Recommended for closed path systems, when sufficient data (>1 month) are available\n",
    "#     'Massman (2000, 2001)':'5'\n",
    "# }\n",
    "\n",
    "# if siteID == 'BBS':\n",
    "#     userDefinedEddyProSettings = {\n",
    "#         'Project':{\n",
    "#             'hf_meth':'1'\n",
    "#             },\n",
    "#         'RawProcess_Settings':{\n",
    "#             'v_offset':0.08,\n",
    "#             'u_offset':-0.04\n",
    "#             },\n",
    "#         }\n",
    "#     kwargs['userDefinedEddyProSettings'] = userDefinedEddyProSettings\n",
    "\n",
    "# if 'dateRange' not in kwargs:\n",
    "#     kwargs['dateRange'] = None\n"
   ]
  },
  {
   "cell_type": "markdown",
   "metadata": {},
   "source": [
    "# Check the configurations"
   ]
  },
  {
   "cell_type": "code",
   "execution_count": 6,
   "metadata": {},
   "outputs": [
    {
     "name": "stdout",
     "output_type": "stream",
     "text": [
      "Deleting contents of : C:/Users/labuser/Temp//BB/metadata/\n",
      "Deleting contents of : C:/Users/labuser/Temp//BB/raw/\n"
     ]
    },
    {
     "data": {
      "text/plain": [
       "{'Biomet.Net': 'C:/Users/labuser/Biomet.net/', 'Database': 'W:/'}"
      ]
     },
     "execution_count": 6,
     "metadata": {},
     "output_type": "execute_result"
    }
   ],
   "source": [
    "# import eddyProAPI\n",
    "# import importlib\n",
    "# importlib.reload(eddyProAPI)\n",
    "# # kwargs['siteID'] = siteID\n",
    "# kwargs = {\n",
    "#     'siteID':'BB',\n",
    "#     'dateRange':['2024-04-01','2024-04-15'],\n",
    "#     'sourceDir':\"Y:/BB/raw/2024/04\",\n",
    "#     'reset':True,\n",
    "#     'metaDataUpdates':'Y:/BB/Manual_Metadata_Updates.csv',\n",
    "#     'priority':'High Priority'\n",
    "# }\n",
    "# kwargs['userDefinedEddyProSettings'] = {\n",
    "#         'Project':{\n",
    "#             'hf_meth':'4'\n",
    "#             }}\n",
    "\n",
    "# eP = eddyProAPI.eddyProAPI(**kwargs)\n",
    "# eP.config['BiometUser']"
   ]
  },
  {
   "cell_type": "markdown",
   "metadata": {},
   "source": [
    "## Run PreProcessing"
   ]
  },
  {
   "cell_type": "code",
   "execution_count": 22,
   "metadata": {},
   "outputs": [
    {
     "name": "stdout",
     "output_type": "stream",
     "text": [
      "Deleting contents of : C:/Users/labuser/Temp//BB/metadata/\n",
      "Deleting contents of : C:/Users/labuser/Temp//BB/raw/\n",
      "Initializing tasks for BB over: ['2024-04-15 00:00' '2024-04-17 00:00']\n",
      "See output: C:/Users/labuser/Temp//BB/metadata//BB_biometData_202404150000_202404170000.csv\n",
      "canopy_height missing, outputting NaNs\n",
      "See output: C:/Users/labuser/Temp//BB/metadata//BB_dynamicMetadata_202404150000_202404170000.csv\n",
      "All tasks completed successfully\n",
      "Searching Y:/BB/raw/2024/04\n",
      "[████████████████████████████████████████████████████████████] 1443/1443\n",
      "\n",
      "Files Search Complete, time elapsed:  8.432081460952759\n",
      "Reading Data\n",
      "[████████████████████████████████████████████████████████████] 94/94\n",
      "\n",
      "Reading Complete, time elapsed:  17.335827827453613\n",
      "Applying Manual Metadata Adjustments\n",
      "Manual Metadata Adjustments Complete\n",
      "Grouping by Configuration\n",
      "Writing Metadata Files\n",
      "Applying Filters:\n",
      "Sonic_Filter {'condition_1': {'variables': ['u', 'v', 'w'], 'measure_type': None, 'filters': {'min': 'Data.loc[groupIX,variables]<-100', 'max': 'Data.loc[groupIX,variables]>100'}}} \n",
      "\n"
     ]
    }
   ],
   "source": [
    "import eddyProAPI\n",
    "import importlib\n",
    "importlib.reload(eddyProAPI)\n",
    "# kwargs['siteID'] = siteID\n",
    "kwargs = {\n",
    "    'siteID':'BB',\n",
    "    'dateRange':['2024-04-15','2024-04-17'],\n",
    "    'sourceDir':\"Y:/BB/raw/2024/04\",\n",
    "    'reset':True,\n",
    "    'metaDataUpdates':'Y:/BB/Manual_Metadata_Updates.csv',\n",
    "    'priority':'High Priority',\n",
    "    'biometUser':True\n",
    "}\n",
    "kwargs['userDefinedEddyProSettings'] = {\n",
    "        'Project':{\n",
    "            'hf_meth':'4'\n",
    "            }}\n",
    "pre = eddyProAPI.preProcessing(**kwargs)"
   ]
  },
  {
   "cell_type": "markdown",
   "metadata": {},
   "source": [
    "# Run EddyPro in Parallel over date range"
   ]
  },
  {
   "cell_type": "code",
   "execution_count": 19,
   "metadata": {},
   "outputs": [
    {
     "name": "stdout",
     "output_type": "stream",
     "text": [
      "fileInventory {'parse_dates': [0], 'index_col': [0], 'filepath_or_buffer': 'C:/Users/labuser/Temp//BB/metadata/fileInventory.csv'}\n",
      "rawDataStatistics {'parse_dates': [0], 'index_col': [0], 'header': [0, 1, 2], 'filepath_or_buffer': 'C:/Users/labuser/Temp//BB/metadata/rawDataStatistics.csv'}\n",
      "metaDataValues {'parse_dates': [0], 'index_col': [0], 'header': [0, 1], 'filepath_or_buffer': 'C:/Users/labuser/Temp//BB/metadata/metaDataValues.csv'}\n",
      "configurationGroups {'index_col': [0], 'header': [0, 1, 2], 'filepath_or_buffer': 'C:/Users/labuser/Temp//BB/metadata/configurationGroups.csv'}\n",
      "Warning, available data in group 1 is below recommended size for selected settings.\n",
      "Creating c:\\Users\\labuser\\EddyPro_API\\temp\\group_1_rp_A.eddypro for 70 files\n",
      "Creating c:\\Users\\labuser\\EddyPro_API\\temp\\group_1_fcc.eddypro for 70 files\n",
      "Warning, available data in group 2 is below recommended size for selected settings.\n",
      "Creating c:\\Users\\labuser\\EddyPro_API\\temp\\group_2_rp_A.eddypro for 24 files\n",
      "Creating c:\\Users\\labuser\\EddyPro_API\\temp\\group_2_fcc.eddypro for 24 files\n",
      "Initiating EddyPro Runs for group on 2 cores at High Priority priority\n",
      "[████████████████████████████████████████████████████████████] 2/2\n",
      "\n",
      "CompletedProcess(args=['copy', 'C:\\\\Program Files\\\\LI-COR\\\\EddyPro-7.0.9\\\\bin', 'c:\\\\Users\\\\labuser\\\\EddyPro_API\\\\temp\\\\group_1\\\\12600\\\\bin'], returncode=0, stdout=b'C:\\\\Program Files\\\\LI-COR\\\\EddyPro-7.0.9\\\\bin\\\\7z.dll\\r\\nC:\\\\Program Files\\\\LI-COR\\\\EddyPro-7.0.9\\\\bin\\\\7z.exe\\r\\nC:\\\\Program Files\\\\LI-COR\\\\EddyPro-7.0.9\\\\bin\\\\eddypro_fcc.exe\\r\\nC:\\\\Program Files\\\\LI-COR\\\\EddyPro-7.0.9\\\\bin\\\\eddypro_rp.exe\\r\\nC:\\\\Program Files\\\\LI-COR\\\\EddyPro-7.0.9\\\\bin\\\\libgcc_s_seh-1.dll\\r\\nC:\\\\Program Files\\\\LI-COR\\\\EddyPro-7.0.9\\\\bin\\\\libgfortran-5.dll\\r\\nC:\\\\Program Files\\\\LI-COR\\\\EddyPro-7.0.9\\\\bin\\\\libquadmath-0.dll\\r\\nC:\\\\Program Files\\\\LI-COR\\\\EddyPro-7.0.9\\\\bin\\\\libwinpthread-1.dll\\r\\nC:\\\\Program Files\\\\LI-COR\\\\EddyPro-7.0.9\\\\bin\\\\pausep.exe\\r\\n        9 file(s) copied.\\r\\n', stderr=b'')\n",
      "CompletedProcess(args=['move', 'c:\\\\Users\\\\labuser\\\\EddyPro_API\\\\temp\\\\group_1_fcc.eddypro', 'c:\\\\Users\\\\labuser\\\\EddyPro_API\\\\temp\\\\group_1\\\\12600\\\\ini\\\\processing.eddypro'], returncode=0, stdout=b'        1 file(s) moved.\\r\\n', stderr=b'')\n",
      "CompletedProcess(args=['copy', 'c:\\\\Users\\\\labuser\\\\EddyPro_API\\\\temp\\\\group_1\\\\12600\\\\bin\\\\fcc_processing_log.txt', 'c:\\\\Users\\\\labuser\\\\EddyPro_API\\\\temp\\\\group_1_fcc_log.txt'], returncode=0, stdout=b'        1 file(s) copied.\\r\\n', stderr=b'')\n",
      "CompletedProcess(args=['copy', 'C:\\\\Program Files\\\\LI-COR\\\\EddyPro-7.0.9\\\\bin', 'c:\\\\Users\\\\labuser\\\\EddyPro_API\\\\temp\\\\group_2\\\\12600\\\\bin'], returncode=0, stdout=b'C:\\\\Program Files\\\\LI-COR\\\\EddyPro-7.0.9\\\\bin\\\\7z.dll\\r\\nC:\\\\Program Files\\\\LI-COR\\\\EddyPro-7.0.9\\\\bin\\\\7z.exe\\r\\nC:\\\\Program Files\\\\LI-COR\\\\EddyPro-7.0.9\\\\bin\\\\eddypro_fcc.exe\\r\\nC:\\\\Program Files\\\\LI-COR\\\\EddyPro-7.0.9\\\\bin\\\\eddypro_rp.exe\\r\\nC:\\\\Program Files\\\\LI-COR\\\\EddyPro-7.0.9\\\\bin\\\\libgcc_s_seh-1.dll\\r\\nC:\\\\Program Files\\\\LI-COR\\\\EddyPro-7.0.9\\\\bin\\\\libgfortran-5.dll\\r\\nC:\\\\Program Files\\\\LI-COR\\\\EddyPro-7.0.9\\\\bin\\\\libquadmath-0.dll\\r\\nC:\\\\Program Files\\\\LI-COR\\\\EddyPro-7.0.9\\\\bin\\\\libwinpthread-1.dll\\r\\nC:\\\\Program Files\\\\LI-COR\\\\EddyPro-7.0.9\\\\bin\\\\pausep.exe\\r\\n        9 file(s) copied.\\r\\n', stderr=b'')\n",
      "CompletedProcess(args=['move', 'c:\\\\Users\\\\labuser\\\\EddyPro_API\\\\temp\\\\group_2_fcc.eddypro', 'c:\\\\Users\\\\labuser\\\\EddyPro_API\\\\temp\\\\group_2\\\\12600\\\\ini\\\\processing.eddypro'], returncode=0, stdout=b'        1 file(s) moved.\\r\\n', stderr=b'')\n",
      "CompletedProcess(args=['copy', 'c:\\\\Users\\\\labuser\\\\EddyPro_API\\\\temp\\\\group_2\\\\12600\\\\bin\\\\fcc_processing_log.txt', 'c:\\\\Users\\\\labuser\\\\EddyPro_API\\\\temp\\\\group_2_fcc_log.txt'], returncode=0, stdout=b'        1 file(s) copied.\\r\\n', stderr=b'')\n",
      "['c:\\\\Users\\\\labuser\\\\EddyPro_API\\\\temp\\\\group_1\\\\13188', 'c:\\\\Users\\\\labuser\\\\EddyPro_API\\\\temp\\\\group_2\\\\11924', 'c:\\\\Users\\\\labuser\\\\EddyPro_API\\\\temp\\\\group_1\\\\12600', 'c:\\\\Users\\\\labuser\\\\EddyPro_API\\\\temp\\\\group_2\\\\12600']\n",
      "c:\\Users\\labuser\\EddyPro_API\\temp\\group_1\\13188\n",
      "c:\\Users\\labuser\\EddyPro_API\\temp\\group_2\\11924\n",
      "c:\\Users\\labuser\\EddyPro_API\\temp\\group_1\\12600\n",
      "c:\\Users\\labuser\\EddyPro_API\\temp\\group_2\\12600\n",
      "CompletedProcess(args=['move', 'c:\\\\Users\\\\labuser\\\\EddyPro_API\\\\temp', 'C:\\\\Users\\\\labuser\\\\Temp\\\\BB\\\\eddyProAPIOutputs'], returncode=0, stdout=b'        1 dir(s) moved.\\r\\n', stderr=b'')\n"
     ]
    }
   ],
   "source": [
    "\n",
    "import eddyProAPI\n",
    "import importlib\n",
    "importlib.reload(eddyProAPI)\n",
    "\n",
    "kwargs['dumpToBiometDatabase']=True\n",
    "if kwargs['reset'] == True:\n",
    "    kwargs['reset'] = False\n",
    "eP = eddyProAPI.runEP(**kwargs)"
   ]
  }
 ],
 "metadata": {
  "kernelspec": {
   "display_name": ".venv",
   "language": "python",
   "name": "python3"
  },
  "language_info": {
   "codemirror_mode": {
    "name": "ipython",
    "version": 3
   },
   "file_extension": ".py",
   "mimetype": "text/x-python",
   "name": "python",
   "nbconvert_exporter": "python",
   "pygments_lexer": "ipython3",
   "version": "3.11.5"
  },
  "orig_nbformat": 4,
  "vscode": {
   "interpreter": {
    "hash": "ef0cd03416062db1397a6f4c064b2fd8fe41d0681561742315105bdf1dc915d9"
   }
  }
 },
 "nbformat": 4,
 "nbformat_minor": 2
}
