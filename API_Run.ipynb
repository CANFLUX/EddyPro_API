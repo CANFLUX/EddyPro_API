{
 "cells": [
  {
   "cell_type": "markdown",
   "metadata": {},
   "source": [
    "# EddyPro API\n",
    "\n",
    "This notebook gives an outline for working with the API.\n",
    "\n",
    "* First step is to define your input primary parameters.  You need to give a siteID, everything else is *optional*.\n",
    "\n",
    "    * kwargs (dict of all optional settings):\\\n",
    "        * sourceDir: if not provided, assumes data are already in Outputs folder\n",
    "        * dateRange (if not provided, will run all files in the current year)\n",
    "        * fileType (defaults to .ghg) must specify otherwise for \n",
    "        * metadataTemplate (only required for .dat files)\n",
    "\n"
   ]
  },
  {
   "cell_type": "code",
   "execution_count": 1,
   "metadata": {},
   "outputs": [],
   "source": [
    "# def makeUserConfig()\n",
    "\n",
    "\n",
    "# Example run for BB on one day in 2024\n",
    "siteID = 'BB'\n",
    "kwargs = {\n",
    "    'dateRange':['2024-04-01','2024-04-02'],\n",
    "    'sourceDir':\"C:/highfreq/BB/raw/\",\n",
    "    # 'reset':True,\n",
    "    'metaDataUpdates':'C:/highfreq/BB/Manual_Metadata_Updates.csv',\n",
    "    'priority':'High Priority'\n",
    "}\n",
    "\n",
    "# # # Example run for All BBS data from the Datadump Folder 20240516\n",
    "# siteID = 'BBS'\n",
    "# kwargs = {\n",
    "#     'dateRange':['2023-06-01','2024-05-31'],\n",
    "#     'sourceDir':\"X:/BBS/EC_Station/2024/20240516/\",\n",
    "#     'searchTag':\"BBS.FLUX\",\n",
    "#     'timeShift':30,\n",
    "#     'fileType':'dat',\n",
    "#     'metaDataTemplate':'Y:/BBS/TOA5_BBS.FLUX_2023_06_14_1500.metadata',\n",
    "# }\n",
    "\n",
    "\n",
    "# # Cospectral correction options\n",
    "# hf_meth = {\n",
    "#     'Moncrieff et al. (1997)':'1',\n",
    "#     'Horst (1997)':'2',\n",
    "#     'Ibrom et al. (2007)':'3',\n",
    "#     'Fratini et al. (2012)':'4', # Recommended for closed path systems, when sufficient data (>1 month) are available\n",
    "#     'Massman (2000, 2001)':'5'\n",
    "# }\n",
    "\n",
    "if siteID == 'BBS':\n",
    "    userDefinedEddyProSettings = {\n",
    "        'Project':{\n",
    "            'hf_meth':'1'\n",
    "            },\n",
    "        'RawProcess_Settings':{\n",
    "            'v_offset':0.08,\n",
    "            'u_offset':-0.04\n",
    "            },\n",
    "        }\n",
    "    kwargs['userDefinedEddyProSettings'] = userDefinedEddyProSettings\n",
    "\n",
    "# if 'dateRange' not in kwargs:\n",
    "#     kwargs['dateRange'] = None\n"
   ]
  },
  {
   "cell_type": "markdown",
   "metadata": {},
   "source": [
    "# Check the configurations"
   ]
  },
  {
   "cell_type": "code",
   "execution_count": 2,
   "metadata": {},
   "outputs": [
    {
     "name": "stdout",
     "output_type": "stream",
     "text": [
      "Initializing tasks for BB over: ['2024-01-01 00:00' '2024-08-09 00:00']\n",
      "See output: C:/temp//BB/metadata//BB_biometData_202401010000_202408090000.csv\n",
      "canopy_height missing, outputting NaNs\n",
      "See output: C:/temp//BB/metadata//BB_dynamicMetadata_202401010000_202408090000.csv\n",
      "All tasks completed successfully\n"
     ]
    },
    {
     "data": {
      "text/plain": [
       "{'Biomet.net': 'C:/Biomet.net/', 'Database': 'C:/Database/'}"
      ]
     },
     "execution_count": 2,
     "metadata": {},
     "output_type": "execute_result"
    }
   ],
   "source": [
    "import eddyProAPI\n",
    "import importlib\n",
    "importlib.reload(eddyProAPI)\n",
    "# kwargs['siteID'] = siteID\n",
    "kwargs = {}\n",
    "kwargs['siteID'] = 'BB'\n",
    "kwargs['biometUser'] = True\n",
    "kwargs['userDefinedEddyProSettings'] = {\n",
    "        'Project':{\n",
    "            'hf_meth':'4'\n",
    "            }}\n",
    "\n",
    "eP = eddyProAPI.eddyProAPI(**kwargs)\n",
    "eP.config['BiometUser']"
   ]
  },
  {
   "cell_type": "markdown",
   "metadata": {},
   "source": [
    "## Run PreProcessing"
   ]
  },
  {
   "cell_type": "code",
   "execution_count": 3,
   "metadata": {},
   "outputs": [
    {
     "name": "stdout",
     "output_type": "stream",
     "text": [
      "Initializing tasks for BB over: ['2024-01-01 00:00' '2024-08-09 00:00']\n",
      "See output: C:/temp//BB/metadata//BB_biometData_202401010000_202408090000.csv\n",
      "canopy_height missing, outputting NaNs\n",
      "See output: C:/temp//BB/metadata//BB_dynamicMetadata_202401010000_202408090000.csv\n",
      "All tasks completed successfully\n",
      "Searching C:/temp//BB/raw/2024\\04\n",
      "[████████████████████████████████████████████████████████████] 95/95\n",
      "\n",
      "Files Search Complete, time elapsed:  0.9484848976135254\n",
      "Reading Data\n",
      "Reading Complete, time elapsed:  0.04057955741882324\n"
     ]
    }
   ],
   "source": [
    "pre = eddyProAPI.preProcessing(**kwargs)"
   ]
  },
  {
   "cell_type": "markdown",
   "metadata": {},
   "source": [
    "# Run EddyPro in Parallel over date range"
   ]
  },
  {
   "cell_type": "code",
   "execution_count": 4,
   "metadata": {},
   "outputs": [
    {
     "name": "stdout",
     "output_type": "stream",
     "text": [
      "Initializing tasks for BB over: ['2024-01-01 00:00' '2024-08-09 00:00']\n",
      "See output: C:/temp//BB/metadata//BB_biometData_202401010000_202408090000.csv\n",
      "canopy_height missing, outputting NaNs\n",
      "See output: C:/temp//BB/metadata//BB_dynamicMetadata_202401010000_202408090000.csv\n",
      "All tasks completed successfully\n",
      "Warning, available data in group 1 is below recommended size for selected settings.\n",
      "Creating c:\\MM_Py\\EddyPro_API\\temp\\group_1_rp_A.eddypro for 24 files\n",
      "Creating c:\\MM_Py\\EddyPro_API\\temp\\group_1_fcc.eddypro for 24 files\n",
      "Warning, available data in group 2 is below recommended size for selected settings.\n",
      "Creating c:\\MM_Py\\EddyPro_API\\temp\\group_2_rp_A.eddypro for 71 files\n",
      "Creating c:\\MM_Py\\EddyPro_API\\temp\\group_2_fcc.eddypro for 71 files\n",
      "Initiating EddyPro Runs for group on 2 cores at High Priority priority\n",
      "[████████████████████████████████████████████████████████████] 2/2\n",
      "\n",
      "dict_items([('fluxnet', {'header': [0], 'parse_dates': {('datetime',): [0]}, 'date_format': '%Y%m%d%H%M', 'keep_date_col': True}), ('biomet', {'header': [0, 1], 'parse_dates': [0, 1], 'date_format': '%Y-%m-%d %H:%M', 'keep_date_col': True})])\n",
      "Saving As\n",
      "c:\\MM_Py\\EddyPro_API\\temp\\group_1/eddypro_group_1_fcc_fluxnet.csv\n",
      "dict_items([('fluxnet', {'header': [0], 'parse_dates': {('datetime',): [0]}, 'date_format': '%Y%m%d%H%M', 'keep_date_col': True}), ('biomet', {'header': [0, 1], 'parse_dates': {('datetime', ''): [0, 1]}, 'date_format': '%Y-%m-%d %H:%M', 'keep_date_col': True})])\n",
      "Saving As\n",
      "c:\\MM_Py\\EddyPro_API\\temp\\group_1/eddypro_group_1_fcc_biomet.csv\n",
      "dict_items([('fluxnet', {'header': [0], 'parse_dates': {('datetime',): [0]}, 'date_format': '%Y%m%d%H%M', 'keep_date_col': True}), ('biomet', {'header': [0, 1], 'parse_dates': {('datetime', ''): [0, 1]}, 'date_format': '%Y-%m-%d %H:%M', 'keep_date_col': True})])\n",
      "Saving As\n",
      "c:\\MM_Py\\EddyPro_API\\temp\\group_2/eddypro_group_2_fcc_fluxnet.csv\n",
      "dict_items([('fluxnet', {'header': [0], 'parse_dates': {('datetime',): [0]}, 'date_format': '%Y%m%d%H%M', 'keep_date_col': True}), ('biomet', {'header': [0, 1], 'parse_dates': {('datetime', ''): [0, 1]}, 'date_format': '%Y-%m-%d %H:%M', 'keep_date_col': True})])\n",
      "Saving As\n",
      "c:\\MM_Py\\EddyPro_API\\temp\\group_2/eddypro_group_2_fcc_biomet.csv\n",
      "CompletedProcess(args=['copy', 'C:\\\\Program Files\\\\LI-COR\\\\EddyPro-7.0.9\\\\bin', 'c:\\\\MM_Py\\\\EddyPro_API\\\\temp\\\\group_1\\\\44900\\\\bin'], returncode=0, stdout=b'C:\\\\Program Files\\\\LI-COR\\\\EddyPro-7.0.9\\\\bin\\\\7z.dll\\r\\nC:\\\\Program Files\\\\LI-COR\\\\EddyPro-7.0.9\\\\bin\\\\7z.exe\\r\\nC:\\\\Program Files\\\\LI-COR\\\\EddyPro-7.0.9\\\\bin\\\\eddypro_fcc.exe\\r\\nC:\\\\Program Files\\\\LI-COR\\\\EddyPro-7.0.9\\\\bin\\\\eddypro_rp.exe\\r\\nC:\\\\Program Files\\\\LI-COR\\\\EddyPro-7.0.9\\\\bin\\\\fort.11\\r\\nC:\\\\Program Files\\\\LI-COR\\\\EddyPro-7.0.9\\\\bin\\\\fort.132\\r\\nC:\\\\Program Files\\\\LI-COR\\\\EddyPro-7.0.9\\\\bin\\\\libgcc_s_seh-1.dll\\r\\nC:\\\\Program Files\\\\LI-COR\\\\EddyPro-7.0.9\\\\bin\\\\libgfortran-5.dll\\r\\nC:\\\\Program Files\\\\LI-COR\\\\EddyPro-7.0.9\\\\bin\\\\libquadmath-0.dll\\r\\nC:\\\\Program Files\\\\LI-COR\\\\EddyPro-7.0.9\\\\bin\\\\libwinpthread-1.dll\\r\\nC:\\\\Program Files\\\\LI-COR\\\\EddyPro-7.0.9\\\\bin\\\\pausep.exe\\r\\n       11 file(s) copied.\\r\\n', stderr=b'')\n",
      "CompletedProcess(args=['move', 'c:\\\\MM_Py\\\\EddyPro_API\\\\temp\\\\group_1_fcc.eddypro', 'c:\\\\MM_Py\\\\EddyPro_API\\\\temp\\\\group_1\\\\44900\\\\ini\\\\processing.eddypro'], returncode=0, stdout=b'        1 file(s) moved.\\r\\n', stderr=b'')\n",
      "CompletedProcess(args=['copy', 'c:\\\\MM_Py\\\\EddyPro_API\\\\temp\\\\group_1\\\\44900\\\\bin\\\\fcc_processing_log.txt', 'c:\\\\MM_Py\\\\EddyPro_API\\\\temp\\\\group_1_fcc_log.txt'], returncode=0, stdout=b'        1 file(s) copied.\\r\\n', stderr=b'')\n",
      "CompletedProcess(args=['copy', 'C:\\\\Program Files\\\\LI-COR\\\\EddyPro-7.0.9\\\\bin', 'c:\\\\MM_Py\\\\EddyPro_API\\\\temp\\\\group_2\\\\44900\\\\bin'], returncode=0, stdout=b'C:\\\\Program Files\\\\LI-COR\\\\EddyPro-7.0.9\\\\bin\\\\7z.dll\\r\\nC:\\\\Program Files\\\\LI-COR\\\\EddyPro-7.0.9\\\\bin\\\\7z.exe\\r\\nC:\\\\Program Files\\\\LI-COR\\\\EddyPro-7.0.9\\\\bin\\\\eddypro_fcc.exe\\r\\nC:\\\\Program Files\\\\LI-COR\\\\EddyPro-7.0.9\\\\bin\\\\eddypro_rp.exe\\r\\nC:\\\\Program Files\\\\LI-COR\\\\EddyPro-7.0.9\\\\bin\\\\fort.11\\r\\nC:\\\\Program Files\\\\LI-COR\\\\EddyPro-7.0.9\\\\bin\\\\fort.132\\r\\nC:\\\\Program Files\\\\LI-COR\\\\EddyPro-7.0.9\\\\bin\\\\libgcc_s_seh-1.dll\\r\\nC:\\\\Program Files\\\\LI-COR\\\\EddyPro-7.0.9\\\\bin\\\\libgfortran-5.dll\\r\\nC:\\\\Program Files\\\\LI-COR\\\\EddyPro-7.0.9\\\\bin\\\\libquadmath-0.dll\\r\\nC:\\\\Program Files\\\\LI-COR\\\\EddyPro-7.0.9\\\\bin\\\\libwinpthread-1.dll\\r\\nC:\\\\Program Files\\\\LI-COR\\\\EddyPro-7.0.9\\\\bin\\\\pausep.exe\\r\\n       11 file(s) copied.\\r\\n', stderr=b'')\n",
      "CompletedProcess(args=['move', 'c:\\\\MM_Py\\\\EddyPro_API\\\\temp\\\\group_2_fcc.eddypro', 'c:\\\\MM_Py\\\\EddyPro_API\\\\temp\\\\group_2\\\\44900\\\\ini\\\\processing.eddypro'], returncode=0, stdout=b'        1 file(s) moved.\\r\\n', stderr=b'')\n",
      "CompletedProcess(args=['copy', 'c:\\\\MM_Py\\\\EddyPro_API\\\\temp\\\\group_2\\\\44900\\\\bin\\\\fcc_processing_log.txt', 'c:\\\\MM_Py\\\\EddyPro_API\\\\temp\\\\group_2_fcc_log.txt'], returncode=0, stdout=b'        1 file(s) copied.\\r\\n', stderr=b'')\n",
      "['c:\\\\MM_Py\\\\EddyPro_API\\\\temp\\\\group_1\\\\47060', 'c:\\\\MM_Py\\\\EddyPro_API\\\\temp\\\\group_2\\\\47992', 'c:\\\\MM_Py\\\\EddyPro_API\\\\temp\\\\group_1\\\\44900', 'c:\\\\MM_Py\\\\EddyPro_API\\\\temp\\\\group_2\\\\44900']\n",
      "c:\\MM_Py\\EddyPro_API\\temp\\group_1\\47060\n",
      "c:\\MM_Py\\EddyPro_API\\temp\\group_2\\47992\n",
      "c:\\MM_Py\\EddyPro_API\\temp\\group_1\\44900\n",
      "c:\\MM_Py\\EddyPro_API\\temp\\group_2\\44900\n",
      "CompletedProcess(args=['move', 'c:\\\\MM_Py\\\\EddyPro_API\\\\temp', 'C:\\\\temp\\\\BB\\\\eddyProAPIOutputs'], returncode=0, stdout=b'        1 dir(s) moved.\\r\\n', stderr=b'')\n",
      "eddypro_group_1_fcc_full_output_2024-08-09T142630_adv.csv\n"
     ]
    },
    {
     "ename": "SyntaxError",
     "evalue": "invalid syntax (binaryFromText.py, line 26)",
     "output_type": "error",
     "traceback": [
      "Traceback \u001b[1;36m(most recent call last)\u001b[0m:\n",
      "\u001b[0m  File \u001b[0;32mc:\\MM_Py\\EddyPro_API\\.venv\\Lib\\site-packages\\IPython\\core\\interactiveshell.py:3526\u001b[0m in \u001b[0;35mrun_code\u001b[0m\n    exec(code_obj, self.user_global_ns, self.user_ns)\u001b[0m\n",
      "\u001b[0m  Cell \u001b[0;32mIn[4], line 6\u001b[0m\n    eP = eddyProAPI.runEP(**kwargs)\u001b[0m\n",
      "\u001b[0m  File \u001b[0;32mc:\\MM_Py\\EddyPro_API\\eddyProAPI.py:576\u001b[0m in \u001b[0;35m__init__\u001b[0m\n    self.runGroups()\u001b[0m\n",
      "\u001b[0m  File \u001b[0;32mc:\\MM_Py\\EddyPro_API\\eddyProAPI.py:679\u001b[0m in \u001b[0;35mrunGroups\u001b[0m\n    self.copyFinalOutputs(subProcesIDs)\u001b[0m\n",
      "\u001b[0m  File \u001b[0;32mc:\\MM_Py\\EddyPro_API\\eddyProAPI.py:718\u001b[0m in \u001b[0;35mcopyFinalOutputs\u001b[0m\n    dumpToBiometDatabase(siteID=self.siteID,\u001b[0m\n",
      "\u001b[1;36m  File \u001b[1;32mc:\\MM_Py\\EddyPro_API\\HelperFunctions.py:24\u001b[1;36m in \u001b[1;35mdumpToBiometDatabase\u001b[1;36m\n\u001b[1;33m    import binaryFromText as bft\u001b[1;36m\n",
      "\u001b[1;36m  File \u001b[1;32mC:\\Biomet.net\\Python\\binaryFromText.py:26\u001b[1;36m\u001b[0m\n\u001b[1;33m    'verbose':True\u001b[0m\n\u001b[1;37m             ^\u001b[0m\n\u001b[1;31mSyntaxError\u001b[0m\u001b[1;31m:\u001b[0m invalid syntax\n"
     ]
    }
   ],
   "source": [
    "\n",
    "import eddyProAPI\n",
    "import importlib\n",
    "importlib.reload(eddyProAPI)\n",
    "\n",
    "kwargs['dumpToBiometDatabase']=True\n",
    "eP = eddyProAPI.runEP(**kwargs)"
   ]
  }
 ],
 "metadata": {
  "kernelspec": {
   "display_name": ".venv",
   "language": "python",
   "name": "python3"
  },
  "language_info": {
   "codemirror_mode": {
    "name": "ipython",
    "version": 3
   },
   "file_extension": ".py",
   "mimetype": "text/x-python",
   "name": "python",
   "nbconvert_exporter": "python",
   "pygments_lexer": "ipython3",
   "version": "3.11.5"
  },
  "orig_nbformat": 4,
  "vscode": {
   "interpreter": {
    "hash": "ef0cd03416062db1397a6f4c064b2fd8fe41d0681561742315105bdf1dc915d9"
   }
  }
 },
 "nbformat": 4,
 "nbformat_minor": 2
}
