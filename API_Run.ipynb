{
 "cells": [
  {
   "cell_type": "markdown",
   "metadata": {},
   "source": [
    "# EddyPro API\n",
    "\n",
    "This notebook gives an outline for working with the API.\n",
    "\n",
    "* First step is to define your input primary parameters.  You need to give a siteID, everything else is *optional*.\n",
    "\n",
    "    * kwargs (dict of all optional settings):\\\n",
    "        * sourceDir: if not provided, assumes data are already in Outputs folder\n",
    "        * dateRange (if not provided, will run all files in the current year)\n",
    "        * fileType (defaults to .ghg) must specify otherwise for \n",
    "        * metadataTemplate (only required for .dat files)\n",
    "\n"
   ]
  },
  {
   "cell_type": "code",
   "execution_count": 1,
   "metadata": {},
   "outputs": [],
   "source": [
    "# Example run for BB on one day in 2024\n",
    "siteID = 'BB'\n",
    "kwargs = {\n",
    "    'dateRange':['2024-04-01','2024-04-02'],\n",
    "    'sourceDir':\"C:/highfreq/BB\"\n",
    "}\n",
    "\n",
    "# # Example run for All BBS data\n",
    "siteID = 'BBS'\n",
    "kwargs = {\n",
    "    'dateRange':['2023-06-01','2024-05-31'],\n",
    "    # 'sourceDir':\"X:/BBS/EC_Station/2024/20240516/\",\n",
    "    'searchTag':\"BBS.FLUX\",\n",
    "    'timeShift':30,\n",
    "    'fileType':'dat',\n",
    "    'metaDataTemplate':'C:/highfreq/BBS/TOA5_BBS.FLUX_2023_06_14_1500.metadata',\n",
    "}\n",
    "\n",
    "\n",
    "# Cospectral correction options\n",
    "hf_meth = {\n",
    "    'Moncrieff et al. (1997)':1,\n",
    "    'Horst (1997)':2,\n",
    "    'Ibrom et al. (2007)':3,\n",
    "    'Fratini et al. (2012)':4, # Recommended for closed path systems, when sufficient data (>1 month) are available\n",
    "    'Massman (2000, 2001)':5\n",
    "}\n",
    "\n",
    "if siteID == 'BBS':\n",
    "    userDefinedEddyProSettings = {\n",
    "        'Project':{\n",
    "            'hf_meth':'5'\n",
    "            },\n",
    "        'RawProcess_Settings':{\n",
    "            'v_offset':0.08,\n",
    "            'u_offset':-0.04\n",
    "            },\n",
    "        }\n",
    "    kwargs['userDefinedEddyProSettings'] = userDefinedEddyProSettings\n",
    "\n",
    "if 'dateRange' not in kwargs:\n",
    "    kwargs['dateRange'] = None\n"
   ]
  },
  {
   "cell_type": "code",
   "execution_count": 2,
   "metadata": {},
   "outputs": [
    {
     "name": "stdout",
     "output_type": "stream",
     "text": [
      "{'dbase_metadata': {'timestamp': {'name': 'clean_tv', 'dtype': 'float64', 'precision': 8, 'base': 719529, 'base_unit': 'D', 'resolution': '30min'}, 'traces': {'dtype': 'float32', 'precision': 4}}, 'stage': {'Second': 'Clean/SecondStage', 'Third': 'Clean/ThirdStage', 'Third_Default': 'Clean/ThirdStage_Default_Ustar', 'Third_Advanced': 'Clean/ThirdStage_Full_Ustar_Uncertainty', 'Met': 'Met', 'Flux': 'Flux', 'Manual': 'Met/Manual'}, 'rootDir': {'Database': 'C:/Database/', 'Outputs': 'C:/temp/', 'Datadump': 'X:/'}, 'tasks': {'biometData': {'formatting': {'units_in_header': True, 'na_value': -9999, 'time_vectors': {'timestamp': {'output_name': 'TIMESTAMP_1', 'fmt': '%Y-%m-%d %H%M', 'units': 'yyyy-mm-dd HHMM'}}}, 'traces': {'LW_IN_1_1_1': {'units': 'W+1m-2', 'output_name': 'LWIN_1_1_1'}, 'PA_1_1_1': {'units': 'kPa', 'output_name': 'Pa_1_1_1'}, 'PPFD_IN_1_1_1': {'units': 'umol+1m-2s-1', 'output_name': 'PPFD_1_1_1'}, 'RH_1_1_1': {'units': '%', 'output_name': 'RH_1_1_1'}, 'SW_IN_1_1_1': {'units': 'W+1m-2', 'output_name': 'Rg_1_1_1'}, 'TA_1_1_1': {'units': 'degC', 'output_name': 'Ta_1_1_1'}}}, 'dynamicMetadata': {'traces': {'canopy_height': {'units': 'm', 'output_name': 'canopy_height'}}, 'formatting': {'resample': {'freq': 'D', 'agg': 'mean'}, 'units_in_header': False, 'na_value': None, 'time_vectors': {'date': {'output_name': 'date', 'fmt': '%Y-%m-%d', 'units': 'yyyy-mm-dd'}, 'time': {'output_name': 'time', 'fmt': '%H:%M', 'units': 'HH:MM'}}}}}}\n",
      "Initializing tasks for BBS over: ['2023-06-01 00:00' '2024-05-31 00:00']\n",
      "PPFD_IN_1_1_1 missing, outputting NaNs\n",
      "See output: C:/temp//BBS_biometData_202306010000_202405310000.csv\n",
      "See output: C:/temp//BBS_dynamicMetadata_202306010000_202405310000.csv\n",
      "All tasks completed successfully\n"
     ]
    },
    {
     "data": {
      "text/plain": [
       "{'Biomet.Net': 'C:/Biomet.Net/', 'Database': 'C:/Database/'}"
      ]
     },
     "execution_count": 2,
     "metadata": {},
     "output_type": "execute_result"
    }
   ],
   "source": [
    "import eddyProAPI\n",
    "import importlib\n",
    "importlib.reload(eddyProAPI)\n",
    "kwargs['queryBiometDatabase'] = True\n",
    "eP = eddyProAPI.eddyProAPI(siteID,**kwargs)\n",
    "eP.config['BiometUser']\n",
    "# eP().preProcessing()\n",
    "# pre = eddyProAPI.preProcessing(siteID,**kwargs)"
   ]
  },
  {
   "cell_type": "code",
   "execution_count": 7,
   "metadata": {},
   "outputs": [
    {
     "data": {
      "text/plain": [
       "DatetimeIndex(['2024-05-05', '2024-05-06'], dtype='datetime64[ns]', freq=None)"
      ]
     },
     "execution_count": 7,
     "metadata": {},
     "output_type": "execute_result"
    }
   ],
   "source": [
    "import pandas as pd\n",
    "Range_index = pd.DatetimeIndex(['2024-05-05','2024-05-06'])\n",
    "Range_index = pd.DatetimeIndex(Range_index)\n",
    "Range_index"
   ]
  },
  {
   "cell_type": "markdown",
   "metadata": {},
   "source": [
    "## Create Optional Auxillary Input Data\n",
    "\n",
    "* It's best practice to give EddyPro Biomet data (temperature, radiation, etc.) and any dynamic metadata (canopy height) in a .csv file.  Biomet.Net users can create the files from database traces using the code below.  You can also create these files yourself\n",
    "\n",
    "    * Biomet files: https://www.licor.com/env/support/EddyPro/topics/biomet-data-format.html\n",
    "    * Dynamic metadata files: https://www.licor.com/env/support/EddyPro/topics/dynamic-metadata.html"
   ]
  },
  {
   "cell_type": "code",
   "execution_count": 4,
   "metadata": {},
   "outputs": [
    {
     "name": "stdout",
     "output_type": "stream",
     "text": [
      "{'dbase_metadata': {'timestamp': {'name': 'clean_tv', 'dtype': 'float64', 'precision': 8, 'base': 719529, 'base_unit': 'D', 'resolution': '30min'}, 'traces': {'dtype': 'float32', 'precision': 4}}, 'stage': {'Second': 'Clean/SecondStage', 'Third': 'Clean/ThirdStage', 'Third_Default': 'Clean/ThirdStage_Default_Ustar', 'Third_Advanced': 'Clean/ThirdStage_Full_Ustar_Uncertainty', 'Met': 'Met', 'Flux': 'Flux', 'Manual': 'Met/Manual'}, 'rootDir': {'Database': 'C:/Database/', 'Outputs': 'C:/temp/', 'Datadump': 'X:/'}, 'tasks': {'biometData': {'formatting': {'units_in_header': True, 'na_value': -9999, 'time_vectors': {'timestamp': {'output_name': 'TIMESTAMP_1', 'fmt': '%Y-%m-%d %H%M', 'units': 'yyyy-mm-dd HHMM'}}}, 'traces': {'LW_IN_1_1_1': {'units': 'W+1m-2', 'output_name': 'LWIN_1_1_1'}, 'PA_1_1_1': {'units': 'kPa', 'output_name': 'Pa_1_1_1'}, 'PPFD_IN_1_1_1': {'units': 'umol+1m-2s-1', 'output_name': 'PPFD_1_1_1'}, 'RH_1_1_1': {'units': '%', 'output_name': 'RH_1_1_1'}, 'SW_IN_1_1_1': {'units': 'W+1m-2', 'output_name': 'Rg_1_1_1'}, 'TA_1_1_1': {'units': 'degC', 'output_name': 'Ta_1_1_1'}}}, 'dynamicMetadata': {'traces': {'canopy_height': {'units': 'm', 'output_name': 'canopy_height'}}, 'formatting': {'resample': {'freq': 'D', 'agg': 'mean'}, 'units_in_header': False, 'na_value': None, 'time_vectors': {'date': {'output_name': 'date', 'fmt': '%Y-%m-%d', 'units': 'yyyy-mm-dd'}, 'time': {'output_name': 'time', 'fmt': '%H:%M', 'units': 'HH:MM'}}}}}}\n",
      "Initializing tasks for BBS over: ['2023-06-01 00:00' '2024-05-31 00:00']\n",
      "PPFD_IN_1_1_1 missing, outputting NaNs\n",
      "See output: C:/temp//BBS_biometData_202306010000_202405310000.csv\n",
      "See output: C:/temp//BBS_dynamicMetadata_202306010000_202405310000.csv\n",
      "All tasks completed successfully\n"
     ]
    }
   ],
   "source": [
    "# import importlib\n",
    "# import HelperFunctions \n",
    "# importlib.reload(HelperFunctions)\n",
    "# kwargs = HelperFunctions.queryBiometDatabase(BiometPath = 'C:/Biomet.net/Python/',siteID=siteID,**kwargs)\n",
    "# # import sys\n",
    "# print(sys.path)"
   ]
  },
  {
   "cell_type": "code",
   "execution_count": 20,
   "metadata": {},
   "outputs": [
    {
     "ename": "KeyError",
     "evalue": "'outputPath'",
     "output_type": "error",
     "traceback": [
      "\u001b[1;31m---------------------------------------------------------------------------\u001b[0m",
      "\u001b[1;31mKeyError\u001b[0m                                  Traceback (most recent call last)",
      "Cell \u001b[1;32mIn[20], line 17\u001b[0m\n\u001b[0;32m     14\u001b[0m \u001b[38;5;28;01mimport\u001b[39;00m \u001b[38;5;21;01mcsvFromBinary\u001b[39;00m \u001b[38;5;28;01mas\u001b[39;00m \u001b[38;5;21;01mcfb\u001b[39;00m\n\u001b[0;32m     15\u001b[0m importlib\u001b[38;5;241m.\u001b[39mreload(cfb)\n\u001b[1;32m---> 17\u001b[0m \u001b[43mkwargs\u001b[49m\u001b[43m[\u001b[49m\u001b[38;5;124;43m'\u001b[39;49m\u001b[38;5;124;43moutputPath\u001b[39;49m\u001b[38;5;124;43m'\u001b[39;49m\u001b[43m]\u001b[49m\n\u001b[0;32m     19\u001b[0m createAuxilaryData \u001b[38;5;241m=\u001b[39m os\u001b[38;5;241m.\u001b[39mpath\u001b[38;5;241m.\u001b[39mabspath(wd\u001b[38;5;241m+\u001b[39m\u001b[38;5;124m'\u001b[39m\u001b[38;5;124m/config_files/EP_auxillary_data_defs.yml\u001b[39m\u001b[38;5;124m'\u001b[39m)\n\u001b[0;32m     20\u001b[0m auxilaryDpaths\u001b[38;5;241m=\u001b[39mcfb\u001b[38;5;241m.\u001b[39mmakeCSV(siteID,tasks\u001b[38;5;241m=\u001b[39mcreateAuxilaryData,stage\u001b[38;5;241m=\u001b[39m\u001b[38;5;124m'\u001b[39m\u001b[38;5;124mSecond\u001b[39m\u001b[38;5;124m'\u001b[39m,\u001b[38;5;241m*\u001b[39m\u001b[38;5;241m*\u001b[39mkwargs)\n",
      "\u001b[1;31mKeyError\u001b[0m: 'outputPath'"
     ]
    }
   ],
   "source": [
    "# Create biomet and dynamicMetadata.csv files\n",
    "import os\n",
    "import sys\n",
    "import importlib\n",
    "\n",
    "BiometNet = 'C:/Biomet.net/Python/'\n",
    "\n",
    "# UBC Micromet users can \n",
    "if sys.path[0]!=BiometNet:\n",
    "    sys.path.insert(0,BiometNet)\n",
    "\n",
    "wd = [p for p in sys.path if p != BiometNet][0]\n",
    "\n",
    "import csvFromBinary as cfb\n",
    "importlib.reload(cfb)\n",
    "\n",
    "kwargs['outputPath']\n",
    "\n",
    "createAuxilaryData = os.path.abspath(wd+'/config_files/EP_auxillary_data_defs.yml')\n",
    "auxilaryDpaths=cfb.makeCSV(siteID,tasks=createAuxilaryData,stage='Second',**kwargs)\n",
    "for key,value in auxilaryDpaths.items():\n",
    "    kwargs[key] = value"
   ]
  },
  {
   "cell_type": "code",
   "execution_count": 5,
   "metadata": {},
   "outputs": [
    {
     "name": "stdout",
     "output_type": "stream",
     "text": [
      "Creating c:\\MM_Py\\EddyPro_API\\temp\\group_1_rp_A.eddypro for 1115 files\n",
      "9\n",
      "Creating c:\\MM_Py\\EddyPro_API\\temp\\group_1_rp_B.eddypro for 1114 files\n",
      "9\n",
      "Creating c:\\MM_Py\\EddyPro_API\\temp\\group_1_rp_C.eddypro for 1114 files\n",
      "9\n",
      "Creating c:\\MM_Py\\EddyPro_API\\temp\\group_1_rp_D.eddypro for 1115 files\n",
      "9\n",
      "Creating c:\\MM_Py\\EddyPro_API\\temp\\group_1_fcc.eddypro for 4458 files\n",
      "9\n",
      "Initiating EddyPro Runs for group 1 on 4 cores at normal priority\n",
      "['c:\\\\MM_Py\\\\EddyPro_API\\\\temp\\\\group_1_rp_A.eddypro', 'c:\\\\MM_Py\\\\EddyPro_API\\\\temp\\\\group_1_rp_B.eddypro', 'c:\\\\MM_Py\\\\EddyPro_API\\\\temp\\\\group_1_rp_C.eddypro', 'c:\\\\MM_Py\\\\EddyPro_API\\\\temp\\\\group_1_rp_D.eddypro']\n",
      "[████████████████████████████████████████████████████████████] 4/4\n",
      "\n",
      "Creating c:\\MM_Py\\EddyPro_API\\temp\\group_2_rp_@.eddypro for 1 files\n",
      "9\n",
      "Creating c:\\MM_Py\\EddyPro_API\\temp\\group_2_fcc.eddypro for 1 files\n",
      "9\n",
      "Initiating EddyPro Runs for group 2 on 4 cores at normal priority\n",
      "['c:\\\\MM_Py\\\\EddyPro_API\\\\temp\\\\group_2_rp_@.eddypro']\n",
      "[████████████████████████████████████████████████████████████] 1/1\n",
      "\n"
     ]
    },
    {
     "ename": "KeyError",
     "evalue": "\"None of [('datetime',)] are in the columns\"",
     "output_type": "error",
     "traceback": [
      "\u001b[1;31m---------------------------------------------------------------------------\u001b[0m",
      "\u001b[1;31mKeyError\u001b[0m                                  Traceback (most recent call last)",
      "\u001b[1;32m~\\AppData\\Local\\Temp\\ipykernel_32592\\467898830.py\u001b[0m in \u001b[0;36m?\u001b[1;34m()\u001b[0m\n\u001b[0;32m     23\u001b[0m             },\n\u001b[0;32m     24\u001b[0m         }\n\u001b[0;32m     25\u001b[0m     \u001b[0mkwargs\u001b[0m\u001b[1;33m[\u001b[0m\u001b[1;34m'userDefinedEddyProSettings'\u001b[0m\u001b[1;33m]\u001b[0m \u001b[1;33m=\u001b[0m \u001b[0muserDefinedEddyProSettings\u001b[0m\u001b[1;33m\u001b[0m\u001b[1;33m\u001b[0m\u001b[0m\n\u001b[0;32m     26\u001b[0m \u001b[1;33m\u001b[0m\u001b[0m\n\u001b[1;32m---> 27\u001b[1;33m \u001b[0meP\u001b[0m \u001b[1;33m=\u001b[0m \u001b[0meddyProAPI\u001b[0m\u001b[1;33m.\u001b[0m\u001b[0mrunEP\u001b[0m\u001b[1;33m(\u001b[0m\u001b[0msiteID\u001b[0m\u001b[1;33m,\u001b[0m\u001b[1;33m**\u001b[0m\u001b[0mkwargs\u001b[0m\u001b[1;33m)\u001b[0m\u001b[1;33m\u001b[0m\u001b[1;33m\u001b[0m\u001b[0m\n\u001b[0m",
      "\u001b[1;32mc:\\MM_Py\\EddyPro_API\\eddyProAPI.py\u001b[0m in \u001b[0;36m?\u001b[1;34m(self, siteID, **kwargs)\u001b[0m\n\u001b[0;32m    535\u001b[0m                                 \u001b[0mgroupInfo\u001b[0m\u001b[1;33m,\u001b[0m\u001b[1;33m\u001b[0m\u001b[1;33m\u001b[0m\u001b[0m\n\u001b[0;32m    536\u001b[0m                                 \u001b[0mgroupTimeStamps\u001b[0m\u001b[1;33m.\u001b[0m\u001b[0mmin\u001b[0m\u001b[1;33m(\u001b[0m\u001b[1;33m)\u001b[0m\u001b[1;33m,\u001b[0m\u001b[1;33m\u001b[0m\u001b[1;33m\u001b[0m\u001b[0m\n\u001b[0;32m    537\u001b[0m                                 \u001b[0mgroupTimeStamps\u001b[0m\u001b[1;33m.\u001b[0m\u001b[0mmax\u001b[0m\u001b[1;33m(\u001b[0m\u001b[1;33m)\u001b[0m\u001b[1;33m+\u001b[0m\u001b[0mpd\u001b[0m\u001b[1;33m.\u001b[0m\u001b[0mTimedelta\u001b[0m\u001b[1;33m(\u001b[0m\u001b[0mminutes\u001b[0m\u001b[1;33m=\u001b[0m\u001b[0mint\u001b[0m\u001b[1;33m(\u001b[0m\u001b[0mgroupInfo\u001b[0m\u001b[1;33m[\u001b[0m\u001b[1;34m'Timing'\u001b[0m\u001b[1;33m,\u001b[0m\u001b[1;34m'file_duration'\u001b[0m\u001b[1;33m,\u001b[0m\u001b[1;34m'first'\u001b[0m\u001b[1;33m]\u001b[0m\u001b[1;33m)\u001b[0m\u001b[1;33m)\u001b[0m\u001b[1;33m,\u001b[0m\u001b[1;33m\u001b[0m\u001b[1;33m\u001b[0m\u001b[0m\n\u001b[0;32m    538\u001b[0m                                 groupTimeStamps.shape[0])\n\u001b[1;32m--> 539\u001b[1;33m                 \u001b[0mself\u001b[0m\u001b[1;33m.\u001b[0m\u001b[0mrunGroup\u001b[0m\u001b[1;33m(\u001b[0m\u001b[0mgroupID\u001b[0m\u001b[1;33m)\u001b[0m\u001b[1;33m\u001b[0m\u001b[1;33m\u001b[0m\u001b[0m\n\u001b[0m\u001b[0;32m    540\u001b[0m         \u001b[0mprint\u001b[0m\u001b[1;33m(\u001b[0m\u001b[1;34m'Remember to update project ID>//////>??????'\u001b[0m\u001b[1;33m)\u001b[0m\u001b[1;33m\u001b[0m\u001b[1;33m\u001b[0m\u001b[0m\n",
      "\u001b[1;32mc:\\MM_Py\\EddyPro_API\\eddyProAPI.py\u001b[0m in \u001b[0;36m?\u001b[1;34m(self, groupID)\u001b[0m\n\u001b[0;32m    619\u001b[0m             \u001b[1;31m# run routine sequentially for debugging\u001b[0m\u001b[1;33m\u001b[0m\u001b[1;33m\u001b[0m\u001b[0m\n\u001b[0;32m    620\u001b[0m             \u001b[1;32mfor\u001b[0m \u001b[0mi\u001b[0m\u001b[1;33m,\u001b[0m\u001b[0mtoRun\u001b[0m \u001b[1;32min\u001b[0m \u001b[0menumerate\u001b[0m\u001b[1;33m(\u001b[0m\u001b[0mself\u001b[0m\u001b[1;33m.\u001b[0m\u001b[0mrpList\u001b[0m\u001b[1;33m)\u001b[0m\u001b[1;33m:\u001b[0m\u001b[1;33m\u001b[0m\u001b[1;33m\u001b[0m\u001b[0m\n\u001b[0;32m    621\u001b[0m                 \u001b[0mout\u001b[0m \u001b[1;33m=\u001b[0m \u001b[0mself\u001b[0m\u001b[1;33m.\u001b[0m\u001b[0mrunEddyPro\u001b[0m\u001b[1;33m.\u001b[0m\u001b[0mrpRun\u001b[0m\u001b[1;33m(\u001b[0m\u001b[0mtoRun\u001b[0m\u001b[1;33m)\u001b[0m\u001b[1;33m\u001b[0m\u001b[1;33m\u001b[0m\u001b[0m\n\u001b[0;32m    622\u001b[0m                 \u001b[0mfpToRun\u001b[0m\u001b[1;33m.\u001b[0m\u001b[0mappend\u001b[0m\u001b[1;33m(\u001b[0m\u001b[0mout\u001b[0m\u001b[1;33m)\u001b[0m\u001b[1;33m\u001b[0m\u001b[1;33m\u001b[0m\u001b[0m\n\u001b[1;32m--> 623\u001b[1;33m         \u001b[0mself\u001b[0m\u001b[1;33m.\u001b[0m\u001b[0mrpMerge\u001b[0m\u001b[1;33m(\u001b[0m\u001b[1;33m)\u001b[0m\u001b[1;33m\u001b[0m\u001b[1;33m\u001b[0m\u001b[0m\n\u001b[0m\u001b[0;32m    624\u001b[0m         \u001b[0mself\u001b[0m\u001b[1;33m.\u001b[0m\u001b[0mrunEddyPro\u001b[0m\u001b[1;33m.\u001b[0m\u001b[0mfccRun\u001b[0m\u001b[1;33m(\u001b[0m\u001b[0mself\u001b[0m\u001b[1;33m.\u001b[0m\u001b[0mfccFile\u001b[0m\u001b[1;33m)\u001b[0m\u001b[1;33m\u001b[0m\u001b[1;33m\u001b[0m\u001b[0m\n",
      "\u001b[1;32mc:\\MM_Py\\EddyPro_API\\eddyProAPI.py\u001b[0m in \u001b[0;36m?\u001b[1;34m(self)\u001b[0m\n\u001b[0;32m    634\u001b[0m                 \u001b[0mkey\u001b[0m \u001b[1;33m=\u001b[0m \u001b[0mtuple\u001b[0m\u001b[1;33m(\u001b[0m\u001b[1;33m[\u001b[0m\u001b[1;34m'datetime'\u001b[0m\u001b[1;33m]\u001b[0m\u001b[1;33m+\u001b[0m\u001b[1;33m[\u001b[0m\u001b[1;34m''\u001b[0m \u001b[1;32mfor\u001b[0m \u001b[0mi\u001b[0m \u001b[1;32min\u001b[0m \u001b[0mrange\u001b[0m\u001b[1;33m(\u001b[0m\u001b[0mlen\u001b[0m\u001b[1;33m(\u001b[0m\u001b[0mkwargs\u001b[0m\u001b[1;33m[\u001b[0m\u001b[1;34m'header'\u001b[0m\u001b[1;33m]\u001b[0m\u001b[1;33m)\u001b[0m\u001b[1;33m-\u001b[0m\u001b[1;36m1\u001b[0m\u001b[1;33m)\u001b[0m\u001b[1;33m]\u001b[0m\u001b[1;33m)\u001b[0m\u001b[1;33m\u001b[0m\u001b[1;33m\u001b[0m\u001b[0m\n\u001b[0;32m    635\u001b[0m                 \u001b[0mkwargs\u001b[0m\u001b[1;33m[\u001b[0m\u001b[1;34m'parse_dates'\u001b[0m\u001b[1;33m]\u001b[0m \u001b[1;33m=\u001b[0m \u001b[1;33m{\u001b[0m\u001b[0mkey\u001b[0m\u001b[1;33m:\u001b[0m\u001b[0mval\u001b[0m\u001b[1;33m}\u001b[0m\u001b[1;33m\u001b[0m\u001b[1;33m\u001b[0m\u001b[0m\n\u001b[0;32m    636\u001b[0m             \u001b[1;32mfor\u001b[0m \u001b[0mi\u001b[0m\u001b[1;33m,\u001b[0m\u001b[0mfn\u001b[0m \u001b[1;32min\u001b[0m \u001b[0menumerate\u001b[0m\u001b[1;33m(\u001b[0m\u001b[0mtoMerge\u001b[0m\u001b[1;33m)\u001b[0m\u001b[1;33m:\u001b[0m\u001b[1;33m\u001b[0m\u001b[1;33m\u001b[0m\u001b[0m\n\u001b[0;32m    637\u001b[0m                 \u001b[0mTemp\u001b[0m \u001b[1;33m=\u001b[0m \u001b[0mpd\u001b[0m\u001b[1;33m.\u001b[0m\u001b[0mconcat\u001b[0m\u001b[1;33m(\u001b[0m\u001b[1;33m[\u001b[0m\u001b[0mTemp\u001b[0m\u001b[1;33m,\u001b[0m\u001b[0mpd\u001b[0m\u001b[1;33m.\u001b[0m\u001b[0mread_csv\u001b[0m\u001b[1;33m(\u001b[0m\u001b[0mfn\u001b[0m\u001b[1;33m,\u001b[0m\u001b[1;33m**\u001b[0m\u001b[0mkwargs\u001b[0m\u001b[1;33m)\u001b[0m\u001b[1;33m]\u001b[0m\u001b[1;33m)\u001b[0m\u001b[1;33m\u001b[0m\u001b[1;33m\u001b[0m\u001b[0m\n\u001b[1;32m--> 638\u001b[1;33m             \u001b[0mTemp\u001b[0m \u001b[1;33m=\u001b[0m \u001b[0mTemp\u001b[0m\u001b[1;33m.\u001b[0m\u001b[0mset_index\u001b[0m\u001b[1;33m(\u001b[0m\u001b[0mlist\u001b[0m\u001b[1;33m(\u001b[0m\u001b[0mkwargs\u001b[0m\u001b[1;33m[\u001b[0m\u001b[1;34m'parse_dates'\u001b[0m\u001b[1;33m]\u001b[0m\u001b[1;33m.\u001b[0m\u001b[0mkeys\u001b[0m\u001b[1;33m(\u001b[0m\u001b[1;33m)\u001b[0m\u001b[1;33m)\u001b[0m\u001b[1;33m[\u001b[0m\u001b[1;36m0\u001b[0m\u001b[1;33m]\u001b[0m\u001b[1;33m)\u001b[0m\u001b[1;33m.\u001b[0m\u001b[0msort_index\u001b[0m\u001b[1;33m(\u001b[0m\u001b[1;33m)\u001b[0m\u001b[1;33m\u001b[0m\u001b[1;33m\u001b[0m\u001b[0m\n\u001b[0m\u001b[0;32m    639\u001b[0m             \u001b[0mTemp\u001b[0m \u001b[1;33m=\u001b[0m \u001b[0mTemp\u001b[0m\u001b[1;33m.\u001b[0m\u001b[0msort_index\u001b[0m\u001b[1;33m(\u001b[0m\u001b[1;33m)\u001b[0m\u001b[1;33m\u001b[0m\u001b[1;33m\u001b[0m\u001b[0m\n\u001b[0;32m    640\u001b[0m             \u001b[0mTemp\u001b[0m\u001b[1;33m.\u001b[0m\u001b[0mto_csv\u001b[0m\u001b[1;33m(\u001b[0m\u001b[0mself\u001b[0m\u001b[1;33m.\u001b[0m\u001b[0mex_file\u001b[0m\u001b[1;33m.\u001b[0m\u001b[0mreplace\u001b[0m\u001b[1;33m(\u001b[0m\u001b[1;34m'fluxnet'\u001b[0m\u001b[1;33m,\u001b[0m\u001b[0mfilePattern\u001b[0m\u001b[1;33m)\u001b[0m\u001b[1;33m,\u001b[0m\u001b[0mindex\u001b[0m\u001b[1;33m=\u001b[0m\u001b[1;32mFalse\u001b[0m\u001b[1;33m)\u001b[0m\u001b[1;33m\u001b[0m\u001b[1;33m\u001b[0m\u001b[0m\n",
      "\u001b[1;32mc:\\MM_Py\\EddyPro_API\\.venv\\Lib\\site-packages\\pandas\\core\\frame.py\u001b[0m in \u001b[0;36m?\u001b[1;34m(self, keys, drop, append, inplace, verify_integrity)\u001b[0m\n\u001b[0;32m   5869\u001b[0m                     \u001b[1;32mif\u001b[0m \u001b[1;32mnot\u001b[0m \u001b[0mfound\u001b[0m\u001b[1;33m:\u001b[0m\u001b[1;33m\u001b[0m\u001b[1;33m\u001b[0m\u001b[0m\n\u001b[0;32m   5870\u001b[0m                         \u001b[0mmissing\u001b[0m\u001b[1;33m.\u001b[0m\u001b[0mappend\u001b[0m\u001b[1;33m(\u001b[0m\u001b[0mcol\u001b[0m\u001b[1;33m)\u001b[0m\u001b[1;33m\u001b[0m\u001b[1;33m\u001b[0m\u001b[0m\n\u001b[0;32m   5871\u001b[0m \u001b[1;33m\u001b[0m\u001b[0m\n\u001b[0;32m   5872\u001b[0m         \u001b[1;32mif\u001b[0m \u001b[0mmissing\u001b[0m\u001b[1;33m:\u001b[0m\u001b[1;33m\u001b[0m\u001b[1;33m\u001b[0m\u001b[0m\n\u001b[1;32m-> 5873\u001b[1;33m             \u001b[1;32mraise\u001b[0m \u001b[0mKeyError\u001b[0m\u001b[1;33m(\u001b[0m\u001b[1;34mf\"None of {missing} are in the columns\"\u001b[0m\u001b[1;33m)\u001b[0m\u001b[1;33m\u001b[0m\u001b[1;33m\u001b[0m\u001b[0m\n\u001b[0m\u001b[0;32m   5874\u001b[0m \u001b[1;33m\u001b[0m\u001b[0m\n\u001b[0;32m   5875\u001b[0m         \u001b[1;32mif\u001b[0m \u001b[0minplace\u001b[0m\u001b[1;33m:\u001b[0m\u001b[1;33m\u001b[0m\u001b[1;33m\u001b[0m\u001b[0m\n\u001b[0;32m   5876\u001b[0m             \u001b[0mframe\u001b[0m \u001b[1;33m=\u001b[0m \u001b[0mself\u001b[0m\u001b[1;33m\u001b[0m\u001b[1;33m\u001b[0m\u001b[0m\n",
      "\u001b[1;31mKeyError\u001b[0m: \"None of [('datetime',)] are in the columns\""
     ]
    }
   ],
   "source": [
    "\n",
    "import eddyProAPI\n",
    "import importlib\n",
    "importlib.reload(eddyProAPI)\n",
    "\n",
    "\n",
    "eP = eddyProAPI.runEP(siteID,**kwargs)"
   ]
  }
 ],
 "metadata": {
  "kernelspec": {
   "display_name": ".venv",
   "language": "python",
   "name": "python3"
  },
  "language_info": {
   "codemirror_mode": {
    "name": "ipython",
    "version": 3
   },
   "file_extension": ".py",
   "mimetype": "text/x-python",
   "name": "python",
   "nbconvert_exporter": "python",
   "pygments_lexer": "ipython3",
   "version": "3.11.5"
  },
  "orig_nbformat": 4,
  "vscode": {
   "interpreter": {
    "hash": "ef0cd03416062db1397a6f4c064b2fd8fe41d0681561742315105bdf1dc915d9"
   }
  }
 },
 "nbformat": 4,
 "nbformat_minor": 2
}
