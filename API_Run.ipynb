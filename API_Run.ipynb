{
 "cells": [
  {
   "cell_type": "markdown",
   "metadata": {},
   "source": [
    "# EddyPro API\n",
    "\n",
    "This notebook gives an outline for working with the API.\n",
    "\n",
    "* First step is to define your input primary parameters.  You need to give a siteID, everything else is *optional*.\n",
    "\n",
    "    * kwargs (dict of all optional settings):\n",
    "        * dateRange (if not provided, will run all files in the current year)\n",
    "        * fileType (defaults to .ghg) must specify otherwise for \n",
    "        * metadataTemplate (only required for .dat files)\n",
    "\n"
   ]
  },
  {
   "cell_type": "code",
   "execution_count": 29,
   "metadata": {},
   "outputs": [],
   "source": [
    "# Example run for BB on one day in 2024\n",
    "siteID = 'BB'\n",
    "kwargs = {'dateRange':['2024-04-01','2024-04-02']}\n",
    "\n",
    "# # # Example run for All BBS data\n",
    "# siteID = 'BBS'\n",
    "# kwargs = {\n",
    "#     'dateRange':['2023-06-01','2024-05-31'],\n",
    "#     'fileType':'dat',\n",
    "#     'metaDataTemplate':'C:/highfreq/BBS/TOA5_BBS.FLUX_2023_06_14_1500.metadata'\n",
    "# }"
   ]
  },
  {
   "cell_type": "markdown",
   "metadata": {},
   "source": [
    "## Create Optional Auxillary Input Data\n",
    "\n",
    "* It's best practice to give EddyPro Biomet data (temperature, radiation, etc.) and any dynamic metadata (canopy height) in a .csv file.  Biomet.Net users can create the files from database traces using the code below.  You can also create these files yourself\n",
    "\n",
    "    * Biomet files: https://www.licor.com/env/support/EddyPro/topics/biomet-data-format.html\n",
    "    * Dynamic metadata files: https://www.licor.com/env/support/EddyPro/topics/dynamic-metadata.html"
   ]
  },
  {
   "cell_type": "code",
   "execution_count": 30,
   "metadata": {},
   "outputs": [
    {
     "name": "stdout",
     "output_type": "stream",
     "text": [
      "Initializing tasks for BB over: ['2024-04-01', '2024-04-02']\n",
      "PPFD_IN_1_1_1 missing, outputting NaNs\n",
      "See output: C:/highfreq/BB/auxilaryData/BB_biometData_202404010000_202404020000.csv\n",
      "canopy_height missing, outputting NaNs\n",
      "See output: C:/highfreq/BB/auxilaryData/BB_dynamicMetadata_202404010000_202404020000.csv\n",
      "All tasks completed successfully\n"
     ]
    }
   ],
   "source": [
    "# Create biomet and dynamicMetadata.csv files\n",
    "import os\n",
    "import sys\n",
    "import importlib\n",
    "\n",
    "BiometNet = 'C:/Biomet.net/Python/'\n",
    "\n",
    "# UBC Micromet users can \n",
    "if sys.path[0]!=BiometNet:\n",
    "    sys.path.insert(0,BiometNet)\n",
    "\n",
    "wd = [p for p in sys.path if p != BiometNet][0]\n",
    "\n",
    "import csvFromBinary as cfb\n",
    "importlib.reload(cfb)\n",
    "\n",
    "if 'dateRange' in kwargs:\n",
    "    dateRange = kwargs['dateRange']\n",
    "else:\n",
    "    dateRange = None\n",
    "\n",
    "tasks=os.path.abspath(wd+'/config_files/EP_auxillary_data_defs.yml')\n",
    "auxilaryDpaths=cfb.makeCSV(siteID,dateRange,tasks,\n",
    "                           outputPath=f'C:/highfreq/{siteID}/auxilaryData',stage='Second')\n",
    "for key,value in auxilaryDpaths.items():\n",
    "    kwargs[key] = value"
   ]
  },
  {
   "cell_type": "code",
   "execution_count": 42,
   "metadata": {},
   "outputs": [
    {
     "name": "stdout",
     "output_type": "stream",
     "text": [
      "Searching C:/highfreq//BB/raw/2024\\04\n",
      "[████████████████████████████████████████████████████████████] 144/144\n",
      "\n",
      "Files Search Complete, time elapsed:  0.8421986103057861\n",
      "Reading Data\n",
      "Reading Complete, time elapsed:  0.026254892349243164\n"
     ]
    }
   ],
   "source": [
    "import eddyProAPI\n",
    "importlib.reload(eddyProAPI)\n",
    "pre = eddyProAPI.preProcessing(siteID,**kwargs)"
   ]
  },
  {
   "cell_type": "code",
   "execution_count": 43,
   "metadata": {},
   "outputs": [
    {
     "name": "stdout",
     "output_type": "stream",
     "text": [
      "Creating c:\\MM_Py\\EddyPro_API\\temp\\group_1_rp_A.eddypro for 13 files\n",
      "28\n",
      "Creating c:\\MM_Py\\EddyPro_API\\temp\\group_1_rp_B.eddypro for 12 files\n",
      "28\n",
      "Creating c:\\MM_Py\\EddyPro_API\\temp\\group_1_rp_C.eddypro for 12 files\n",
      "28\n",
      "Creating c:\\MM_Py\\EddyPro_API\\temp\\group_1_rp_D.eddypro for 12 files\n",
      "28\n",
      "Creating c:\\MM_Py\\EddyPro_API\\temp\\group_1_fcc.eddypro for 49 files\n",
      "28\n",
      "Initiating EddyPro Runs for group 1 on 4 cores at normal priority\n",
      "['c:\\\\MM_Py\\\\EddyPro_API\\\\temp\\\\group_1_rp_A.eddypro', 'c:\\\\MM_Py\\\\EddyPro_API\\\\temp\\\\group_1_rp_B.eddypro', 'c:\\\\MM_Py\\\\EddyPro_API\\\\temp\\\\group_1_rp_C.eddypro', 'c:\\\\MM_Py\\\\EddyPro_API\\\\temp\\\\group_1_rp_D.eddypro']\n",
      "[████████████████████████████████████████████████████████████] 4/4\n",
      "\n",
      "Remember to update project ID>//////>??????\n"
     ]
    }
   ],
   "source": [
    "\n",
    "import eddyProAPI\n",
    "import importlib\n",
    "importlib.reload(eddyProAPI)\n",
    "\n",
    "\n",
    "# Cospectral correction options\n",
    "hf_meth = {\n",
    "    'Moncrieff et al. (1997)':1,\n",
    "    'Horst (1997)':2,\n",
    "    'Ibrom et al. (2007)':3,\n",
    "    'Fratini et al. (2012)':4, # Recommended for closed path systems, when sufficient data (>1 month) are available\n",
    "    'Massman (2000, 2001)':5\n",
    "}\n",
    "\n",
    "if siteID == 'BBS':\n",
    "    userDefinedEddyProSettings = {\n",
    "        'Project':{\n",
    "            'hf_meth':'1'\n",
    "            },\n",
    "        'RawProcess_Settings':{\n",
    "            'v_offset':0.08,\n",
    "            'u_offset':-0.04\n",
    "            },\n",
    "        }\n",
    "    kwargs['userDefinedEddyProSettings'] = userDefinedEddyProSettings\n",
    "\n",
    "eP = eddyProAPI.runEP(siteID,**kwargs)"
   ]
  }
 ],
 "metadata": {
  "kernelspec": {
   "display_name": ".venv",
   "language": "python",
   "name": "python3"
  },
  "language_info": {
   "codemirror_mode": {
    "name": "ipython",
    "version": 3
   },
   "file_extension": ".py",
   "mimetype": "text/x-python",
   "name": "python",
   "nbconvert_exporter": "python",
   "pygments_lexer": "ipython3",
   "version": "3.11.5"
  },
  "orig_nbformat": 4,
  "vscode": {
   "interpreter": {
    "hash": "ef0cd03416062db1397a6f4c064b2fd8fe41d0681561742315105bdf1dc915d9"
   }
  }
 },
 "nbformat": 4,
 "nbformat_minor": 2
}
