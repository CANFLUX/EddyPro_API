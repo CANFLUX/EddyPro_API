{
 "cells": [
  {
   "cell_type": "markdown",
   "metadata": {},
   "source": [
    "# EddyPro API\n",
    "\n",
    "This notebook gives an outline for working with the API.\n",
    "\n",
    "* First step is to define your input primary parameters.  You need to give a siteID, everything else is *optional*.\n",
    "\n",
    "    * kwargs (dict of all optional settings):\n",
    "        * sourceDir: if not provided, assumes data are already in Outputs folder\n",
    "        * dateRange (if not provided, will run all files in the current year)\n",
    "        * fileType (defaults to .ghg) must specify otherwise for \n",
    "        * metadataTemplate (only required for .dat files)\n",
    "\n"
   ]
  },
  {
   "cell_type": "code",
   "execution_count": 5,
   "metadata": {},
   "outputs": [
    {
     "name": "stdout",
     "output_type": "stream",
     "text": [
      "Deleting contents of :\n",
      "C:\\Users\\jskeeter\\CANFLUX\\highfreq\\BB\\metadata\n",
      "C:\\Users\\jskeeter\\CANFLUX\\highfreq\\BB\\eddyProAPIOutputs\n",
      "Biomet user: Querying database for up-to-date biomet data\n",
      "Generating requested files tasks for BB over: ['2023-06-15 20:00' '2023-12-31 23:59']\n",
      "See output: C:\\Users\\jskeeter\\CANFLUX\\highfreq\\BB\\metadata/BB_biometData.csv\n",
      "canopy_height missing, outputting NaNs\n"
     ]
    },
    {
     "name": "stderr",
     "output_type": "stream",
     "text": [
      "C:\\Users\\jskeeter\\CANFLUX\\Biomet.net\\Python\\csvFromBinary.py:82: FutureWarning: 'S' is deprecated and will be removed in a future version, please use 's' instead.\n",
      "  DT = pd.to_datetime(tv-config['dbase_metadata']['timestamp']['base'],unit=config['dbase_metadata']['timestamp']['base_unit']).round('S')\n",
      "C:\\Users\\jskeeter\\CANFLUX\\Biomet.net\\Python\\csvFromBinary.py:82: FutureWarning: 'S' is deprecated and will be removed in a future version, please use 's' instead.\n",
      "  DT = pd.to_datetime(tv-config['dbase_metadata']['timestamp']['base'],unit=config['dbase_metadata']['timestamp']['base_unit']).round('S')\n"
     ]
    },
    {
     "name": "stdout",
     "output_type": "stream",
     "text": [
      "See output: C:\\Users\\jskeeter\\CANFLUX\\highfreq\\BB\\metadata/BB_dynamicMetadata.csv\n",
      "Searching C:/Users/jskeeter/CANFLUX/highfreq/BB/raw/2023/08\n",
      "Files Search Complete, time elapsed:  0.006\n",
      "Reading Data for:\n",
      "2023-8\n",
      "25824 0.0\n",
      "C:\\Users\\jskeeter\\CANFLUX\\highfreq\\BB\\raw\\2023\\08\\2023-08-01T120000_AIU-0446.ghg complete, time elapsed:git  0.309\n",
      "25824 0.0\n",
      "C:\\Users\\jskeeter\\CANFLUX\\highfreq\\BB\\raw\\2023\\08\\2023-08-01T123000_AIU-0446.ghg complete, time elapsed:git  0.325\n",
      "25824 0.0\n",
      "C:\\Users\\jskeeter\\CANFLUX\\highfreq\\BB\\raw\\2023\\08\\2023-08-01T130000_AIU-0446.ghg complete, time elapsed:git  0.381\n",
      "25824 0.0\n",
      "C:\\Users\\jskeeter\\CANFLUX\\highfreq\\BB\\raw\\2023\\08\\2023-08-01T133000_AIU-0446.ghg complete, time elapsed:git  0.327\n",
      "25824 0.0\n",
      "C:\\Users\\jskeeter\\CANFLUX\\highfreq\\BB\\raw\\2023\\08\\2023-08-01T140000_AIU-0446.ghg complete, time elapsed:git  0.31\n",
      "25824 0.0\n",
      "C:\\Users\\jskeeter\\CANFLUX\\highfreq\\BB\\raw\\2023\\08\\2023-08-01T143000_AIU-0446.ghg complete, time elapsed:git  0.331\n",
      "25824 0.0\n",
      "C:\\Users\\jskeeter\\CANFLUX\\highfreq\\BB\\raw\\2023\\08\\2023-08-01T150000_AIU-0446.ghg complete, time elapsed:git  0.314\n",
      "25824 0.0\n",
      "C:\\Users\\jskeeter\\CANFLUX\\highfreq\\BB\\raw\\2023\\08\\2023-08-01T153000_AIU-0446.ghg complete, time elapsed:git  0.327\n",
      "2023-8 complete in :  0.338\n",
      "Reading Complete, total time elapsed:  2.637\n",
      "Applying Manual Metadata Adjustments\n",
      "2023-03-17 15:00:00 2023-08-01 15:30:00 ('Instruments', 'instr_2_northward_separation') 9.72\n",
      "2023-03-17 15:00:00 2023-08-01 15:30:00 ('Instruments', 'instr_2_eastward_separation') -2.42\n",
      "2023-03-17 15:00:00 2023-08-01 15:30:00 ('Instruments', 'instr_2_vertical_separation') 0.0\n",
      "2023-03-17 15:00:00 2023-08-01 15:30:00 ('Instruments', 'instr_2_tube_length') 56.0\n",
      "2023-03-17 15:00:00 2023-08-01 15:30:00 ('Instruments', 'instr_2_tube_diameter') 5.33\n",
      "2023-03-17 15:00:00 2023-08-01 15:30:00 ('Instruments', 'instr_3_northward_separation') 34.45\n",
      "2023-03-17 15:00:00 2023-08-01 15:30:00 ('Instruments', 'instr_3_eastward_separation') -48.9\n",
      "2023-03-17 15:00:00 2023-08-01 15:30:00 ('Instruments', 'instr_3_vertical_separation') 0.0\n",
      "2024-03-07 13:00:00 2023-08-01 15:30:00 ('Instruments', 'instr_2_northward_separation') 6.79\n",
      "2024-03-07 13:00:00 2023-08-01 15:30:00 ('Instruments', 'instr_2_eastward_separation') -1.69\n",
      "2024-03-07 13:00:00 2023-08-01 15:30:00 ('Instruments', 'instr_2_vertical_separation') 0.0\n",
      "2024-03-07 13:00:00 2023-08-01 15:30:00 ('Instruments', 'instr_2_tube_length') 65.0\n",
      "2023-07-21 00:00:00 2023-11-07 11:00:00 ('Site', 'site_name') BurnsBog2018\n",
      "2023-07-21 00:00:00 2023-11-07 11:00:00 ('Site', 'canopy_height') 0.3\n",
      "2023-07-21 00:00:00 2023-11-07 11:00:00 ('Station', 'station_name') GeogFlux\n",
      "2023-07-21 00:00:00 2023-11-07 11:00:00 ('Instruments', 'instr_1_height') 1.8\n",
      "2023-07-21 00:00:00 2023-11-07 11:00:00 ('Instruments', 'instr_1_north_offset') 166.0\n",
      "2023-07-21 00:00:00 2023-11-07 11:00:00 ('FileDescription', 'col_18_instrument') csat3_1\n",
      "2023-07-21 00:00:00 2023-11-07 11:00:00 ('FileDescription', 'col_19_instrument') csat3_1\n",
      "2023-07-21 00:00:00 2023-11-07 11:00:00 ('FileDescription', 'col_20_instrument') csat3_1\n",
      "2023-07-21 00:00:00 2023-11-07 11:00:00 ('FileDescription', 'col_21_instrument') csat3_1\n",
      "2024-04-16 12:30:00 2023-08-01 15:30:00 ('Instruments', 'instr_2_northward_separation') 7.76\n",
      "2024-04-16 12:30:00 2023-08-01 15:30:00 ('Instruments', 'instr_2_eastward_separation') -1.94\n",
      "2024-04-16 12:30:00 2023-08-01 15:30:00 ('Instruments', 'instr_2_vertical_separation') 0.0\n",
      "2024-04-16 12:30:00 2023-08-01 15:30:00 ('Instruments', 'instr_2_tube_length') 114.0\n",
      "Grouping by Configuration\n"
     ]
    },
    {
     "name": "stderr",
     "output_type": "stream",
     "text": [
      "C:\\Users\\jskeeter\\CANFLUX\\EddyPro_API\\eddyProAPI.py:377: FutureWarning: DataFrameGroupBy.grouper is deprecated and will be removed in a future version of pandas.\n",
      "  index = self.metaDataValues.index)\n"
     ]
    },
    {
     "name": "stdout",
     "output_type": "stream",
     "text": [
      "Writing Metadata Files\n",
      "C:\\Users\\jskeeter\\CANFLUX\\highfreq\\BB\\metadata/group_1_ColDefs.eddypro\n",
      "Applying Filters:\n",
      "Sonic_Filter :\n",
      "condition_1\n",
      "0\n",
      "LI7200_Filter :\n",
      "condition_1\n",
      "0\n",
      "condition_2\n",
      "0\n",
      "Pre-Processing complete, time elapsed 3.65 seconds\n",
      "Creating C:\\Users\\jskeeter\\CANFLUX\\EddyPro_API\\temp\\group_1_rp_A.eddypro for 8 files\n",
      "Creating C:\\Users\\jskeeter\\CANFLUX\\EddyPro_API\\temp\\group_1_fcc.eddypro for 8 files\n",
      "Initiating EddyPro Runs on 1 cores at High Priority priority\n"
     ]
    },
    {
     "name": "stderr",
     "output_type": "stream",
     "text": [
      "C:\\Users\\jskeeter\\CANFLUX\\EddyPro_API\\eddyProAPI.py:701: FutureWarning: The 'keep_date_col' keyword in pd.read_csv is deprecated and will be removed in a future version. Explicitly remove unwanted columns after parsing instead.\n",
      "  Temp = Temp.set_index(list(kwargs['parse_dates'].keys())[0]).sort_index()\n",
      "C:\\Users\\jskeeter\\CANFLUX\\EddyPro_API\\eddyProAPI.py:701: FutureWarning: Support for nested sequences for 'parse_dates' in pd.read_csv is deprecated. Combine the desired columns with pd.to_datetime after parsing instead.\n",
      "  Temp = Temp.set_index(list(kwargs['parse_dates'].keys())[0]).sort_index()\n"
     ]
    },
    {
     "name": "stdout",
     "output_type": "stream",
     "text": [
      "Saving As \n",
      " C:\\Users\\jskeeter\\CANFLUX\\EddyPro_API\\temp\\group_1/eddypro_group_1_fcc_fluxnet.csv\n",
      "runEP complete, time elapsed 58.808 seconds\n"
     ]
    }
   ],
   "source": [
    "import os\n",
    "os.chdir(\"C:\\\\Users\\\\jskeeter\\\\CANFLUX\\\\EddyPro_API\")\n",
    "import eddyProAPI\n",
    "import importlib\n",
    "importlib.reload(eddyProAPI)\n",
    "kwargs = {\n",
    "    'siteID':'BB',\n",
    "    'dateRange':['2023-06-15 20:00','2023-12-31 23:59'],\n",
    "    # 'sourceDir':[\"Y:/BB/raw/2019\"],#,\"Y:/BB/raw/2024\"],\n",
    "    'sourceDir':[\"C:/Users/jskeeter/CANFLUX/highfreq/BB/raw/2023\"],#,\"Y:/BB/raw/2024\"],\n",
    "    'reset':True,\n",
    "    'metaDataUpdates':'C:/Users/jskeeter/CANFLUX/highfreq/BB/Manual_Metadata_Updates.csv',\n",
    "    'priority':'High Priority',\n",
    "    'runMode':'2',\n",
    "    # 'processes':1,\n",
    "    # 'debug':True,\n",
    "    'biometUser':True\n",
    "}\n",
    "\n",
    "# python eddyProAPI.py --siteID BB --biometUser True --metaDataUpdates Y:/BB/Manual_Metadata_Updates.csv --eddyProStaticConfig Templates/ClosedPathStandard.eddypro --dateRange 2023-01-01 2024-08-30 --sourceDir Y:/BB/raw/2023 Y:/BB/raw/2024 --debug False --runMode 1\n",
    "eP = eddyProAPI.eddyProAPI(**kwargs)"
   ]
  },
  {
   "cell_type": "code",
   "execution_count": 23,
   "metadata": {},
   "outputs": [
    {
     "data": {
      "text/plain": [
       "{'Biomet.net': 'C:/Biomet.net/', 'Database': 'C:/Database/'}"
      ]
     },
     "execution_count": 23,
     "metadata": {},
     "output_type": "execute_result"
    }
   ],
   "source": [
    "# eP.config['BiometUser']"
   ]
  },
  {
   "cell_type": "code",
   "execution_count": 10,
   "metadata": {},
   "outputs": [
    {
     "data": {
      "text/plain": [
       "'ghg'"
      ]
     },
     "execution_count": 10,
     "metadata": {},
     "output_type": "execute_result"
    }
   ],
   "source": [
    "eP.fileType\n"
   ]
  },
  {
   "cell_type": "code",
   "execution_count": 3,
   "metadata": {},
   "outputs": [
    {
     "data": {
      "text/html": [
       "<div>\n",
       "<style scoped>\n",
       "    .dataframe tbody tr th:only-of-type {\n",
       "        vertical-align: middle;\n",
       "    }\n",
       "\n",
       "    .dataframe tbody tr th {\n",
       "        vertical-align: top;\n",
       "    }\n",
       "\n",
       "    .dataframe thead th {\n",
       "        text-align: right;\n",
       "    }\n",
       "</style>\n",
       "<table border=\"1\" class=\"dataframe\">\n",
       "  <thead>\n",
       "    <tr style=\"text-align: right;\">\n",
       "      <th></th>\n",
       "      <th>source</th>\n",
       "      <th>filename</th>\n",
       "      <th>file_prototype</th>\n",
       "      <th>Filter Flags</th>\n",
       "      <th>groupID</th>\n",
       "    </tr>\n",
       "    <tr>\n",
       "      <th>TIMESTAMP</th>\n",
       "      <th></th>\n",
       "      <th></th>\n",
       "      <th></th>\n",
       "      <th></th>\n",
       "      <th></th>\n",
       "    </tr>\n",
       "  </thead>\n",
       "  <tbody>\n",
       "    <tr>\n",
       "      <th>2023-06-15 00:00:00</th>\n",
       "      <td>C:\\highfreq\\BB\\raw\\2023-06-15T000000_LI-7200.ghg</td>\n",
       "      <td>2023-06-15T000000_LI-7200.ghg</td>\n",
       "      <td>yyyy-mm-ddTHHMM??_LI-7200.ghg</td>\n",
       "      <td>~</td>\n",
       "      <td>1</td>\n",
       "    </tr>\n",
       "    <tr>\n",
       "      <th>2023-06-15 00:30:00</th>\n",
       "      <td>C:\\highfreq\\BB\\raw\\2023-06-15T003000_LI-7200.ghg</td>\n",
       "      <td>2023-06-15T003000_LI-7200.ghg</td>\n",
       "      <td>yyyy-mm-ddTHHMM??_LI-7200.ghg</td>\n",
       "      <td>~</td>\n",
       "      <td>3</td>\n",
       "    </tr>\n",
       "    <tr>\n",
       "      <th>2023-06-15 01:00:00</th>\n",
       "      <td>C:\\highfreq\\BB\\raw\\2023\\06\\2023-06-15T010000_L...</td>\n",
       "      <td>2023-06-15T010000_LI-7200.ghg</td>\n",
       "      <td>yyyy-mm-ddTHHMM??_LI-7200.ghg</td>\n",
       "      <td>~</td>\n",
       "      <td>3</td>\n",
       "    </tr>\n",
       "    <tr>\n",
       "      <th>2023-06-15 01:30:00</th>\n",
       "      <td>C:\\highfreq\\BB\\raw\\2023\\06\\2023-06-15T013000_L...</td>\n",
       "      <td>2023-06-15T013000_LI-7200.ghg</td>\n",
       "      <td>yyyy-mm-ddTHHMM??_LI-7200.ghg</td>\n",
       "      <td>~</td>\n",
       "      <td>3</td>\n",
       "    </tr>\n",
       "    <tr>\n",
       "      <th>2023-06-15 02:00:00</th>\n",
       "      <td>C:\\highfreq\\BB\\raw\\2023\\06\\2023-06-15T020000_L...</td>\n",
       "      <td>2023-06-15T020000_LI-7200.ghg</td>\n",
       "      <td>yyyy-mm-ddTHHMM??_LI-7200.ghg</td>\n",
       "      <td>~</td>\n",
       "      <td>3</td>\n",
       "    </tr>\n",
       "    <tr>\n",
       "      <th>...</th>\n",
       "      <td>...</td>\n",
       "      <td>...</td>\n",
       "      <td>...</td>\n",
       "      <td>...</td>\n",
       "      <td>...</td>\n",
       "    </tr>\n",
       "    <tr>\n",
       "      <th>2024-02-04 09:00:00</th>\n",
       "      <td>~</td>\n",
       "      <td>~</td>\n",
       "      <td>~</td>\n",
       "      <td>~</td>\n",
       "      <td>-9999</td>\n",
       "    </tr>\n",
       "    <tr>\n",
       "      <th>2024-02-04 09:30:00</th>\n",
       "      <td>~</td>\n",
       "      <td>~</td>\n",
       "      <td>~</td>\n",
       "      <td>~</td>\n",
       "      <td>-9999</td>\n",
       "    </tr>\n",
       "    <tr>\n",
       "      <th>2024-02-04 10:00:00</th>\n",
       "      <td>~</td>\n",
       "      <td>~</td>\n",
       "      <td>~</td>\n",
       "      <td>~</td>\n",
       "      <td>-9999</td>\n",
       "    </tr>\n",
       "    <tr>\n",
       "      <th>2024-02-04 10:30:00</th>\n",
       "      <td>C:\\highfreq\\BB\\raw\\2024\\02\\2024-02-04T104817_L...</td>\n",
       "      <td>2024-02-04T104817_LI-7200.ghg</td>\n",
       "      <td>yyyy-mm-ddTHHMM??_LI-7200.ghg</td>\n",
       "      <td>LI7200_Filter: condition_1</td>\n",
       "      <td>-9999</td>\n",
       "    </tr>\n",
       "    <tr>\n",
       "      <th>2024-02-04 11:00:00</th>\n",
       "      <td>C:\\highfreq\\BB\\raw\\2024\\02\\2024-02-04T111255_L...</td>\n",
       "      <td>2024-02-04T111255_LI-7200.ghg</td>\n",
       "      <td>yyyy-mm-ddTHHMM??_LI-7200.ghg</td>\n",
       "      <td>LI7200_Filter: condition_1</td>\n",
       "      <td>-9999</td>\n",
       "    </tr>\n",
       "  </tbody>\n",
       "</table>\n",
       "<p>11255 rows × 5 columns</p>\n",
       "</div>"
      ],
      "text/plain": [
       "                                                                source  \\\n",
       "TIMESTAMP                                                                \n",
       "2023-06-15 00:00:00   C:\\highfreq\\BB\\raw\\2023-06-15T000000_LI-7200.ghg   \n",
       "2023-06-15 00:30:00   C:\\highfreq\\BB\\raw\\2023-06-15T003000_LI-7200.ghg   \n",
       "2023-06-15 01:00:00  C:\\highfreq\\BB\\raw\\2023\\06\\2023-06-15T010000_L...   \n",
       "2023-06-15 01:30:00  C:\\highfreq\\BB\\raw\\2023\\06\\2023-06-15T013000_L...   \n",
       "2023-06-15 02:00:00  C:\\highfreq\\BB\\raw\\2023\\06\\2023-06-15T020000_L...   \n",
       "...                                                                ...   \n",
       "2024-02-04 09:00:00                                                  ~   \n",
       "2024-02-04 09:30:00                                                  ~   \n",
       "2024-02-04 10:00:00                                                  ~   \n",
       "2024-02-04 10:30:00  C:\\highfreq\\BB\\raw\\2024\\02\\2024-02-04T104817_L...   \n",
       "2024-02-04 11:00:00  C:\\highfreq\\BB\\raw\\2024\\02\\2024-02-04T111255_L...   \n",
       "\n",
       "                                          filename  \\\n",
       "TIMESTAMP                                            \n",
       "2023-06-15 00:00:00  2023-06-15T000000_LI-7200.ghg   \n",
       "2023-06-15 00:30:00  2023-06-15T003000_LI-7200.ghg   \n",
       "2023-06-15 01:00:00  2023-06-15T010000_LI-7200.ghg   \n",
       "2023-06-15 01:30:00  2023-06-15T013000_LI-7200.ghg   \n",
       "2023-06-15 02:00:00  2023-06-15T020000_LI-7200.ghg   \n",
       "...                                            ...   \n",
       "2024-02-04 09:00:00                              ~   \n",
       "2024-02-04 09:30:00                              ~   \n",
       "2024-02-04 10:00:00                              ~   \n",
       "2024-02-04 10:30:00  2024-02-04T104817_LI-7200.ghg   \n",
       "2024-02-04 11:00:00  2024-02-04T111255_LI-7200.ghg   \n",
       "\n",
       "                                    file_prototype  \\\n",
       "TIMESTAMP                                            \n",
       "2023-06-15 00:00:00  yyyy-mm-ddTHHMM??_LI-7200.ghg   \n",
       "2023-06-15 00:30:00  yyyy-mm-ddTHHMM??_LI-7200.ghg   \n",
       "2023-06-15 01:00:00  yyyy-mm-ddTHHMM??_LI-7200.ghg   \n",
       "2023-06-15 01:30:00  yyyy-mm-ddTHHMM??_LI-7200.ghg   \n",
       "2023-06-15 02:00:00  yyyy-mm-ddTHHMM??_LI-7200.ghg   \n",
       "...                                            ...   \n",
       "2024-02-04 09:00:00                              ~   \n",
       "2024-02-04 09:30:00                              ~   \n",
       "2024-02-04 10:00:00                              ~   \n",
       "2024-02-04 10:30:00  yyyy-mm-ddTHHMM??_LI-7200.ghg   \n",
       "2024-02-04 11:00:00  yyyy-mm-ddTHHMM??_LI-7200.ghg   \n",
       "\n",
       "                                   Filter Flags  groupID  \n",
       "TIMESTAMP                                                 \n",
       "2023-06-15 00:00:00                           ~        1  \n",
       "2023-06-15 00:30:00                           ~        3  \n",
       "2023-06-15 01:00:00                           ~        3  \n",
       "2023-06-15 01:30:00                           ~        3  \n",
       "2023-06-15 02:00:00                           ~        3  \n",
       "...                                         ...      ...  \n",
       "2024-02-04 09:00:00                           ~    -9999  \n",
       "2024-02-04 09:30:00                           ~    -9999  \n",
       "2024-02-04 10:00:00                           ~    -9999  \n",
       "2024-02-04 10:30:00  LI7200_Filter: condition_1    -9999  \n",
       "2024-02-04 11:00:00  LI7200_Filter: condition_1    -9999  \n",
       "\n",
       "[11255 rows x 5 columns]"
      ]
     },
     "execution_count": 3,
     "metadata": {},
     "output_type": "execute_result"
    }
   ],
   "source": [
    "# eP.fileInventory.loc[eP.fileInventory.index.year==2019].groupby('groupID').count()['filename']\n",
    "# # eP.groupAndFilter()\n",
    "# # eP.metaDataValues.loc[eP.metaDataValues.index.year==2019]\n",
    "eP.fileInventory"
   ]
  },
  {
   "cell_type": "code",
   "execution_count": 14,
   "metadata": {},
   "outputs": [],
   "source": [
    "eP.fileInventory=eP.fileInventory.loc[eP.fileInventory.index.year>2019].copy()\n",
    "# eP.rawDataStatistics=eP.rawDataStatistics.loc[eP.rawDataStatistics.index.year>2019].copy()\n",
    "# eP.metaDataValues=eP.metaDataValues.loc[eP.metaDataValues.index.year>2019].copy()\n",
    "# eP.configurationGroups=eP.configurationGroups.loc[eP.configurationGroups.index.year>2019].copy()\n",
    "eP.saveMetadataFiles()"
   ]
  },
  {
   "cell_type": "code",
   "execution_count": 12,
   "metadata": {},
   "outputs": [
    {
     "name": "stdout",
     "output_type": "stream",
     "text": [
      "Elapsed:  541.9344818592072\n"
     ]
    }
   ],
   "source": [
    "from distutils.dir_util import copy_tree\n",
    "import batchProcessing\n",
    "import time\n",
    "T1 = time.time()\n",
    "d_in,d_out = 'Y:\\\\BB\\\\eddyProAPIOutputs\\\\202408221035\\\\group_6\\\\eddypro_full_cospectra','Y:\\\\BB\\\\cpTest'\n",
    "# copy_tree(d_in,d_out) > Takes 541 seconds\n",
    "batchProcessing.pasteWithSubprocess(d_in,d_out+'2',option='xcopy')\n",
    "print('Elapsed: ',time.time() - T1)"
   ]
  },
  {
   "cell_type": "code",
   "execution_count": 8,
   "metadata": {},
   "outputs": [
    {
     "name": "stdout",
     "output_type": "stream",
     "text": [
      "Y:\\BB\\metadata\\test.csv\n"
     ]
    }
   ],
   "source": [
    "import pandas as pd\n",
    "import os\n",
    "df = pd.DataFrame(data={'a':[1,2],'b':[3,4]})\n",
    "# pth = 'Y://BB//metadata//BB_biometData_202405010000_202405040000.csv'\n",
    "pth = 'Y://BB/metadata/test.csv'\n",
    "pth = os.path.abspath(pth)\n",
    "# df.to_csv(pth,index=False)\n",
    "print(pth)"
   ]
  },
  {
   "cell_type": "markdown",
   "metadata": {},
   "source": [
    "## Example Command Line Call\n",
    "\n",
    "\n",
    "'One winmet call this before activating .venv\n",
    "```\n",
    "Set-ExecutionPolicy Unrestricted -Scope Process\n",
    "```\n",
    "\n",
    "\n",
    "```\n",
    ".\\.venv\\Scripts\\activate                                                               \n",
    "```                                                                                                     \n",
    "```\n",
    "py eddyProAPI.py --siteID BB --biometUser True --sourceDir Y:/BB/raw/2024/ --metaDataUpdates Y:/BB/Manual_Metadata_Updates.csv --runMode full --eddyProStaticConfig ini_files/ClosedPathStandard.eddypro\n",
    "```\n",
    "\n",
    "```\n",
    "py eddyProAPI.py --siteID BBS --biometUser True --sourceDir C:/data-dump/BBS/EC_Station/2024/ --metaDataTemplate C:/highfreq/BBS/TOA5_BBS.FLUX_2023_06_14_1500.metadata --runMode 1 --eddyProStaticConfig ini_files/OpenPathStandard.eddypro --fileType dat --timeShift 30\n",
    "```\n",
    "\n",
    "# siteID = 'BBS'\n",
    "# kwargs = {\n",
    "#     'dateRange':['2023-06-01','2024-05-31'],\n",
    "#     'sourceDir':\"X:/BBS/EC_Station/2024/20240516/\",\n",
    "#     'searchTag':\"BBS.FLUX\",\n",
    "#     'timeShift':30,\n",
    "#     'fileType':'dat',\n",
    "#     'metaDataTemplate':'Y:/BBS/TOA5_BBS.FLUX_2023_06_14_1500.metadata',\n",
    "# }\n"
   ]
  },
  {
   "cell_type": "code",
   "execution_count": 8,
   "metadata": {},
   "outputs": [
    {
     "data": {
      "text/plain": [
       "MultiIndex([(   'Site',           'site_name'),\n",
       "            (   'Site',            'altitude'),\n",
       "            (   'Site',            'latitude'),\n",
       "            (   'Site',           'longitude'),\n",
       "            (   'Site',       'canopy_height'),\n",
       "            (   'Site', 'displacement_height'),\n",
       "            (   'Site',    'roughness_length'),\n",
       "            ('Station',        'station_name'),\n",
       "            ('Station',           'logger_id'),\n",
       "            ('Station',   'logger_sw_version'),\n",
       "            ...\n",
       "            ( 'Custom',  'col_49_header_name'),\n",
       "            ( 'Custom',  'col_50_header_name'),\n",
       "            ( 'Custom',  'col_51_header_name'),\n",
       "            ( 'Custom',  'col_52_header_name'),\n",
       "            ( 'Custom',  'col_53_header_name'),\n",
       "            ( 'Custom',  'col_54_header_name'),\n",
       "            ( 'Custom',  'col_55_header_name'),\n",
       "            ( 'Custom',  'col_56_header_name'),\n",
       "            ( 'Timing',     'expectedSamples'),\n",
       "            (  'group',                  'ID')],\n",
       "           length=837)"
      ]
     },
     "execution_count": 8,
     "metadata": {},
     "output_type": "execute_result"
    }
   ],
   "source": [
    "import pandas as pd\n",
    "pth = \"C:\\\\temp\\\\BB\\\\metadata\\\\rawDataStatistics.csv\"\n",
    "kwargs = {\n",
    "    'parse_dates': [0],\n",
    "    'index_col': [0],\n",
    "    'header': [0,1,2]\n",
    "}\n",
    "df = pd.read_csv(pth,**kwargs)\n",
    "df.columns[0]\n",
    "\n",
    "eP.metaDataValues.columns"
   ]
  },
  {
   "cell_type": "code",
   "execution_count": 22,
   "metadata": {},
   "outputs": [
    {
     "data": {
      "text/plain": [
       "Index([           ('Seconds', '~', 'count'),\n",
       "                    ('Seconds', '~', 'max'),\n",
       "                   ('Seconds', '~', 'mean'),\n",
       "                 ('Seconds', '~', 'median'),\n",
       "                    ('Seconds', '~', 'min'),\n",
       "                    ('Seconds', '~', 'std'),\n",
       "              ('Nanoseconds', '~', 'count'),\n",
       "                ('Nanoseconds', '~', 'max'),\n",
       "               ('Nanoseconds', '~', 'mean'),\n",
       "             ('Nanoseconds', '~', 'median'),\n",
       "       ...\n",
       "       ('CH4 Drop Rate (%)', '~', 'median'),\n",
       "          ('CH4 Drop Rate (%)', '~', 'min'),\n",
       "          ('CH4 Drop Rate (%)', '~', 'std'),\n",
       "                      ('CHK', '~', 'count'),\n",
       "                        ('CHK', '~', 'max'),\n",
       "                       ('CHK', '~', 'mean'),\n",
       "                     ('CHK', '~', 'median'),\n",
       "                        ('CHK', '~', 'min'),\n",
       "                        ('CHK', '~', 'std'),\n",
       "                       ('group', 'ID', '~')],\n",
       "      dtype='object', length=325)"
      ]
     },
     "execution_count": 22,
     "metadata": {},
     "output_type": "execute_result"
    }
   ],
   "source": [
    "Temp = eP.rawDataStatistics.copy()\n",
    "cols = Temp.columns\n",
    "nuCols = []\n",
    "for c in cols:\n",
    "    c = [a if a != '' else eP.config['stringTags']['NaN'] for a in c]\n",
    "    nuCols.append(tuple(c))\n",
    "# # cols[cols == ''] = eP.config['stringTags']['NaN']\n",
    "# # cols\n",
    "# Temp.columns.set_levels(cols,level=1)\n",
    "Temp.columns = nuCols\n",
    "Temp.columns"
   ]
  },
  {
   "cell_type": "code",
   "execution_count": 1,
   "metadata": {},
   "outputs": [],
   "source": [
    "\n",
    "# Example run for BB on one day in 2024\n",
    "siteID = 'BB'\n",
    "kwargs = {\n",
    "    'dateRange':['2024-04-01','2024-04-02'],\n",
    "    'sourceDir':\"Y:/BB/raw/2024/\",\n",
    "    # 'reset':True,\n",
    "    'metaDataUpdates':'Y:/BB/Manual_Metadata_Updates.csv',\n",
    "    'priority':'High Priority'\n",
    "}\n",
    "\n",
    "# # # Example run for All BBS data from the Datadump Folder 20240516\n",
    "# siteID = 'BBS'\n",
    "# kwargs = {\n",
    "#     'dateRange':['2023-06-01','2024-05-31'],\n",
    "#     'sourceDir':\"X:/BBS/EC_Station/2024/20240516/\",\n",
    "#     'searchTag':\"BBS.FLUX\",\n",
    "#     'timeShift':30,\n",
    "#     'fileType':'dat',\n",
    "#     'metaDataTemplate':'Y:/BBS/TOA5_BBS.FLUX_2023_06_14_1500.metadata',\n",
    "# }\n",
    "\n",
    "\n",
    "# # Cospectral correction options\n",
    "# hf_meth = {\n",
    "#     'Moncrieff et al. (1997)':'1',\n",
    "#     'Horst (1997)':'2',\n",
    "#     'Ibrom et al. (2007)':'3',\n",
    "#     'Fratini et al. (2012)':'4', # Recommended for closed path systems, when sufficient data (>1 month) are available\n",
    "#     'Massman (2000, 2001)':'5'\n",
    "# }\n",
    "\n",
    "# if siteID == 'BBS':\n",
    "#     userDefinedEddyProSettings = {\n",
    "#         'Project':{\n",
    "#             'hf_meth':'1'\n",
    "#             },\n",
    "#         'RawProcess_Settings':{\n",
    "#             'v_offset':0.08,\n",
    "#             'u_offset':-0.04\n",
    "#             },\n",
    "#         }\n",
    "#     kwargs['userDefinedEddyProSettings'] = userDefinedEddyProSettings"
   ]
  },
  {
   "cell_type": "markdown",
   "metadata": {},
   "source": [
    "# Check the configurations"
   ]
  },
  {
   "cell_type": "code",
   "execution_count": 6,
   "metadata": {},
   "outputs": [
    {
     "name": "stdout",
     "output_type": "stream",
     "text": [
      "Deleting contents of : C:/Users/labuser/Temp//BB/metadata/\n",
      "Deleting contents of : C:/Users/labuser/Temp//BB/raw/\n"
     ]
    },
    {
     "data": {
      "text/plain": [
       "{'Biomet.Net': 'C:/Users/labuser/Biomet.net/', 'Database': 'W:/'}"
      ]
     },
     "execution_count": 6,
     "metadata": {},
     "output_type": "execute_result"
    }
   ],
   "source": [
    "# import eddyProAPI\n",
    "# import importlib\n",
    "# importlib.reload(eddyProAPI)\n",
    "# # kwargs['siteID'] = siteID\n",
    "# kwargs = {\n",
    "#     'siteID':'BB',\n",
    "#     'dateRange':['2024-04-01','2024-04-15'],\n",
    "#     'sourceDir':\"Y:/BB/raw/2024/04\",\n",
    "#     'reset':True,\n",
    "#     'metaDataUpdates':'Y:/BB/Manual_Metadata_Updates.csv',\n",
    "#     'priority':'High Priority'\n",
    "# }\n",
    "# kwargs['userDefinedEddyProSettings'] = {\n",
    "#         'Project':{\n",
    "#             'hf_meth':'4'\n",
    "#             }}\n",
    "\n",
    "# eP = eddyProAPI.eddyProAPI(**kwargs)\n",
    "# eP.config['BiometUser']"
   ]
  },
  {
   "cell_type": "markdown",
   "metadata": {},
   "source": [
    "## Run PreProcessing"
   ]
  },
  {
   "cell_type": "code",
   "execution_count": 1,
   "metadata": {},
   "outputs": [
    {
     "name": "stdout",
     "output_type": "stream",
     "text": [
      "Initializing tasks for BB over: ['2024-04-15 00:00' '2024-04-17 00:00']\n",
      "See output: C:/temp//BB/metadata//BB_biometData_202404150000_202404170000.csv\n",
      "canopy_height missing, outputting NaNs\n",
      "See output: C:/temp//BB/metadata//BB_dynamicMetadata_202404150000_202404170000.csv\n",
      "All tasks completed successfully\n",
      "fileInventory {'parse_dates': [0], 'index_col': [0], 'filepath_or_buffer': 'C:/temp//BB/metadata/fileInventory.csv'}\n",
      "rawDataStatistics {'parse_dates': [0], 'index_col': [0], 'header': [0, 1, 2], 'filepath_or_buffer': 'C:/temp//BB/metadata/rawDataStatistics.csv'}\n",
      "metaDataValues {'parse_dates': [0], 'index_col': [0], 'header': [0, 1], 'filepath_or_buffer': 'C:/temp//BB/metadata/metaDataValues.csv'}\n",
      "configurationGroups {'index_col': [0], 'header': [0, 1, 2], 'filepath_or_buffer': 'C:/temp//BB/metadata/configurationGroups.csv'}\n",
      "Searching C:/highfreq/BB/raw/2024/04\n",
      "[████████████████████████████████████████████████████████████] 110/110\n",
      "\n",
      "Files Search Complete, time elapsed:  0.914\n",
      "Reading Data\n",
      "Reading Complete, time elapsed:  0.021\n",
      "Applying Manual Metadata Adjustments\n",
      "Manual Metadata Adjustments Complete\n",
      "Grouping by Configuration\n",
      "Writing Metadata Files\n",
      "Applying Filters:\n",
      "\n",
      " Sonic_Filter :\n",
      "condition_1\n",
      "min variables ['Aux 1 - U (m/s)' 'Aux 2 - V (m/s)' 'Aux 3 - W (m/s)'] criteria Data.loc[groupIX,variables]<-100\n",
      "(0,)\n",
      "max variables ['Aux 1 - U (m/s)' 'Aux 2 - V (m/s)' 'Aux 3 - W (m/s)'] criteria Data.loc[groupIX,variables]>100\n",
      "(0,)\n",
      "\n",
      " LI7200_Filter :\n",
      "condition_1\n",
      "mean variables ['Flow Rate (lpm)'] criteria Data.loc[groupIX,variables]<10\n",
      "(0,)\n",
      "condition_2\n",
      "mean variables ['Average Signal Strength'] criteria Data.loc[groupIX,variables]<90\n",
      "(0,)\n",
      "Pre-Processing complete, time elapsed 2.711 seconds\n"
     ]
    }
   ],
   "source": [
    "import eddyProAPI\n",
    "import importlib\n",
    "importlib.reload(eddyProAPI)\n",
    "kwargs = {\n",
    "    'siteID':'BB',\n",
    "    'dateRange':['2024-04-15','2024-04-17'],\n",
    "    'sourceDir':\"C:/highfreq/BB/raw/2024/04\",\n",
    "    # 'reset':True,\n",
    "    'metaDataUpdates':'C:/highfreq/BB/Manual_Metadata_Updates.csv',\n",
    "    'priority':'High Priority',\n",
    "    'biometUser':True\n",
    "}\n",
    "kwargs['userDefinedEddyProSettings'] = {\n",
    "        'Project':{\n",
    "            'hf_meth':'4'\n",
    "            }}\n",
    "pre = eddyProAPI.preProcessing(**kwargs)"
   ]
  },
  {
   "cell_type": "markdown",
   "metadata": {},
   "source": [
    "# Run EddyPro in Parallel over date range"
   ]
  },
  {
   "cell_type": "code",
   "execution_count": 4,
   "metadata": {},
   "outputs": [
    {
     "name": "stdout",
     "output_type": "stream",
     "text": [
      "Initializing tasks for BB over: ['2024-04-15 00:00' '2024-04-17 00:00']\n",
      "See output: C:/temp//BB/metadata//BB_biometData_202404150000_202404170000.csv\n",
      "canopy_height missing, outputting NaNs\n",
      "See output: C:/temp//BB/metadata//BB_dynamicMetadata_202404150000_202404170000.csv\n",
      "All tasks completed successfully\n",
      "Warning, available data in group 1 is below recommended size for selected settings.\n",
      "1 group_1_rp_A group_1_yyyy-mm-ddTHHMM??_LI-7200.ghg 2024-04-15 00:00:00 2024-04-15 11:30:00 23\n",
      "Creating c:\\MM_Py\\EddyPro_API\\temp\\group_1_rp_A.eddypro for 23 files\n",
      "1 group_1_fcc group_1_yyyy-mm-ddTHHMM??_LI-7200.ghg 2024-04-15 00:00:00 2024-04-15 11:30:00 23\n",
      "Creating c:\\MM_Py\\EddyPro_API\\temp\\group_1_fcc.eddypro for 23 files\n",
      "Initiating EddyPro Runs for group on 1 cores at High Priority priority\n"
     ]
    }
   ],
   "source": [
    "\n",
    "import eddyProAPI\n",
    "import importlib\n",
    "importlib.reload(eddyProAPI)\n",
    "\n",
    "kwargs['dumpToBiometDatabase']=True\n",
    "# if kwargs['reset'] == True:\n",
    "#     kwargs['reset'] = False\n",
    "eP = eddyProAPI.runEP(**kwargs)"
   ]
  },
  {
   "cell_type": "code",
   "execution_count": 20,
   "metadata": {},
   "outputs": [
    {
     "name": "stdout",
     "output_type": "stream",
     "text": [
      "C:\\Users\\labuser\\EddyPro_API\\temp Y:\\BB\\eddyProAPIOutputs\n",
      "True\n",
      "True\n",
      "CompletedProcess(args=['move', 'C:\\\\Users\\\\labuser\\\\EddyPro_API\\\\temp', 'Y:\\\\BB\\\\eddyProAPIOutputs'], returncode=1, stdout=b'', stderr=b'Access is denied.\\r\\n')\n"
     ]
    }
   ],
   "source": [
    "import batchProcessing\n",
    "import importlib\n",
    "importlib.reload(batchProcessing)\n",
    "import os\n",
    "\n",
    "d_out = os.path.abspath('Y:\\\\BB\\\\eddyProAPIOutputs')\n",
    "d_in = os.path.abspath('C:\\\\Users\\\\labuser\\\\EddyPro_API\\\\temp ')\n",
    "print(d_in,d_out)\n",
    "print(os.path.isdir(d_in))\n",
    "print(os.path.isdir(d_out))\n",
    "batchProcessing.pasteWithSubprocess(d_in,d_out,option='xcopy',Verbose=True)"
   ]
  }
 ],
 "metadata": {
  "kernelspec": {
   "display_name": ".venv",
   "language": "python",
   "name": "python3"
  },
  "language_info": {
   "codemirror_mode": {
    "name": "ipython",
    "version": 3
   },
   "file_extension": ".py",
   "mimetype": "text/x-python",
   "name": "python",
   "nbconvert_exporter": "python",
   "pygments_lexer": "ipython3",
   "version": "3.11.5"
  },
  "orig_nbformat": 4,
  "vscode": {
   "interpreter": {
    "hash": "ef0cd03416062db1397a6f4c064b2fd8fe41d0681561742315105bdf1dc915d9"
   }
  }
 },
 "nbformat": 4,
 "nbformat_minor": 2
}
