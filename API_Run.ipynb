{
 "cells": [
  {
   "cell_type": "markdown",
   "metadata": {},
   "source": [
    "# EddyPro API\n",
    "\n",
    "This notebook gives an outline for working with the API.\n",
    "\n",
    "* First step is to define your input primary parameters.  You need to give a siteID, everything else is *optional*.\n",
    "\n",
    "    * kwargs (dict of all optional settings):\\\n",
    "        * sourceDir: if not provided, assumes data are already in Outputs folder\n",
    "        * dateRange (if not provided, will run all files in the current year)\n",
    "        * fileType (defaults to .ghg) must specify otherwise for \n",
    "        * metadataTemplate (only required for .dat files)\n",
    "\n"
   ]
  },
  {
   "cell_type": "code",
   "execution_count": 14,
   "metadata": {},
   "outputs": [
    {
     "name": "stdout",
     "output_type": "stream",
     "text": [
      "Biomet user: Querying database for up-to-date biomet data\n",
      "Generating requested files tasks for BB over: ['2024-01-01 00:00' '2024-08-19 00:00']\n",
      "See output: C:\\highfreq\\BB\\metadata/BB_biometData_202401010000_202408190000.csv\n",
      "canopy_height missing, outputting NaNs\n",
      "See output: C:\\highfreq\\BB\\metadata/BB_dynamicMetadata_202401010000_202408190000.csv\n",
      "Searching C:/highfreq/BB/raw/\n",
      "[████████████████████████████████████████████████████████████] 8/8\n",
      "\n",
      "Searching C:/highfreq/BB/raw/2023\\06\n",
      "[████████████████████████████████████████████████████████████] 48/48\n",
      "\n",
      "Searching C:/highfreq/BB/raw/2024\\04\n",
      "[████████████████████████████████████████████████████████████] 133/133\n",
      "\n",
      "Searching C:/highfreq/BB/raw/system_config\n",
      "[████████████████████████████████████████████████████████████] 1/1\n",
      "\n",
      "Files Search Complete, time elapsed:  3.965\n",
      "Reading Data\n",
      "[████████████████████████████████████████████████████████████] 133/133\n",
      "\n",
      "Reading Complete, time elapsed:  22.961\n",
      "Applying Manual Metadata Adjustments\n",
      "Manual Metadata Adjustments Complete\n",
      "Grouping by Configuration\n",
      "MultiIndex([('group', 'ID', '~')],\n",
      "           )\n",
      "Index(['groupID'], dtype='object')\n",
      "Writing Metadata Files\n",
      "Applying Filters:\n",
      "Sonic_Filter :\n",
      "condition_1\n",
      "min variables ['Aux 1 - U (m/s)' 'Aux 2 - V (m/s)' 'Aux 3 - W (m/s)'] criteria Data.loc[groupIX,variables]<-100\n",
      "nfiltered:  0\n",
      "max variables ['Aux 1 - U (m/s)' 'Aux 2 - V (m/s)' 'Aux 3 - W (m/s)'] criteria Data.loc[groupIX,variables]>100\n",
      "nfiltered:  0\n",
      "min variables ['Aux 1 - U (m/s)' 'Aux 2 - V (m/s)' 'Aux 3 - W (m/s)'] criteria Data.loc[groupIX,variables]<-100\n",
      "nfiltered:  0\n",
      "max variables ['Aux 1 - U (m/s)' 'Aux 2 - V (m/s)' 'Aux 3 - W (m/s)'] criteria Data.loc[groupIX,variables]>100\n",
      "nfiltered:  0\n",
      "min variables ['Aux 1 - U (m/s)' 'Aux 2 - V (m/s)' 'Aux 3 - W (m/s)'] criteria Data.loc[groupIX,variables]<-100\n",
      "nfiltered:  0\n",
      "max variables ['Aux 1 - U (m/s)' 'Aux 2 - V (m/s)' 'Aux 3 - W (m/s)'] criteria Data.loc[groupIX,variables]>100\n",
      "nfiltered:  0\n",
      "LI7200_Filter :\n",
      "condition_1\n",
      "mean variables ['Flow Rate (lpm)'] criteria Data.loc[groupIX,variables]<10\n",
      "nfiltered:  0\n",
      "mean variables ['Flow Rate (lpm)'] criteria Data.loc[groupIX,variables]<10\n",
      "nfiltered:  0\n",
      "mean variables ['Flow Rate (lpm)'] criteria Data.loc[groupIX,variables]<10\n",
      "nfiltered:  0\n",
      "condition_2\n",
      "mean variables ['Average Signal Strength'] criteria Data.loc[groupIX,variables]<90\n",
      "nfiltered:  1\n",
      "mean variables ['Average Signal Strength'] criteria Data.loc[groupIX,variables]<90\n",
      "nfiltered:  0\n",
      "mean variables ['Average Signal Strength'] criteria Data.loc[groupIX,variables]<90\n",
      "nfiltered:  0\n",
      "Pre-Processing complete, time elapsed 30.974 seconds\n"
     ]
    }
   ],
   "source": [
    "import eddyProAPI\n",
    "import importlib\n",
    "importlib.reload(eddyProAPI)\n",
    "kwargs = {\n",
    "    'siteID':'BB',\n",
    "    # 'dateRange':['2023-06-1 10:00','2023-06-30 23:59'],\n",
    "    'sourceDir':\"C:/highfreq/BB/raw/\",\n",
    "    # 'reset':True,\n",
    "    'metaDataUpdates':'C:/highfreq/BB/Manual_Metadata_Updates.csv',\n",
    "    'priority':'High Priority',\n",
    "    'runMode':'1',\n",
    "    # 'processes':1,\n",
    "    'biometUser':True\n",
    "}\n",
    "kwargs['userDefinedEddyProSettings'] = {\n",
    "        # 'Project':{\n",
    "        #     'hf_meth':'4'\n",
    "        #     }\n",
    "            }\n",
    "eP = eddyProAPI.eddyProAPI(**kwargs)"
   ]
  },
  {
   "cell_type": "code",
   "execution_count": 9,
   "metadata": {},
   "outputs": [
    {
     "data": {
      "text/plain": [
       "dtype('O')"
      ]
     },
     "execution_count": 9,
     "metadata": {},
     "output_type": "execute_result"
    }
   ],
   "source": [
    "eP.metaDataValues[('FileDescription','col_56_conversion')].dtypes"
   ]
  },
  {
   "cell_type": "code",
   "execution_count": 8,
   "metadata": {},
   "outputs": [
    {
     "name": "stdout",
     "output_type": "stream",
     "text": [
      "Y:\\BB\\metadata\\test.csv\n"
     ]
    }
   ],
   "source": [
    "import pandas as pd\n",
    "import os\n",
    "df = pd.DataFrame(data={'a':[1,2],'b':[3,4]})\n",
    "# pth = 'Y://BB//metadata//BB_biometData_202405010000_202405040000.csv'\n",
    "pth = 'Y://BB/metadata/test.csv'\n",
    "pth = os.path.abspath(pth)\n",
    "# df.to_csv(pth,index=False)\n",
    "print(pth)"
   ]
  },
  {
   "cell_type": "markdown",
   "metadata": {},
   "source": [
    "## Example Command Line Call\n",
    "\n",
    "\n",
    "'One winmet call this before activating .venv\n",
    "```\n",
    "Set-ExecutionPolicy Unrestricted -Scope Process\n",
    "```\n",
    "\n",
    "\n",
    "```\n",
    ".\\.venv\\Scripts\\activate                                                               \n",
    "```                                                                                                     \n",
    "```\n",
    "py eddyProAPI.py --siteID BB --biometUser True --sourceDir Y:/BB/raw/2024/ --metaDataUpdates Y:/BB/Manual_Metadata_Updates.csv --runMode full --eddyProStaticConfig ini_files/ClosedPathStandard.eddypro\n",
    "```\n",
    "\n",
    "```\n",
    "py eddyProAPI.py --siteID BBS --biometUser True --sourceDir C:/data-dump/BBS/EC_Station/2024/ --metaDataTemplate C:/highfreq/BBS/TOA5_BBS.FLUX_2023_06_14_1500.metadata --runMode 1 --eddyProStaticConfig ini_files/OpenPathStandard.eddypro --fileType dat --timeShift 30\n",
    "```\n",
    "\n",
    "# siteID = 'BBS'\n",
    "# kwargs = {\n",
    "#     'dateRange':['2023-06-01','2024-05-31'],\n",
    "#     'sourceDir':\"X:/BBS/EC_Station/2024/20240516/\",\n",
    "#     'searchTag':\"BBS.FLUX\",\n",
    "#     'timeShift':30,\n",
    "#     'fileType':'dat',\n",
    "#     'metaDataTemplate':'Y:/BBS/TOA5_BBS.FLUX_2023_06_14_1500.metadata',\n",
    "# }\n"
   ]
  },
  {
   "cell_type": "code",
   "execution_count": 8,
   "metadata": {},
   "outputs": [
    {
     "data": {
      "text/plain": [
       "MultiIndex([(   'Site',           'site_name'),\n",
       "            (   'Site',            'altitude'),\n",
       "            (   'Site',            'latitude'),\n",
       "            (   'Site',           'longitude'),\n",
       "            (   'Site',       'canopy_height'),\n",
       "            (   'Site', 'displacement_height'),\n",
       "            (   'Site',    'roughness_length'),\n",
       "            ('Station',        'station_name'),\n",
       "            ('Station',           'logger_id'),\n",
       "            ('Station',   'logger_sw_version'),\n",
       "            ...\n",
       "            ( 'Custom',  'col_49_header_name'),\n",
       "            ( 'Custom',  'col_50_header_name'),\n",
       "            ( 'Custom',  'col_51_header_name'),\n",
       "            ( 'Custom',  'col_52_header_name'),\n",
       "            ( 'Custom',  'col_53_header_name'),\n",
       "            ( 'Custom',  'col_54_header_name'),\n",
       "            ( 'Custom',  'col_55_header_name'),\n",
       "            ( 'Custom',  'col_56_header_name'),\n",
       "            ( 'Timing',     'expectedSamples'),\n",
       "            (  'group',                  'ID')],\n",
       "           length=837)"
      ]
     },
     "execution_count": 8,
     "metadata": {},
     "output_type": "execute_result"
    }
   ],
   "source": [
    "import pandas as pd\n",
    "pth = \"C:\\\\temp\\\\BB\\\\metadata\\\\rawDataStatistics.csv\"\n",
    "kwargs = {\n",
    "    'parse_dates': [0],\n",
    "    'index_col': [0],\n",
    "    'header': [0,1,2]\n",
    "}\n",
    "df = pd.read_csv(pth,**kwargs)\n",
    "df.columns[0]\n",
    "\n",
    "eP.metaDataValues.columns"
   ]
  },
  {
   "cell_type": "code",
   "execution_count": 22,
   "metadata": {},
   "outputs": [
    {
     "data": {
      "text/plain": [
       "Index([           ('Seconds', '~', 'count'),\n",
       "                    ('Seconds', '~', 'max'),\n",
       "                   ('Seconds', '~', 'mean'),\n",
       "                 ('Seconds', '~', 'median'),\n",
       "                    ('Seconds', '~', 'min'),\n",
       "                    ('Seconds', '~', 'std'),\n",
       "              ('Nanoseconds', '~', 'count'),\n",
       "                ('Nanoseconds', '~', 'max'),\n",
       "               ('Nanoseconds', '~', 'mean'),\n",
       "             ('Nanoseconds', '~', 'median'),\n",
       "       ...\n",
       "       ('CH4 Drop Rate (%)', '~', 'median'),\n",
       "          ('CH4 Drop Rate (%)', '~', 'min'),\n",
       "          ('CH4 Drop Rate (%)', '~', 'std'),\n",
       "                      ('CHK', '~', 'count'),\n",
       "                        ('CHK', '~', 'max'),\n",
       "                       ('CHK', '~', 'mean'),\n",
       "                     ('CHK', '~', 'median'),\n",
       "                        ('CHK', '~', 'min'),\n",
       "                        ('CHK', '~', 'std'),\n",
       "                       ('group', 'ID', '~')],\n",
       "      dtype='object', length=325)"
      ]
     },
     "execution_count": 22,
     "metadata": {},
     "output_type": "execute_result"
    }
   ],
   "source": [
    "Temp = eP.rawDataStatistics.copy()\n",
    "cols = Temp.columns\n",
    "nuCols = []\n",
    "for c in cols:\n",
    "    c = [a if a != '' else eP.config['stringTags']['NaN'] for a in c]\n",
    "    nuCols.append(tuple(c))\n",
    "# # cols[cols == ''] = eP.config['stringTags']['NaN']\n",
    "# # cols\n",
    "# Temp.columns.set_levels(cols,level=1)\n",
    "Temp.columns = nuCols\n",
    "Temp.columns"
   ]
  },
  {
   "cell_type": "code",
   "execution_count": 1,
   "metadata": {},
   "outputs": [],
   "source": [
    "\n",
    "# Example run for BB on one day in 2024\n",
    "siteID = 'BB'\n",
    "kwargs = {\n",
    "    'dateRange':['2024-04-01','2024-04-02'],\n",
    "    'sourceDir':\"Y:/BB/raw/2024/\",\n",
    "    # 'reset':True,\n",
    "    'metaDataUpdates':'Y:/BB/Manual_Metadata_Updates.csv',\n",
    "    'priority':'High Priority'\n",
    "}\n",
    "\n",
    "# # # Example run for All BBS data from the Datadump Folder 20240516\n",
    "# siteID = 'BBS'\n",
    "# kwargs = {\n",
    "#     'dateRange':['2023-06-01','2024-05-31'],\n",
    "#     'sourceDir':\"X:/BBS/EC_Station/2024/20240516/\",\n",
    "#     'searchTag':\"BBS.FLUX\",\n",
    "#     'timeShift':30,\n",
    "#     'fileType':'dat',\n",
    "#     'metaDataTemplate':'Y:/BBS/TOA5_BBS.FLUX_2023_06_14_1500.metadata',\n",
    "# }\n",
    "\n",
    "\n",
    "# # Cospectral correction options\n",
    "# hf_meth = {\n",
    "#     'Moncrieff et al. (1997)':'1',\n",
    "#     'Horst (1997)':'2',\n",
    "#     'Ibrom et al. (2007)':'3',\n",
    "#     'Fratini et al. (2012)':'4', # Recommended for closed path systems, when sufficient data (>1 month) are available\n",
    "#     'Massman (2000, 2001)':'5'\n",
    "# }\n",
    "\n",
    "# if siteID == 'BBS':\n",
    "#     userDefinedEddyProSettings = {\n",
    "#         'Project':{\n",
    "#             'hf_meth':'1'\n",
    "#             },\n",
    "#         'RawProcess_Settings':{\n",
    "#             'v_offset':0.08,\n",
    "#             'u_offset':-0.04\n",
    "#             },\n",
    "#         }\n",
    "#     kwargs['userDefinedEddyProSettings'] = userDefinedEddyProSettings"
   ]
  },
  {
   "cell_type": "markdown",
   "metadata": {},
   "source": [
    "# Check the configurations"
   ]
  },
  {
   "cell_type": "code",
   "execution_count": 6,
   "metadata": {},
   "outputs": [
    {
     "name": "stdout",
     "output_type": "stream",
     "text": [
      "Deleting contents of : C:/Users/labuser/Temp//BB/metadata/\n",
      "Deleting contents of : C:/Users/labuser/Temp//BB/raw/\n"
     ]
    },
    {
     "data": {
      "text/plain": [
       "{'Biomet.Net': 'C:/Users/labuser/Biomet.net/', 'Database': 'W:/'}"
      ]
     },
     "execution_count": 6,
     "metadata": {},
     "output_type": "execute_result"
    }
   ],
   "source": [
    "# import eddyProAPI\n",
    "# import importlib\n",
    "# importlib.reload(eddyProAPI)\n",
    "# # kwargs['siteID'] = siteID\n",
    "# kwargs = {\n",
    "#     'siteID':'BB',\n",
    "#     'dateRange':['2024-04-01','2024-04-15'],\n",
    "#     'sourceDir':\"Y:/BB/raw/2024/04\",\n",
    "#     'reset':True,\n",
    "#     'metaDataUpdates':'Y:/BB/Manual_Metadata_Updates.csv',\n",
    "#     'priority':'High Priority'\n",
    "# }\n",
    "# kwargs['userDefinedEddyProSettings'] = {\n",
    "#         'Project':{\n",
    "#             'hf_meth':'4'\n",
    "#             }}\n",
    "\n",
    "# eP = eddyProAPI.eddyProAPI(**kwargs)\n",
    "# eP.config['BiometUser']"
   ]
  },
  {
   "cell_type": "markdown",
   "metadata": {},
   "source": [
    "## Run PreProcessing"
   ]
  },
  {
   "cell_type": "code",
   "execution_count": 1,
   "metadata": {},
   "outputs": [
    {
     "name": "stdout",
     "output_type": "stream",
     "text": [
      "Initializing tasks for BB over: ['2024-04-15 00:00' '2024-04-17 00:00']\n",
      "See output: C:/temp//BB/metadata//BB_biometData_202404150000_202404170000.csv\n",
      "canopy_height missing, outputting NaNs\n",
      "See output: C:/temp//BB/metadata//BB_dynamicMetadata_202404150000_202404170000.csv\n",
      "All tasks completed successfully\n",
      "fileInventory {'parse_dates': [0], 'index_col': [0], 'filepath_or_buffer': 'C:/temp//BB/metadata/fileInventory.csv'}\n",
      "rawDataStatistics {'parse_dates': [0], 'index_col': [0], 'header': [0, 1, 2], 'filepath_or_buffer': 'C:/temp//BB/metadata/rawDataStatistics.csv'}\n",
      "metaDataValues {'parse_dates': [0], 'index_col': [0], 'header': [0, 1], 'filepath_or_buffer': 'C:/temp//BB/metadata/metaDataValues.csv'}\n",
      "configurationGroups {'index_col': [0], 'header': [0, 1, 2], 'filepath_or_buffer': 'C:/temp//BB/metadata/configurationGroups.csv'}\n",
      "Searching C:/highfreq/BB/raw/2024/04\n",
      "[████████████████████████████████████████████████████████████] 110/110\n",
      "\n",
      "Files Search Complete, time elapsed:  0.914\n",
      "Reading Data\n",
      "Reading Complete, time elapsed:  0.021\n",
      "Applying Manual Metadata Adjustments\n",
      "Manual Metadata Adjustments Complete\n",
      "Grouping by Configuration\n",
      "Writing Metadata Files\n",
      "Applying Filters:\n",
      "\n",
      " Sonic_Filter :\n",
      "condition_1\n",
      "min variables ['Aux 1 - U (m/s)' 'Aux 2 - V (m/s)' 'Aux 3 - W (m/s)'] criteria Data.loc[groupIX,variables]<-100\n",
      "(0,)\n",
      "max variables ['Aux 1 - U (m/s)' 'Aux 2 - V (m/s)' 'Aux 3 - W (m/s)'] criteria Data.loc[groupIX,variables]>100\n",
      "(0,)\n",
      "\n",
      " LI7200_Filter :\n",
      "condition_1\n",
      "mean variables ['Flow Rate (lpm)'] criteria Data.loc[groupIX,variables]<10\n",
      "(0,)\n",
      "condition_2\n",
      "mean variables ['Average Signal Strength'] criteria Data.loc[groupIX,variables]<90\n",
      "(0,)\n",
      "Pre-Processing complete, time elapsed 2.711 seconds\n"
     ]
    }
   ],
   "source": [
    "import eddyProAPI\n",
    "import importlib\n",
    "importlib.reload(eddyProAPI)\n",
    "kwargs = {\n",
    "    'siteID':'BB',\n",
    "    'dateRange':['2024-04-15','2024-04-17'],\n",
    "    'sourceDir':\"C:/highfreq/BB/raw/2024/04\",\n",
    "    # 'reset':True,\n",
    "    'metaDataUpdates':'C:/highfreq/BB/Manual_Metadata_Updates.csv',\n",
    "    'priority':'High Priority',\n",
    "    'biometUser':True\n",
    "}\n",
    "kwargs['userDefinedEddyProSettings'] = {\n",
    "        'Project':{\n",
    "            'hf_meth':'4'\n",
    "            }}\n",
    "pre = eddyProAPI.preProcessing(**kwargs)"
   ]
  },
  {
   "cell_type": "markdown",
   "metadata": {},
   "source": [
    "# Run EddyPro in Parallel over date range"
   ]
  },
  {
   "cell_type": "code",
   "execution_count": 4,
   "metadata": {},
   "outputs": [
    {
     "name": "stdout",
     "output_type": "stream",
     "text": [
      "Initializing tasks for BB over: ['2024-04-15 00:00' '2024-04-17 00:00']\n",
      "See output: C:/temp//BB/metadata//BB_biometData_202404150000_202404170000.csv\n",
      "canopy_height missing, outputting NaNs\n",
      "See output: C:/temp//BB/metadata//BB_dynamicMetadata_202404150000_202404170000.csv\n",
      "All tasks completed successfully\n",
      "Warning, available data in group 1 is below recommended size for selected settings.\n",
      "1 group_1_rp_A group_1_yyyy-mm-ddTHHMM??_LI-7200.ghg 2024-04-15 00:00:00 2024-04-15 11:30:00 23\n",
      "Creating c:\\MM_Py\\EddyPro_API\\temp\\group_1_rp_A.eddypro for 23 files\n",
      "1 group_1_fcc group_1_yyyy-mm-ddTHHMM??_LI-7200.ghg 2024-04-15 00:00:00 2024-04-15 11:30:00 23\n",
      "Creating c:\\MM_Py\\EddyPro_API\\temp\\group_1_fcc.eddypro for 23 files\n",
      "Initiating EddyPro Runs for group on 1 cores at High Priority priority\n"
     ]
    }
   ],
   "source": [
    "\n",
    "import eddyProAPI\n",
    "import importlib\n",
    "importlib.reload(eddyProAPI)\n",
    "\n",
    "kwargs['dumpToBiometDatabase']=True\n",
    "# if kwargs['reset'] == True:\n",
    "#     kwargs['reset'] = False\n",
    "eP = eddyProAPI.runEP(**kwargs)"
   ]
  },
  {
   "cell_type": "code",
   "execution_count": 20,
   "metadata": {},
   "outputs": [
    {
     "name": "stdout",
     "output_type": "stream",
     "text": [
      "C:\\Users\\labuser\\EddyPro_API\\temp Y:\\BB\\eddyProAPIOutputs\n",
      "True\n",
      "True\n",
      "CompletedProcess(args=['move', 'C:\\\\Users\\\\labuser\\\\EddyPro_API\\\\temp', 'Y:\\\\BB\\\\eddyProAPIOutputs'], returncode=1, stdout=b'', stderr=b'Access is denied.\\r\\n')\n"
     ]
    }
   ],
   "source": [
    "import batchProcessing\n",
    "import importlib\n",
    "importlib.reload(batchProcessing)\n",
    "import os\n",
    "\n",
    "d_out = os.path.abspath('Y:\\\\BB\\\\eddyProAPIOutputs')\n",
    "d_in = os.path.abspath('C:\\\\Users\\\\labuser\\\\EddyPro_API\\\\temp ')\n",
    "print(d_in,d_out)\n",
    "print(os.path.isdir(d_in))\n",
    "print(os.path.isdir(d_out))\n",
    "batchProcessing.pasteWithSubprocess(d_in,d_out,option='xcopy',Verbose=True)"
   ]
  }
 ],
 "metadata": {
  "kernelspec": {
   "display_name": ".venv",
   "language": "python",
   "name": "python3"
  },
  "language_info": {
   "codemirror_mode": {
    "name": "ipython",
    "version": 3
   },
   "file_extension": ".py",
   "mimetype": "text/x-python",
   "name": "python",
   "nbconvert_exporter": "python",
   "pygments_lexer": "ipython3",
   "version": "3.11.5"
  },
  "orig_nbformat": 4,
  "vscode": {
   "interpreter": {
    "hash": "ef0cd03416062db1397a6f4c064b2fd8fe41d0681561742315105bdf1dc915d9"
   }
  }
 },
 "nbformat": 4,
 "nbformat_minor": 2
}
