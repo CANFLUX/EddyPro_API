{
 "cells": [
  {
   "cell_type": "markdown",
   "metadata": {},
   "source": [
    "# EddyPro API\n",
    "\n",
    "This notebook gives an outline for working with the API.\n",
    "\n",
    "* First step is to define your input primary parameters.  You need to give a siteID, everything else is *optional*.\n",
    "\n",
    "    * kwargs (dict of all optional settings):\\\n",
    "        * sourceDir: if not provided, assumes data are already in Outputs folder\n",
    "        * dateRange (if not provided, will run all files in the current year)\n",
    "        * fileType (defaults to .ghg) must specify otherwise for \n",
    "        * metadataTemplate (only required for .dat files)\n",
    "\n"
   ]
  },
  {
   "cell_type": "code",
   "execution_count": 33,
   "metadata": {},
   "outputs": [],
   "source": [
    "# def makeUserConfig()\n",
    "\n",
    "\n",
    "# Example run for BB on one day in 2024\n",
    "siteID = 'BB'\n",
    "kwargs = {\n",
    "    'dateRange':['2024-04-01','2024-04-05'],\n",
    "    'sourceDir':\"C:/highfreq/BB/raw/\",\n",
    "    # 'reset':True,\n",
    "    'metadataUpdates':'C:/highfreq/BB/Manual_Metadata_Updates.csv',\n",
    "    'priority':'high'\n",
    "}\n",
    "\n",
    "# # # Example run for All BBS data from the Datadump Folder 20240516\n",
    "# siteID = 'BBS'\n",
    "# kwargs = {\n",
    "#     'dateRange':['2023-06-01','2024-05-31'],\n",
    "#     'sourceDir':\"X:/BBS/EC_Station/2024/20240516/\",\n",
    "#     'searchTag':\"BBS.FLUX\",\n",
    "#     'timeShift':30,\n",
    "#     'fileType':'dat',\n",
    "#     'metaDataTemplate':'Y:/BBS/TOA5_BBS.FLUX_2023_06_14_1500.metadata',\n",
    "# }\n",
    "\n",
    "\n",
    "# # Cospectral correction options\n",
    "# hf_meth = {\n",
    "#     'Moncrieff et al. (1997)':'1',\n",
    "#     'Horst (1997)':'2',\n",
    "#     'Ibrom et al. (2007)':'3',\n",
    "#     'Fratini et al. (2012)':'4', # Recommended for closed path systems, when sufficient data (>1 month) are available\n",
    "#     'Massman (2000, 2001)':'5'\n",
    "# }\n",
    "\n",
    "# if siteID == 'BBS':\n",
    "#     userDefinedEddyProSettings = {\n",
    "#         'Project':{\n",
    "#             'hf_meth':'1'\n",
    "#             },\n",
    "#         'RawProcess_Settings':{\n",
    "#             'v_offset':0.08,\n",
    "#             'u_offset':-0.04\n",
    "#             },\n",
    "#         }\n",
    "#     kwargs['userDefinedEddyProSettings'] = userDefinedEddyProSettings\n",
    "\n",
    "# if 'dateRange' not in kwargs:\n",
    "#     kwargs['dateRange'] = None\n"
   ]
  },
  {
   "cell_type": "markdown",
   "metadata": {},
   "source": [
    "# Check the configurations"
   ]
  },
  {
   "cell_type": "code",
   "execution_count": 34,
   "metadata": {},
   "outputs": [
    {
     "name": "stdout",
     "output_type": "stream",
     "text": [
      "Initializing tasks for BB over: ['2024-04-01 00:00' '2024-04-05 00:00']\n",
      "See output: C:/temp//BB/metadata//BB_biometData_202404010000_202404050000.csv\n",
      "canopy_height missing, outputting NaNs\n",
      "See output: C:/temp//BB/metadata//BB_dynamicMetadata_202404010000_202404050000.csv\n",
      "All tasks completed successfully\n"
     ]
    },
    {
     "data": {
      "text/plain": [
       "{'Biomet.net': 'C:/Biomet.net/', 'Database': 'C:/Database/'}"
      ]
     },
     "execution_count": 34,
     "metadata": {},
     "output_type": "execute_result"
    }
   ],
   "source": [
    "import eddyProAPI\n",
    "import importlib\n",
    "importlib.reload(eddyProAPI)\n",
    "kwargs['queryBiometDatabase'] = True\n",
    "eP = eddyProAPI.eddyProAPI(siteID,**kwargs)\n",
    "eP.config['BiometUser']"
   ]
  },
  {
   "cell_type": "markdown",
   "metadata": {},
   "source": [
    "## Run PreProcessing"
   ]
  },
  {
   "cell_type": "code",
   "execution_count": 35,
   "metadata": {},
   "outputs": [
    {
     "name": "stdout",
     "output_type": "stream",
     "text": [
      "Initializing tasks for BB over: ['2024-04-01 00:00' '2024-04-05 00:00']\n",
      "See output: C:/temp//BB/metadata//BB_biometData_202404010000_202404050000.csv\n",
      "canopy_height missing, outputting NaNs\n",
      "See output: C:/temp//BB/metadata//BB_dynamicMetadata_202404010000_202404050000.csv\n",
      "All tasks completed successfully\n",
      "Searching C:/temp//BB/raw/2024\\04\n",
      "[████████████████████████████████████████████████████████████] 95/95\n",
      "\n",
      "Files Search Complete, time elapsed:  0.9815175533294678\n",
      "Reading Data\n",
      "Reading Complete, time elapsed:  0.05860400199890137\n"
     ]
    }
   ],
   "source": [
    "pre = eddyProAPI.preProcessing(siteID,**kwargs)"
   ]
  },
  {
   "cell_type": "markdown",
   "metadata": {},
   "source": [
    "# Run EddyPro in Parallel over date range"
   ]
  },
  {
   "cell_type": "code",
   "execution_count": 36,
   "metadata": {},
   "outputs": [
    {
     "name": "stdout",
     "output_type": "stream",
     "text": [
      "Initializing tasks for BB over: ['2024-04-01 00:00' '2024-04-05 00:00']\n",
      "See output: C:/temp//BB/metadata//BB_biometData_202404010000_202404050000.csv\n",
      "canopy_height missing, outputting NaNs\n",
      "See output: C:/temp//BB/metadata//BB_dynamicMetadata_202404010000_202404050000.csv\n",
      "All tasks completed successfully\n",
      "Creating C:\\MM_Py\\EddyPro_API\\temp\\group_1_rp_A.eddypro for 24 files\n",
      "28\n",
      "Creating C:\\MM_Py\\EddyPro_API\\temp\\group_1_rp_B.eddypro for 24 files\n",
      "28\n",
      "Creating C:\\MM_Py\\EddyPro_API\\temp\\group_1_rp_C.eddypro for 23 files\n",
      "28\n",
      "Creating C:\\MM_Py\\EddyPro_API\\temp\\group_1_rp_D.eddypro for 24 files\n",
      "28\n",
      "Creating C:\\MM_Py\\EddyPro_API\\temp\\group_1_fcc.eddypro for 95 files\n",
      "28\n",
      "Initiating EddyPro Runs for group 1 on 4 cores at high priority\n",
      "['C:\\\\MM_Py\\\\EddyPro_API\\\\temp\\\\group_1_rp_A.eddypro', 'C:\\\\MM_Py\\\\EddyPro_API\\\\temp\\\\group_1_rp_B.eddypro', 'C:\\\\MM_Py\\\\EddyPro_API\\\\temp\\\\group_1_rp_C.eddypro', 'C:\\\\MM_Py\\\\EddyPro_API\\\\temp\\\\group_1_rp_D.eddypro']\n",
      "[████████████████████████████████████████████████████████████] 4/4\n",
      "\n",
      "CompletedProcess(args=['copy', 'C:\\\\Program Files\\\\LI-COR\\\\EddyPro-7.0.9\\\\bin', 'C:\\\\MM_Py\\\\EddyPro_API\\\\temp\\\\group_1\\\\32552\\\\bin'], returncode=0, stdout=b'C:\\\\Program Files\\\\LI-COR\\\\EddyPro-7.0.9\\\\bin\\\\7z.dll\\r\\nC:\\\\Program Files\\\\LI-COR\\\\EddyPro-7.0.9\\\\bin\\\\7z.exe\\r\\nC:\\\\Program Files\\\\LI-COR\\\\EddyPro-7.0.9\\\\bin\\\\eddypro_fcc.exe\\r\\nC:\\\\Program Files\\\\LI-COR\\\\EddyPro-7.0.9\\\\bin\\\\eddypro_rp.exe\\r\\nC:\\\\Program Files\\\\LI-COR\\\\EddyPro-7.0.9\\\\bin\\\\fort.11\\r\\nC:\\\\Program Files\\\\LI-COR\\\\EddyPro-7.0.9\\\\bin\\\\fort.132\\r\\nC:\\\\Program Files\\\\LI-COR\\\\EddyPro-7.0.9\\\\bin\\\\libgcc_s_seh-1.dll\\r\\nC:\\\\Program Files\\\\LI-COR\\\\EddyPro-7.0.9\\\\bin\\\\libgfortran-5.dll\\r\\nC:\\\\Program Files\\\\LI-COR\\\\EddyPro-7.0.9\\\\bin\\\\libquadmath-0.dll\\r\\nC:\\\\Program Files\\\\LI-COR\\\\EddyPro-7.0.9\\\\bin\\\\libwinpthread-1.dll\\r\\nC:\\\\Program Files\\\\LI-COR\\\\EddyPro-7.0.9\\\\bin\\\\pausep.exe\\r\\n       11 file(s) copied.\\r\\n', stderr=b'')\n",
      "CompletedProcess(args=['move', 'C:\\\\MM_Py\\\\EddyPro_API\\\\temp\\\\group_1_fcc.eddypro', 'C:\\\\MM_Py\\\\EddyPro_API\\\\temp\\\\group_1\\\\32552\\\\ini\\\\processing.eddypro'], returncode=0, stdout=b'        1 file(s) moved.\\r\\n', stderr=b'')\n",
      "CompletedProcess(args=['copy', 'C:\\\\MM_Py\\\\EddyPro_API\\\\temp\\\\group_1\\\\32552\\\\bin\\\\fcc_processing_log.txt', 'C:\\\\MM_Py\\\\EddyPro_API\\\\temp\\\\group_1_fcc_log.txt'], returncode=0, stdout=b'        1 file(s) copied.\\r\\n', stderr=b'')\n",
      "['C:\\\\MM_Py\\\\EddyPro_API\\\\temp\\\\group_1\\\\34544', 'C:\\\\MM_Py\\\\EddyPro_API\\\\temp\\\\group_1\\\\35556', 'C:\\\\MM_Py\\\\EddyPro_API\\\\temp\\\\group_1\\\\37040', 'C:\\\\MM_Py\\\\EddyPro_API\\\\temp\\\\group_1\\\\38348', 'C:\\\\MM_Py\\\\EddyPro_API\\\\temp\\\\group_1\\\\32552']\n",
      "C:\\MM_Py\\EddyPro_API\\temp\\group_1\\34544\n",
      "C:\\MM_Py\\EddyPro_API\\temp\\group_1\\35556\n",
      "C:\\MM_Py\\EddyPro_API\\temp\\group_1\\37040\n",
      "C:\\MM_Py\\EddyPro_API\\temp\\group_1\\38348\n",
      "C:\\MM_Py\\EddyPro_API\\temp\\group_1\\32552\n",
      "CompletedProcess(args=['move', 'C:\\\\MM_Py\\\\EddyPro_API\\\\temp', 'C:\\\\temp\\\\BB\\\\eddyProAPIOutputs'], returncode=0, stdout=b'        1 dir(s) moved.\\r\\n', stderr=b'')\n"
     ]
    }
   ],
   "source": [
    "\n",
    "import eddyProAPI\n",
    "import importlib\n",
    "importlib.reload(eddyProAPI)\n",
    "\n",
    "eP = eddyProAPI.runEP(siteID,**kwargs)"
   ]
  },
  {
   "cell_type": "code",
   "execution_count": 37,
   "metadata": {},
   "outputs": [],
   "source": [
    "# import batchProcessing\n",
    "# import importlib\n",
    "# importlib.reload(batchProcessing)\n",
    "# import os \n",
    "# from datetime import datetime,date\n",
    "\n",
    "# # d_out = os.path.abspath(\"C:/temp/BB/eddyProAPIOutputs\")\n",
    "# # d_in = os.path.abspath(f\"{os.getcwd()}/temp/\")\n",
    "# # batchProcessing.pasteWithSubprocess(d_in,d_out,option='move')\n",
    "# os.rename(os.path.abspath(d_out+'/temp'),os.path.abspath(d_out+'/'+datetime.strftime(datetime.now(),format='%Y%m%d%H%M')))\n",
    "\n",
    "# # d_in = os.path.abspath(f\"{os.getcwd()}/temp/\")\n",
    "# # d_out = os.path.abspath(\"C:/temp/BB/eddyProAPIOutputs/202408021226/\")\n",
    "\n",
    "# # batchProcessing.pasteWithSubprocess(d_in,d_out)\n"
   ]
  }
 ],
 "metadata": {
  "kernelspec": {
   "display_name": ".venv",
   "language": "python",
   "name": "python3"
  },
  "language_info": {
   "codemirror_mode": {
    "name": "ipython",
    "version": 3
   },
   "file_extension": ".py",
   "mimetype": "text/x-python",
   "name": "python",
   "nbconvert_exporter": "python",
   "pygments_lexer": "ipython3",
   "version": "3.11.5"
  },
  "orig_nbformat": 4,
  "vscode": {
   "interpreter": {
    "hash": "ef0cd03416062db1397a6f4c064b2fd8fe41d0681561742315105bdf1dc915d9"
   }
  }
 },
 "nbformat": 4,
 "nbformat_minor": 2
}
