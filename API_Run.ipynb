{
 "cells": [
  {
   "cell_type": "markdown",
   "metadata": {},
   "source": [
    "# EddyPro API\n",
    "\n",
    "This notebook gives an outline for working with the API.\n",
    "\n",
    "* First step is to define your input primary parameters.  You need to give a siteID, everything else is *optional*.\n",
    "\n",
    "    * kwargs (dict of all optional settings):\\\n",
    "        * sourceDir: if not provided, assumes data are already in Outputs folder\n",
    "        * dateRange (if not provided, will run all files in the current year)\n",
    "        * fileType (defaults to .ghg) must specify otherwise for \n",
    "        * metadataTemplate (only required for .dat files)\n",
    "\n"
   ]
  },
  {
   "cell_type": "code",
   "execution_count": 1,
   "metadata": {},
   "outputs": [
    {
     "name": "stdout",
     "output_type": "stream",
     "text": [
      "Deleting contents of : C:/temp//BB/metadata/\n",
      "Deleting contents of : C:/temp//BB/raw/\n",
      "Biomet user: Querying database for up-to-date biomet data\n",
      "Generating requested files tasks for BB over: ['2024-04-15 10:00' '2024-04-16 04:00']\n",
      "See output: C:/temp//BB/metadata//BB_biometData_202404151000_202404160400.csv\n",
      "canopy_height missing, outputting NaNs\n",
      "See output: C:/temp//BB/metadata//BB_dynamicMetadata_202404151000_202404160400.csv\n",
      "Searching C:/highfreq/BB/raw/2024/04\n",
      "Files Search Complete, time elapsed:  0.009\n",
      "Reading Data\n",
      "C:\\highfreq\\BB\\raw\\2024\\04\\2024-04-15T100000_LI-7200.ghg complete, time elapsed:git  0.325\n",
      "C:\\highfreq\\BB\\raw\\2024\\04\\2024-04-15T103000_LI-7200.ghg complete, time elapsed:git  0.352\n",
      "C:\\highfreq\\BB\\raw\\2024\\04\\2024-04-15T110000_LI-7200.ghg complete, time elapsed:git  0.309\n",
      "Reading Complete, time elapsed:  1.0\n",
      "Applying Manual Metadata Adjustments\n",
      "Manual Metadata Adjustments Complete\n",
      "Grouping by Configuration\n",
      "Writing Metadata Files\n",
      "Applying Filters:\n",
      "\n",
      " Sonic_Filter :\n",
      "condition_1\n",
      "min variables ['Aux 1 - U (m/s)' 'Aux 2 - V (m/s)' 'Aux 3 - W (m/s)'] criteria Data.loc[groupIX,variables]<-100\n",
      "(0,)\n",
      "max variables ['Aux 1 - U (m/s)' 'Aux 2 - V (m/s)' 'Aux 3 - W (m/s)'] criteria Data.loc[groupIX,variables]>100\n",
      "(0,)\n",
      "\n",
      " LI7200_Filter :\n",
      "condition_1\n",
      "mean variables ['Flow Rate (lpm)'] criteria Data.loc[groupIX,variables]<10\n",
      "(0,)\n",
      "condition_2\n",
      "mean variables ['Average Signal Strength'] criteria Data.loc[groupIX,variables]<90\n",
      "(0,)\n",
      "Pre-Processing complete, time elapsed 1.977 seconds\n",
      "Creating C:\\Biomet.net\\Python\\temp\\group_1_rp_A.eddypro for 3 files\n",
      "Creating C:\\Biomet.net\\Python\\temp\\group_1_fcc.eddypro for 3 files\n",
      "Initiating EddyPro Runs for group on 1 cores at High Priority priority\n",
      "dict_items([('fluxnet', {'header': [0], 'parse_dates': {('datetime',): [0]}, 'date_format': '%Y%m%d%H%M', 'keep_date_col': True}), ('biomet', {'header': [0, 1], 'parse_dates': [0, 1], 'date_format': '%Y-%m-%d %H:%M', 'keep_date_col': True})])\n",
      "Saving As\n",
      "C:\\Biomet.net\\Python\\temp\\group_1/eddypro_group_1_fcc_fluxnet.csv\n",
      "dict_items([('fluxnet', {'header': [0], 'parse_dates': {('datetime',): [0]}, 'date_format': '%Y%m%d%H%M', 'keep_date_col': True}), ('biomet', {'header': [0, 1], 'parse_dates': {('datetime', ''): [0, 1]}, 'date_format': '%Y-%m-%d %H:%M', 'keep_date_col': True})])\n",
      "Saving As\n",
      "C:\\Biomet.net\\Python\\temp\\group_1/eddypro_group_1_fcc_biomet.csv\n",
      "Transferring Final Outputs\n",
      "eddypro_group_1_fcc_full_output_2024-08-15T121914_adv.csv\n",
      "C:\\temp\\BB\\eddyProAPIOutputs\\202408151219/eddypro_group_1_fcc_full_output_2024-08-15T121914_adv.csv {'header': [1, 2], 'parse_dates': [1, 2], 'date_format': '%Y-%m-%d %H:%M'}\n",
      "runEP complete, time elapsed 43.424 seconds\n"
     ]
    }
   ],
   "source": [
    "import eddyProAPI\n",
    "import importlib\n",
    "importlib.reload(eddyProAPI)\n",
    "kwargs = {\n",
    "    'siteID':'BB',\n",
    "    'dateRange':['2024-04-15 10:00','2024-04-16 04:00'],\n",
    "    'sourceDir':\"C:/highfreq/BB/raw/2024/04\",\n",
    "    'reset':True,\n",
    "    'metaDataUpdates':'C:/highfreq/BB/Manual_Metadata_Updates.csv',\n",
    "    'priority':'High Priority',\n",
    "    # 'runMode':'2',\n",
    "    'processes':1,\n",
    "    'biometUser':True\n",
    "}\n",
    "kwargs['userDefinedEddyProSettings'] = {\n",
    "        # 'Project':{\n",
    "        #     'hf_meth':'4'\n",
    "        #     }\n",
    "            }\n",
    "eP = eddyProAPI.eddyProAPI(**kwargs)"
   ]
  },
  {
   "cell_type": "markdown",
   "metadata": {},
   "source": [
    "## Example Command Line Call\n",
    "\n",
    ".\\.venv\\Scripts\\activate                                                               \n",
    "                                                                                                        \n",
    "\n",
    "py eddyProAPI.py --siteID BB --biometUser True --sourceDir C:/highfreq/BB/raw/ --metaDataUpdates C:/highfreq/BB/Manual_Metadata_Updates.csv --runMode 3 --dateRange 202404011230 202404020200  "
   ]
  },
  {
   "cell_type": "code",
   "execution_count": 1,
   "metadata": {},
   "outputs": [],
   "source": [
    "\n",
    "# Example run for BB on one day in 2024\n",
    "siteID = 'BB'\n",
    "kwargs = {\n",
    "    'dateRange':['2024-04-01','2024-04-02'],\n",
    "    'sourceDir':\"Y:/BB/raw/2024/\",\n",
    "    # 'reset':True,\n",
    "    'metaDataUpdates':'Y:/BB/Manual_Metadata_Updates.csv',\n",
    "    'priority':'High Priority'\n",
    "}\n",
    "\n",
    "# # # Example run for All BBS data from the Datadump Folder 20240516\n",
    "# siteID = 'BBS'\n",
    "# kwargs = {\n",
    "#     'dateRange':['2023-06-01','2024-05-31'],\n",
    "#     'sourceDir':\"X:/BBS/EC_Station/2024/20240516/\",\n",
    "#     'searchTag':\"BBS.FLUX\",\n",
    "#     'timeShift':30,\n",
    "#     'fileType':'dat',\n",
    "#     'metaDataTemplate':'Y:/BBS/TOA5_BBS.FLUX_2023_06_14_1500.metadata',\n",
    "# }\n",
    "\n",
    "\n",
    "# # Cospectral correction options\n",
    "# hf_meth = {\n",
    "#     'Moncrieff et al. (1997)':'1',\n",
    "#     'Horst (1997)':'2',\n",
    "#     'Ibrom et al. (2007)':'3',\n",
    "#     'Fratini et al. (2012)':'4', # Recommended for closed path systems, when sufficient data (>1 month) are available\n",
    "#     'Massman (2000, 2001)':'5'\n",
    "# }\n",
    "\n",
    "# if siteID == 'BBS':\n",
    "#     userDefinedEddyProSettings = {\n",
    "#         'Project':{\n",
    "#             'hf_meth':'1'\n",
    "#             },\n",
    "#         'RawProcess_Settings':{\n",
    "#             'v_offset':0.08,\n",
    "#             'u_offset':-0.04\n",
    "#             },\n",
    "#         }\n",
    "#     kwargs['userDefinedEddyProSettings'] = userDefinedEddyProSettings"
   ]
  },
  {
   "cell_type": "markdown",
   "metadata": {},
   "source": [
    "# Check the configurations"
   ]
  },
  {
   "cell_type": "code",
   "execution_count": 6,
   "metadata": {},
   "outputs": [
    {
     "name": "stdout",
     "output_type": "stream",
     "text": [
      "Deleting contents of : C:/Users/labuser/Temp//BB/metadata/\n",
      "Deleting contents of : C:/Users/labuser/Temp//BB/raw/\n"
     ]
    },
    {
     "data": {
      "text/plain": [
       "{'Biomet.Net': 'C:/Users/labuser/Biomet.net/', 'Database': 'W:/'}"
      ]
     },
     "execution_count": 6,
     "metadata": {},
     "output_type": "execute_result"
    }
   ],
   "source": [
    "# import eddyProAPI\n",
    "# import importlib\n",
    "# importlib.reload(eddyProAPI)\n",
    "# # kwargs['siteID'] = siteID\n",
    "# kwargs = {\n",
    "#     'siteID':'BB',\n",
    "#     'dateRange':['2024-04-01','2024-04-15'],\n",
    "#     'sourceDir':\"Y:/BB/raw/2024/04\",\n",
    "#     'reset':True,\n",
    "#     'metaDataUpdates':'Y:/BB/Manual_Metadata_Updates.csv',\n",
    "#     'priority':'High Priority'\n",
    "# }\n",
    "# kwargs['userDefinedEddyProSettings'] = {\n",
    "#         'Project':{\n",
    "#             'hf_meth':'4'\n",
    "#             }}\n",
    "\n",
    "# eP = eddyProAPI.eddyProAPI(**kwargs)\n",
    "# eP.config['BiometUser']"
   ]
  },
  {
   "cell_type": "markdown",
   "metadata": {},
   "source": [
    "## Run PreProcessing"
   ]
  },
  {
   "cell_type": "code",
   "execution_count": 1,
   "metadata": {},
   "outputs": [
    {
     "name": "stdout",
     "output_type": "stream",
     "text": [
      "Initializing tasks for BB over: ['2024-04-15 00:00' '2024-04-17 00:00']\n",
      "See output: C:/temp//BB/metadata//BB_biometData_202404150000_202404170000.csv\n",
      "canopy_height missing, outputting NaNs\n",
      "See output: C:/temp//BB/metadata//BB_dynamicMetadata_202404150000_202404170000.csv\n",
      "All tasks completed successfully\n",
      "fileInventory {'parse_dates': [0], 'index_col': [0], 'filepath_or_buffer': 'C:/temp//BB/metadata/fileInventory.csv'}\n",
      "rawDataStatistics {'parse_dates': [0], 'index_col': [0], 'header': [0, 1, 2], 'filepath_or_buffer': 'C:/temp//BB/metadata/rawDataStatistics.csv'}\n",
      "metaDataValues {'parse_dates': [0], 'index_col': [0], 'header': [0, 1], 'filepath_or_buffer': 'C:/temp//BB/metadata/metaDataValues.csv'}\n",
      "configurationGroups {'index_col': [0], 'header': [0, 1, 2], 'filepath_or_buffer': 'C:/temp//BB/metadata/configurationGroups.csv'}\n",
      "Searching C:/highfreq/BB/raw/2024/04\n",
      "[████████████████████████████████████████████████████████████] 110/110\n",
      "\n",
      "Files Search Complete, time elapsed:  0.914\n",
      "Reading Data\n",
      "Reading Complete, time elapsed:  0.021\n",
      "Applying Manual Metadata Adjustments\n",
      "Manual Metadata Adjustments Complete\n",
      "Grouping by Configuration\n",
      "Writing Metadata Files\n",
      "Applying Filters:\n",
      "\n",
      " Sonic_Filter :\n",
      "condition_1\n",
      "min variables ['Aux 1 - U (m/s)' 'Aux 2 - V (m/s)' 'Aux 3 - W (m/s)'] criteria Data.loc[groupIX,variables]<-100\n",
      "(0,)\n",
      "max variables ['Aux 1 - U (m/s)' 'Aux 2 - V (m/s)' 'Aux 3 - W (m/s)'] criteria Data.loc[groupIX,variables]>100\n",
      "(0,)\n",
      "\n",
      " LI7200_Filter :\n",
      "condition_1\n",
      "mean variables ['Flow Rate (lpm)'] criteria Data.loc[groupIX,variables]<10\n",
      "(0,)\n",
      "condition_2\n",
      "mean variables ['Average Signal Strength'] criteria Data.loc[groupIX,variables]<90\n",
      "(0,)\n",
      "Pre-Processing complete, time elapsed 2.711 seconds\n"
     ]
    }
   ],
   "source": [
    "import eddyProAPI\n",
    "import importlib\n",
    "importlib.reload(eddyProAPI)\n",
    "kwargs = {\n",
    "    'siteID':'BB',\n",
    "    'dateRange':['2024-04-15','2024-04-17'],\n",
    "    'sourceDir':\"C:/highfreq/BB/raw/2024/04\",\n",
    "    # 'reset':True,\n",
    "    'metaDataUpdates':'C:/highfreq/BB/Manual_Metadata_Updates.csv',\n",
    "    'priority':'High Priority',\n",
    "    'biometUser':True\n",
    "}\n",
    "kwargs['userDefinedEddyProSettings'] = {\n",
    "        'Project':{\n",
    "            'hf_meth':'4'\n",
    "            }}\n",
    "pre = eddyProAPI.preProcessing(**kwargs)"
   ]
  },
  {
   "cell_type": "markdown",
   "metadata": {},
   "source": [
    "# Run EddyPro in Parallel over date range"
   ]
  },
  {
   "cell_type": "code",
   "execution_count": 4,
   "metadata": {},
   "outputs": [
    {
     "name": "stdout",
     "output_type": "stream",
     "text": [
      "Initializing tasks for BB over: ['2024-04-15 00:00' '2024-04-17 00:00']\n",
      "See output: C:/temp//BB/metadata//BB_biometData_202404150000_202404170000.csv\n",
      "canopy_height missing, outputting NaNs\n",
      "See output: C:/temp//BB/metadata//BB_dynamicMetadata_202404150000_202404170000.csv\n",
      "All tasks completed successfully\n",
      "Warning, available data in group 1 is below recommended size for selected settings.\n",
      "1 group_1_rp_A group_1_yyyy-mm-ddTHHMM??_LI-7200.ghg 2024-04-15 00:00:00 2024-04-15 11:30:00 23\n",
      "Creating c:\\MM_Py\\EddyPro_API\\temp\\group_1_rp_A.eddypro for 23 files\n",
      "1 group_1_fcc group_1_yyyy-mm-ddTHHMM??_LI-7200.ghg 2024-04-15 00:00:00 2024-04-15 11:30:00 23\n",
      "Creating c:\\MM_Py\\EddyPro_API\\temp\\group_1_fcc.eddypro for 23 files\n",
      "Initiating EddyPro Runs for group on 1 cores at High Priority priority\n"
     ]
    }
   ],
   "source": [
    "\n",
    "import eddyProAPI\n",
    "import importlib\n",
    "importlib.reload(eddyProAPI)\n",
    "\n",
    "kwargs['dumpToBiometDatabase']=True\n",
    "# if kwargs['reset'] == True:\n",
    "#     kwargs['reset'] = False\n",
    "eP = eddyProAPI.runEP(**kwargs)"
   ]
  },
  {
   "cell_type": "code",
   "execution_count": 35,
   "metadata": {},
   "outputs": [
    {
     "data": {
      "text/plain": [
       "['c:\\\\MM_Py\\\\EddyPro_API\\\\temp\\\\group_1_rp_A.eddypro']"
      ]
     },
     "execution_count": 35,
     "metadata": {},
     "output_type": "execute_result"
    }
   ],
   "source": [
    "eP.rpList"
   ]
  }
 ],
 "metadata": {
  "kernelspec": {
   "display_name": ".venv",
   "language": "python",
   "name": "python3"
  },
  "language_info": {
   "codemirror_mode": {
    "name": "ipython",
    "version": 3
   },
   "file_extension": ".py",
   "mimetype": "text/x-python",
   "name": "python",
   "nbconvert_exporter": "python",
   "pygments_lexer": "ipython3",
   "version": "3.11.5"
  },
  "orig_nbformat": 4,
  "vscode": {
   "interpreter": {
    "hash": "ef0cd03416062db1397a6f4c064b2fd8fe41d0681561742315105bdf1dc915d9"
   }
  }
 },
 "nbformat": 4,
 "nbformat_minor": 2
}
