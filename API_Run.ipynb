{
 "cells": [
  {
   "cell_type": "markdown",
   "metadata": {},
   "source": [
    "# EddyPro API\n",
    "\n",
    "This notebook gives an outline for working with the API.\n",
    "\n",
    "* First step is to define your input primary parameters.  You need to give a siteID, everything else is *optional*.\n",
    "\n",
    "    * kwargs (dict of all optional settings):\\\n",
    "        * sourceDir: if not provided, assumes data are already in Outputs folder\n",
    "        * dateRange (if not provided, will run all files in the current year)\n",
    "        * fileType (defaults to .ghg) must specify otherwise for \n",
    "        * metadataTemplate (only required for .dat files)\n",
    "\n"
   ]
  },
  {
   "cell_type": "code",
   "execution_count": 1,
   "metadata": {},
   "outputs": [
    {
     "name": "stdout",
     "output_type": "stream",
     "text": [
      "Deleting contents of : Y://BB/metadata/\n",
      "Deleting contents of : Y://BB/eddyProAPIOutputs/\n",
      "Biomet user: Querying database for up-to-date biomet data\n",
      "Generating requested files tasks for BB over: ['2024-04-01 10:00' '2024-04-03 04:00']\n"
     ]
    },
    {
     "ename": "ImportError",
     "evalue": "Missing optional dependency 'fsspec'.  Use pip or conda to install fsspec.",
     "output_type": "error",
     "traceback": [
      "\u001b[1;31m---------------------------------------------------------------------------\u001b[0m",
      "\u001b[1;31mModuleNotFoundError\u001b[0m                       Traceback (most recent call last)",
      "File \u001b[1;32mc:\\Users\\labuser\\EddyPro_API\\.venv\\Lib\\site-packages\\pandas\\compat\\_optional.py:132\u001b[0m, in \u001b[0;36mimport_optional_dependency\u001b[1;34m(name, extra, errors, min_version)\u001b[0m\n\u001b[0;32m    131\u001b[0m \u001b[38;5;28;01mtry\u001b[39;00m:\n\u001b[1;32m--> 132\u001b[0m     module \u001b[38;5;241m=\u001b[39m \u001b[43mimportlib\u001b[49m\u001b[38;5;241;43m.\u001b[39;49m\u001b[43mimport_module\u001b[49m\u001b[43m(\u001b[49m\u001b[43mname\u001b[49m\u001b[43m)\u001b[49m\n\u001b[0;32m    133\u001b[0m \u001b[38;5;28;01mexcept\u001b[39;00m \u001b[38;5;167;01mImportError\u001b[39;00m:\n",
      "File \u001b[1;32mc:\\Users\\labuser\\miniconda3\\Lib\\importlib\\__init__.py:126\u001b[0m, in \u001b[0;36mimport_module\u001b[1;34m(name, package)\u001b[0m\n\u001b[0;32m    125\u001b[0m         level \u001b[38;5;241m+\u001b[39m\u001b[38;5;241m=\u001b[39m \u001b[38;5;241m1\u001b[39m\n\u001b[1;32m--> 126\u001b[0m \u001b[38;5;28;01mreturn\u001b[39;00m \u001b[43m_bootstrap\u001b[49m\u001b[38;5;241;43m.\u001b[39;49m\u001b[43m_gcd_import\u001b[49m\u001b[43m(\u001b[49m\u001b[43mname\u001b[49m\u001b[43m[\u001b[49m\u001b[43mlevel\u001b[49m\u001b[43m:\u001b[49m\u001b[43m]\u001b[49m\u001b[43m,\u001b[49m\u001b[43m \u001b[49m\u001b[43mpackage\u001b[49m\u001b[43m,\u001b[49m\u001b[43m \u001b[49m\u001b[43mlevel\u001b[49m\u001b[43m)\u001b[49m\n",
      "File \u001b[1;32m<frozen importlib._bootstrap>:1204\u001b[0m, in \u001b[0;36m_gcd_import\u001b[1;34m(name, package, level)\u001b[0m\n",
      "File \u001b[1;32m<frozen importlib._bootstrap>:1176\u001b[0m, in \u001b[0;36m_find_and_load\u001b[1;34m(name, import_)\u001b[0m\n",
      "File \u001b[1;32m<frozen importlib._bootstrap>:1140\u001b[0m, in \u001b[0;36m_find_and_load_unlocked\u001b[1;34m(name, import_)\u001b[0m\n",
      "\u001b[1;31mModuleNotFoundError\u001b[0m: No module named 'fsspec'",
      "\nDuring handling of the above exception, another exception occurred:\n",
      "\u001b[1;31mImportError\u001b[0m                               Traceback (most recent call last)",
      "Cell \u001b[1;32mIn[1], line 20\u001b[0m\n\u001b[0;32m      4\u001b[0m kwargs \u001b[38;5;241m=\u001b[39m {\n\u001b[0;32m      5\u001b[0m     \u001b[38;5;124m'\u001b[39m\u001b[38;5;124msiteID\u001b[39m\u001b[38;5;124m'\u001b[39m:\u001b[38;5;124m'\u001b[39m\u001b[38;5;124mBB\u001b[39m\u001b[38;5;124m'\u001b[39m,\n\u001b[0;32m      6\u001b[0m     \u001b[38;5;124m'\u001b[39m\u001b[38;5;124mdateRange\u001b[39m\u001b[38;5;124m'\u001b[39m:[\u001b[38;5;124m'\u001b[39m\u001b[38;5;124m2024-04-1 10:00\u001b[39m\u001b[38;5;124m'\u001b[39m,\u001b[38;5;124m'\u001b[39m\u001b[38;5;124m2024-04-3 04:00\u001b[39m\u001b[38;5;124m'\u001b[39m],\n\u001b[1;32m   (...)\u001b[0m\n\u001b[0;32m     13\u001b[0m     \u001b[38;5;124m'\u001b[39m\u001b[38;5;124mbiometUser\u001b[39m\u001b[38;5;124m'\u001b[39m:\u001b[38;5;28;01mTrue\u001b[39;00m\n\u001b[0;32m     14\u001b[0m }\n\u001b[0;32m     15\u001b[0m kwargs[\u001b[38;5;124m'\u001b[39m\u001b[38;5;124muserDefinedEddyProSettings\u001b[39m\u001b[38;5;124m'\u001b[39m] \u001b[38;5;241m=\u001b[39m {\n\u001b[0;32m     16\u001b[0m         \u001b[38;5;66;03m# 'Project':{\u001b[39;00m\n\u001b[0;32m     17\u001b[0m         \u001b[38;5;66;03m#     'hf_meth':'4'\u001b[39;00m\n\u001b[0;32m     18\u001b[0m         \u001b[38;5;66;03m#     }\u001b[39;00m\n\u001b[0;32m     19\u001b[0m             }\n\u001b[1;32m---> 20\u001b[0m eP \u001b[38;5;241m=\u001b[39m \u001b[43meddyProAPI\u001b[49m\u001b[38;5;241;43m.\u001b[39;49m\u001b[43meddyProAPI\u001b[49m\u001b[43m(\u001b[49m\u001b[38;5;241;43m*\u001b[39;49m\u001b[38;5;241;43m*\u001b[39;49m\u001b[43mkwargs\u001b[49m\u001b[43m)\u001b[49m\n",
      "File \u001b[1;32mc:\\Users\\labuser\\EddyPro_API\\eddyProAPI.py:77\u001b[0m, in \u001b[0;36meddyProAPI.__init__\u001b[1;34m(self, **kwargs)\u001b[0m\n\u001b[0;32m     74\u001b[0m \u001b[38;5;28;01mfor\u001b[39;00m k, v \u001b[38;5;129;01min\u001b[39;00m kwargs\u001b[38;5;241m.\u001b[39mitems():\n\u001b[0;32m     75\u001b[0m     \u001b[38;5;28msetattr\u001b[39m(\u001b[38;5;28mself\u001b[39m, k, v)\n\u001b[1;32m---> 77\u001b[0m \u001b[38;5;28;43mself\u001b[39;49m\u001b[38;5;241;43m.\u001b[39;49m\u001b[43msetup\u001b[49m\u001b[43m(\u001b[49m\u001b[43m)\u001b[49m\n\u001b[0;32m     78\u001b[0m \u001b[38;5;28;01mif\u001b[39;00m \u001b[38;5;28mself\u001b[39m\u001b[38;5;241m.\u001b[39mrunMode \u001b[38;5;241m!=\u001b[39m \u001b[38;5;124m'\u001b[39m\u001b[38;5;124m2\u001b[39m\u001b[38;5;124m'\u001b[39m:\n\u001b[0;32m     79\u001b[0m     \u001b[38;5;28mself\u001b[39m\u001b[38;5;241m.\u001b[39mpreProcessing()\n",
      "File \u001b[1;32mc:\\Users\\labuser\\EddyPro_API\\eddyProAPI.py:140\u001b[0m, in \u001b[0;36meddyProAPI.setup\u001b[1;34m(self)\u001b[0m\n\u001b[0;32m    138\u001b[0m \u001b[38;5;28;01mif\u001b[39;00m \u001b[38;5;28mself\u001b[39m\u001b[38;5;241m.\u001b[39mbiometUser \u001b[38;5;129;01mand\u001b[39;00m os\u001b[38;5;241m.\u001b[39mpath\u001b[38;5;241m.\u001b[39misdir(\u001b[38;5;28mself\u001b[39m\u001b[38;5;241m.\u001b[39mconfig[\u001b[38;5;124m'\u001b[39m\u001b[38;5;124mBiometUser\u001b[39m\u001b[38;5;124m'\u001b[39m][\u001b[38;5;124m'\u001b[39m\u001b[38;5;124mBiomet.net\u001b[39m\u001b[38;5;124m'\u001b[39m]):\n\u001b[0;32m    139\u001b[0m     \u001b[38;5;28mprint\u001b[39m(\u001b[38;5;124m'\u001b[39m\u001b[38;5;124mBiomet user: Querying database for up-to-date biomet data\u001b[39m\u001b[38;5;124m'\u001b[39m)\n\u001b[1;32m--> 140\u001b[0m     auxilaryDpaths\u001b[38;5;241m=\u001b[39m\u001b[43mqueryBiometDatabase\u001b[49m\u001b[43m(\u001b[49m\n\u001b[0;32m    141\u001b[0m \u001b[43m        \u001b[49m\u001b[43msiteID\u001b[49m\u001b[38;5;241;43m=\u001b[39;49m\u001b[38;5;28;43mself\u001b[39;49m\u001b[38;5;241;43m.\u001b[39;49m\u001b[43msiteID\u001b[49m\u001b[43m,\u001b[49m\n\u001b[0;32m    142\u001b[0m \u001b[43m        \u001b[49m\u001b[43moutputPath\u001b[49m\u001b[43m \u001b[49m\u001b[38;5;241;43m=\u001b[39;49m\u001b[43m \u001b[49m\u001b[38;5;28;43mself\u001b[39;49m\u001b[38;5;241;43m.\u001b[39;49m\u001b[43mconfig\u001b[49m\u001b[43m[\u001b[49m\u001b[38;5;124;43m'\u001b[39;49m\u001b[38;5;124;43mPaths\u001b[39;49m\u001b[38;5;124;43m'\u001b[39;49m\u001b[43m]\u001b[49m\u001b[43m[\u001b[49m\u001b[38;5;124;43m'\u001b[39;49m\u001b[38;5;124;43mmetaDir\u001b[39;49m\u001b[38;5;124;43m'\u001b[39;49m\u001b[43m]\u001b[49m\u001b[43m,\u001b[49m\n\u001b[0;32m    143\u001b[0m \u001b[43m        \u001b[49m\u001b[43mbiometPath\u001b[49m\u001b[43m \u001b[49m\u001b[38;5;241;43m=\u001b[39;49m\u001b[43m \u001b[49m\u001b[38;5;28;43mself\u001b[39;49m\u001b[38;5;241;43m.\u001b[39;49m\u001b[43mconfig\u001b[49m\u001b[43m[\u001b[49m\u001b[38;5;124;43m'\u001b[39;49m\u001b[38;5;124;43mBiometUser\u001b[39;49m\u001b[38;5;124;43m'\u001b[39;49m\u001b[43m]\u001b[49m\u001b[43m[\u001b[49m\u001b[38;5;124;43m'\u001b[39;49m\u001b[38;5;124;43mBiomet.net\u001b[39;49m\u001b[38;5;124;43m'\u001b[39;49m\u001b[43m]\u001b[49m\u001b[43m,\u001b[49m\n\u001b[0;32m    144\u001b[0m \u001b[43m        \u001b[49m\u001b[43mdatabase\u001b[49m\u001b[43m \u001b[49m\u001b[38;5;241;43m=\u001b[39;49m\u001b[43m \u001b[49m\u001b[38;5;28;43mself\u001b[39;49m\u001b[38;5;241;43m.\u001b[39;49m\u001b[43mconfig\u001b[49m\u001b[43m[\u001b[49m\u001b[38;5;124;43m'\u001b[39;49m\u001b[38;5;124;43mBiometUser\u001b[39;49m\u001b[38;5;124;43m'\u001b[39;49m\u001b[43m]\u001b[49m\u001b[43m[\u001b[49m\u001b[38;5;124;43m'\u001b[39;49m\u001b[38;5;124;43mDatabase\u001b[39;49m\u001b[38;5;124;43m'\u001b[39;49m\u001b[43m]\u001b[49m\u001b[43m,\u001b[49m\n\u001b[0;32m    145\u001b[0m \u001b[43m        \u001b[49m\u001b[43mdateRange\u001b[49m\u001b[43m \u001b[49m\u001b[38;5;241;43m=\u001b[39;49m\u001b[43m \u001b[49m\u001b[38;5;28;43mself\u001b[39;49m\u001b[38;5;241;43m.\u001b[39;49m\u001b[43mdateRange\u001b[49m\u001b[43m)\u001b[49m\n\u001b[0;32m    146\u001b[0m     \u001b[38;5;28;01mfor\u001b[39;00m key,value \u001b[38;5;129;01min\u001b[39;00m auxilaryDpaths\u001b[38;5;241m.\u001b[39mitems():\n\u001b[0;32m    147\u001b[0m         \u001b[38;5;28msetattr\u001b[39m(\u001b[38;5;28mself\u001b[39m, key, value)\n",
      "File \u001b[1;32mc:\\Users\\labuser\\EddyPro_API\\HelperFunctions.py:13\u001b[0m, in \u001b[0;36mqueryBiometDatabase\u001b[1;34m(siteID, outputPath, biometPath, database, dateRange)\u001b[0m\n\u001b[0;32m     11\u001b[0m sys\u001b[38;5;241m.\u001b[39mpath\u001b[38;5;241m.\u001b[39mremove(os\u001b[38;5;241m.\u001b[39mpath\u001b[38;5;241m.\u001b[39mabspath(biometPath\u001b[38;5;241m+\u001b[39m\u001b[38;5;124m'\u001b[39m\u001b[38;5;124m/Python\u001b[39m\u001b[38;5;124m'\u001b[39m))\n\u001b[0;32m     12\u001b[0m createAuxilaryData \u001b[38;5;241m=\u001b[39m os\u001b[38;5;241m.\u001b[39mpath\u001b[38;5;241m.\u001b[39mabspath(wd\u001b[38;5;241m+\u001b[39m\u001b[38;5;124m'\u001b[39m\u001b[38;5;124m/config_files/BiometDataFileTemplate.yml\u001b[39m\u001b[38;5;124m'\u001b[39m)\n\u001b[1;32m---> 13\u001b[0m auxilaryDpaths\u001b[38;5;241m=\u001b[39m\u001b[43mcfb\u001b[49m\u001b[38;5;241;43m.\u001b[39;49m\u001b[43mmakeCSV\u001b[49m\u001b[43m(\u001b[49m\n\u001b[0;32m     14\u001b[0m \u001b[43m    \u001b[49m\u001b[43msiteID\u001b[49m\u001b[43m,\u001b[49m\n\u001b[0;32m     15\u001b[0m \u001b[43m    \u001b[49m\u001b[43moutputPath\u001b[49m\u001b[38;5;241;43m=\u001b[39;49m\u001b[43moutputPath\u001b[49m\u001b[43m,\u001b[49m\n\u001b[0;32m     16\u001b[0m \u001b[43m    \u001b[49m\u001b[43mdatabase\u001b[49m\u001b[38;5;241;43m=\u001b[39;49m\u001b[43mdatabase\u001b[49m\u001b[43m,\u001b[49m\n\u001b[0;32m     17\u001b[0m \u001b[43m    \u001b[49m\u001b[43mtasks\u001b[49m\u001b[38;5;241;43m=\u001b[39;49m\u001b[43mcreateAuxilaryData\u001b[49m\u001b[43m,\u001b[49m\n\u001b[0;32m     18\u001b[0m \u001b[43m    \u001b[49m\u001b[43mstage\u001b[49m\u001b[38;5;241;43m=\u001b[39;49m\u001b[38;5;124;43m'\u001b[39;49m\u001b[38;5;124;43mSecond\u001b[39;49m\u001b[38;5;124;43m'\u001b[39;49m\u001b[43m,\u001b[49m\n\u001b[0;32m     19\u001b[0m \u001b[43m    \u001b[49m\u001b[43mdateRange\u001b[49m\u001b[38;5;241;43m=\u001b[39;49m\u001b[43mdateRange\u001b[49m\u001b[43m)\u001b[49m\n\u001b[0;32m     20\u001b[0m \u001b[38;5;28;01mreturn\u001b[39;00m(auxilaryDpaths)\n",
      "File \u001b[1;32m~\\Biomet.net\\Python\\csvFromBinary.py:145\u001b[0m, in \u001b[0;36mmakeCSV\u001b[1;34m(siteID, **kwargs)\u001b[0m\n\u001b[0;32m    143\u001b[0m     os\u001b[38;5;241m.\u001b[39mmakedirs(outputPath)\n\u001b[0;32m    144\u001b[0m dout \u001b[38;5;241m=\u001b[39m \u001b[38;5;124mf\u001b[39m\u001b[38;5;124m\"\u001b[39m\u001b[38;5;132;01m{\u001b[39;00moutputPath\u001b[38;5;132;01m}\u001b[39;00m\u001b[38;5;124m/\u001b[39m\u001b[38;5;132;01m{\u001b[39;00mfn\u001b[38;5;132;01m}\u001b[39;00m\u001b[38;5;124m.csv\u001b[39m\u001b[38;5;124m\"\u001b[39m\n\u001b[1;32m--> 145\u001b[0m \u001b[43mdf\u001b[49m\u001b[38;5;241;43m.\u001b[39;49m\u001b[43mto_csv\u001b[49m\u001b[43m(\u001b[49m\u001b[43mdout\u001b[49m\u001b[43m,\u001b[49m\u001b[43mindex\u001b[49m\u001b[38;5;241;43m=\u001b[39;49m\u001b[38;5;28;43;01mFalse\u001b[39;49;00m\u001b[43m)\u001b[49m\n\u001b[0;32m    147\u001b[0m \u001b[38;5;28mprint\u001b[39m(\u001b[38;5;124mf\u001b[39m\u001b[38;5;124m'\u001b[39m\u001b[38;5;124mSee output: \u001b[39m\u001b[38;5;132;01m{\u001b[39;00mdout\u001b[38;5;132;01m}\u001b[39;00m\u001b[38;5;124m'\u001b[39m)\n\u001b[0;32m    148\u001b[0m results[name]\u001b[38;5;241m=\u001b[39mdout\n",
      "File \u001b[1;32mc:\\Users\\labuser\\EddyPro_API\\.venv\\Lib\\site-packages\\pandas\\core\\generic.py:3902\u001b[0m, in \u001b[0;36mNDFrame.to_csv\u001b[1;34m(self, path_or_buf, sep, na_rep, float_format, columns, header, index, index_label, mode, encoding, compression, quoting, quotechar, lineterminator, chunksize, date_format, doublequote, escapechar, decimal, errors, storage_options)\u001b[0m\n\u001b[0;32m   3891\u001b[0m df \u001b[38;5;241m=\u001b[39m \u001b[38;5;28mself\u001b[39m \u001b[38;5;28;01mif\u001b[39;00m \u001b[38;5;28misinstance\u001b[39m(\u001b[38;5;28mself\u001b[39m, ABCDataFrame) \u001b[38;5;28;01melse\u001b[39;00m \u001b[38;5;28mself\u001b[39m\u001b[38;5;241m.\u001b[39mto_frame()\n\u001b[0;32m   3893\u001b[0m formatter \u001b[38;5;241m=\u001b[39m DataFrameFormatter(\n\u001b[0;32m   3894\u001b[0m     frame\u001b[38;5;241m=\u001b[39mdf,\n\u001b[0;32m   3895\u001b[0m     header\u001b[38;5;241m=\u001b[39mheader,\n\u001b[1;32m   (...)\u001b[0m\n\u001b[0;32m   3899\u001b[0m     decimal\u001b[38;5;241m=\u001b[39mdecimal,\n\u001b[0;32m   3900\u001b[0m )\n\u001b[1;32m-> 3902\u001b[0m \u001b[38;5;28;01mreturn\u001b[39;00m \u001b[43mDataFrameRenderer\u001b[49m\u001b[43m(\u001b[49m\u001b[43mformatter\u001b[49m\u001b[43m)\u001b[49m\u001b[38;5;241;43m.\u001b[39;49m\u001b[43mto_csv\u001b[49m\u001b[43m(\u001b[49m\n\u001b[0;32m   3903\u001b[0m \u001b[43m    \u001b[49m\u001b[43mpath_or_buf\u001b[49m\u001b[43m,\u001b[49m\n\u001b[0;32m   3904\u001b[0m \u001b[43m    \u001b[49m\u001b[43mlineterminator\u001b[49m\u001b[38;5;241;43m=\u001b[39;49m\u001b[43mlineterminator\u001b[49m\u001b[43m,\u001b[49m\n\u001b[0;32m   3905\u001b[0m \u001b[43m    \u001b[49m\u001b[43msep\u001b[49m\u001b[38;5;241;43m=\u001b[39;49m\u001b[43msep\u001b[49m\u001b[43m,\u001b[49m\n\u001b[0;32m   3906\u001b[0m \u001b[43m    \u001b[49m\u001b[43mencoding\u001b[49m\u001b[38;5;241;43m=\u001b[39;49m\u001b[43mencoding\u001b[49m\u001b[43m,\u001b[49m\n\u001b[0;32m   3907\u001b[0m \u001b[43m    \u001b[49m\u001b[43merrors\u001b[49m\u001b[38;5;241;43m=\u001b[39;49m\u001b[43merrors\u001b[49m\u001b[43m,\u001b[49m\n\u001b[0;32m   3908\u001b[0m \u001b[43m    \u001b[49m\u001b[43mcompression\u001b[49m\u001b[38;5;241;43m=\u001b[39;49m\u001b[43mcompression\u001b[49m\u001b[43m,\u001b[49m\n\u001b[0;32m   3909\u001b[0m \u001b[43m    \u001b[49m\u001b[43mquoting\u001b[49m\u001b[38;5;241;43m=\u001b[39;49m\u001b[43mquoting\u001b[49m\u001b[43m,\u001b[49m\n\u001b[0;32m   3910\u001b[0m \u001b[43m    \u001b[49m\u001b[43mcolumns\u001b[49m\u001b[38;5;241;43m=\u001b[39;49m\u001b[43mcolumns\u001b[49m\u001b[43m,\u001b[49m\n\u001b[0;32m   3911\u001b[0m \u001b[43m    \u001b[49m\u001b[43mindex_label\u001b[49m\u001b[38;5;241;43m=\u001b[39;49m\u001b[43mindex_label\u001b[49m\u001b[43m,\u001b[49m\n\u001b[0;32m   3912\u001b[0m \u001b[43m    \u001b[49m\u001b[43mmode\u001b[49m\u001b[38;5;241;43m=\u001b[39;49m\u001b[43mmode\u001b[49m\u001b[43m,\u001b[49m\n\u001b[0;32m   3913\u001b[0m \u001b[43m    \u001b[49m\u001b[43mchunksize\u001b[49m\u001b[38;5;241;43m=\u001b[39;49m\u001b[43mchunksize\u001b[49m\u001b[43m,\u001b[49m\n\u001b[0;32m   3914\u001b[0m \u001b[43m    \u001b[49m\u001b[43mquotechar\u001b[49m\u001b[38;5;241;43m=\u001b[39;49m\u001b[43mquotechar\u001b[49m\u001b[43m,\u001b[49m\n\u001b[0;32m   3915\u001b[0m \u001b[43m    \u001b[49m\u001b[43mdate_format\u001b[49m\u001b[38;5;241;43m=\u001b[39;49m\u001b[43mdate_format\u001b[49m\u001b[43m,\u001b[49m\n\u001b[0;32m   3916\u001b[0m \u001b[43m    \u001b[49m\u001b[43mdoublequote\u001b[49m\u001b[38;5;241;43m=\u001b[39;49m\u001b[43mdoublequote\u001b[49m\u001b[43m,\u001b[49m\n\u001b[0;32m   3917\u001b[0m \u001b[43m    \u001b[49m\u001b[43mescapechar\u001b[49m\u001b[38;5;241;43m=\u001b[39;49m\u001b[43mescapechar\u001b[49m\u001b[43m,\u001b[49m\n\u001b[0;32m   3918\u001b[0m \u001b[43m    \u001b[49m\u001b[43mstorage_options\u001b[49m\u001b[38;5;241;43m=\u001b[39;49m\u001b[43mstorage_options\u001b[49m\u001b[43m,\u001b[49m\n\u001b[0;32m   3919\u001b[0m \u001b[43m\u001b[49m\u001b[43m)\u001b[49m\n",
      "File \u001b[1;32mc:\\Users\\labuser\\EddyPro_API\\.venv\\Lib\\site-packages\\pandas\\io\\formats\\format.py:1152\u001b[0m, in \u001b[0;36mDataFrameRenderer.to_csv\u001b[1;34m(self, path_or_buf, encoding, sep, columns, index_label, mode, compression, quoting, quotechar, lineterminator, chunksize, date_format, doublequote, escapechar, errors, storage_options)\u001b[0m\n\u001b[0;32m   1131\u001b[0m     created_buffer \u001b[38;5;241m=\u001b[39m \u001b[38;5;28;01mFalse\u001b[39;00m\n\u001b[0;32m   1133\u001b[0m csv_formatter \u001b[38;5;241m=\u001b[39m CSVFormatter(\n\u001b[0;32m   1134\u001b[0m     path_or_buf\u001b[38;5;241m=\u001b[39mpath_or_buf,\n\u001b[0;32m   1135\u001b[0m     lineterminator\u001b[38;5;241m=\u001b[39mlineterminator,\n\u001b[1;32m   (...)\u001b[0m\n\u001b[0;32m   1150\u001b[0m     formatter\u001b[38;5;241m=\u001b[39m\u001b[38;5;28mself\u001b[39m\u001b[38;5;241m.\u001b[39mfmt,\n\u001b[0;32m   1151\u001b[0m )\n\u001b[1;32m-> 1152\u001b[0m \u001b[43mcsv_formatter\u001b[49m\u001b[38;5;241;43m.\u001b[39;49m\u001b[43msave\u001b[49m\u001b[43m(\u001b[49m\u001b[43m)\u001b[49m\n\u001b[0;32m   1154\u001b[0m \u001b[38;5;28;01mif\u001b[39;00m created_buffer:\n\u001b[0;32m   1155\u001b[0m     \u001b[38;5;28;01massert\u001b[39;00m \u001b[38;5;28misinstance\u001b[39m(path_or_buf, StringIO)\n",
      "File \u001b[1;32mc:\\Users\\labuser\\EddyPro_API\\.venv\\Lib\\site-packages\\pandas\\io\\formats\\csvs.py:247\u001b[0m, in \u001b[0;36mCSVFormatter.save\u001b[1;34m(self)\u001b[0m\n\u001b[0;32m    243\u001b[0m \u001b[38;5;250m\u001b[39m\u001b[38;5;124;03m\"\"\"\u001b[39;00m\n\u001b[0;32m    244\u001b[0m \u001b[38;5;124;03mCreate the writer & save.\u001b[39;00m\n\u001b[0;32m    245\u001b[0m \u001b[38;5;124;03m\"\"\"\u001b[39;00m\n\u001b[0;32m    246\u001b[0m \u001b[38;5;66;03m# apply compression and byte/text conversion\u001b[39;00m\n\u001b[1;32m--> 247\u001b[0m \u001b[38;5;28;01mwith\u001b[39;00m \u001b[43mget_handle\u001b[49m\u001b[43m(\u001b[49m\n\u001b[0;32m    248\u001b[0m \u001b[43m    \u001b[49m\u001b[38;5;28;43mself\u001b[39;49m\u001b[38;5;241;43m.\u001b[39;49m\u001b[43mfilepath_or_buffer\u001b[49m\u001b[43m,\u001b[49m\n\u001b[0;32m    249\u001b[0m \u001b[43m    \u001b[49m\u001b[38;5;28;43mself\u001b[39;49m\u001b[38;5;241;43m.\u001b[39;49m\u001b[43mmode\u001b[49m\u001b[43m,\u001b[49m\n\u001b[0;32m    250\u001b[0m \u001b[43m    \u001b[49m\u001b[43mencoding\u001b[49m\u001b[38;5;241;43m=\u001b[39;49m\u001b[38;5;28;43mself\u001b[39;49m\u001b[38;5;241;43m.\u001b[39;49m\u001b[43mencoding\u001b[49m\u001b[43m,\u001b[49m\n\u001b[0;32m    251\u001b[0m \u001b[43m    \u001b[49m\u001b[43merrors\u001b[49m\u001b[38;5;241;43m=\u001b[39;49m\u001b[38;5;28;43mself\u001b[39;49m\u001b[38;5;241;43m.\u001b[39;49m\u001b[43merrors\u001b[49m\u001b[43m,\u001b[49m\n\u001b[0;32m    252\u001b[0m \u001b[43m    \u001b[49m\u001b[43mcompression\u001b[49m\u001b[38;5;241;43m=\u001b[39;49m\u001b[38;5;28;43mself\u001b[39;49m\u001b[38;5;241;43m.\u001b[39;49m\u001b[43mcompression\u001b[49m\u001b[43m,\u001b[49m\n\u001b[0;32m    253\u001b[0m \u001b[43m    \u001b[49m\u001b[43mstorage_options\u001b[49m\u001b[38;5;241;43m=\u001b[39;49m\u001b[38;5;28;43mself\u001b[39;49m\u001b[38;5;241;43m.\u001b[39;49m\u001b[43mstorage_options\u001b[49m\u001b[43m,\u001b[49m\n\u001b[0;32m    254\u001b[0m \u001b[43m\u001b[49m\u001b[43m)\u001b[49m \u001b[38;5;28;01mas\u001b[39;00m handles:\n\u001b[0;32m    255\u001b[0m     \u001b[38;5;66;03m# Note: self.encoding is irrelevant here\u001b[39;00m\n\u001b[0;32m    256\u001b[0m     \u001b[38;5;28mself\u001b[39m\u001b[38;5;241m.\u001b[39mwriter \u001b[38;5;241m=\u001b[39m csvlib\u001b[38;5;241m.\u001b[39mwriter(\n\u001b[0;32m    257\u001b[0m         handles\u001b[38;5;241m.\u001b[39mhandle,\n\u001b[0;32m    258\u001b[0m         lineterminator\u001b[38;5;241m=\u001b[39m\u001b[38;5;28mself\u001b[39m\u001b[38;5;241m.\u001b[39mlineterminator,\n\u001b[1;32m   (...)\u001b[0m\n\u001b[0;32m    263\u001b[0m         quotechar\u001b[38;5;241m=\u001b[39m\u001b[38;5;28mself\u001b[39m\u001b[38;5;241m.\u001b[39mquotechar,\n\u001b[0;32m    264\u001b[0m     )\n\u001b[0;32m    266\u001b[0m     \u001b[38;5;28mself\u001b[39m\u001b[38;5;241m.\u001b[39m_save()\n",
      "File \u001b[1;32mc:\\Users\\labuser\\EddyPro_API\\.venv\\Lib\\site-packages\\pandas\\io\\common.py:718\u001b[0m, in \u001b[0;36mget_handle\u001b[1;34m(path_or_buf, mode, encoding, compression, memory_map, is_text, errors, storage_options)\u001b[0m\n\u001b[0;32m    715\u001b[0m     codecs\u001b[38;5;241m.\u001b[39mlookup_error(errors)\n\u001b[0;32m    717\u001b[0m \u001b[38;5;66;03m# open URLs\u001b[39;00m\n\u001b[1;32m--> 718\u001b[0m ioargs \u001b[38;5;241m=\u001b[39m \u001b[43m_get_filepath_or_buffer\u001b[49m\u001b[43m(\u001b[49m\n\u001b[0;32m    719\u001b[0m \u001b[43m    \u001b[49m\u001b[43mpath_or_buf\u001b[49m\u001b[43m,\u001b[49m\n\u001b[0;32m    720\u001b[0m \u001b[43m    \u001b[49m\u001b[43mencoding\u001b[49m\u001b[38;5;241;43m=\u001b[39;49m\u001b[43mencoding\u001b[49m\u001b[43m,\u001b[49m\n\u001b[0;32m    721\u001b[0m \u001b[43m    \u001b[49m\u001b[43mcompression\u001b[49m\u001b[38;5;241;43m=\u001b[39;49m\u001b[43mcompression\u001b[49m\u001b[43m,\u001b[49m\n\u001b[0;32m    722\u001b[0m \u001b[43m    \u001b[49m\u001b[43mmode\u001b[49m\u001b[38;5;241;43m=\u001b[39;49m\u001b[43mmode\u001b[49m\u001b[43m,\u001b[49m\n\u001b[0;32m    723\u001b[0m \u001b[43m    \u001b[49m\u001b[43mstorage_options\u001b[49m\u001b[38;5;241;43m=\u001b[39;49m\u001b[43mstorage_options\u001b[49m\u001b[43m,\u001b[49m\n\u001b[0;32m    724\u001b[0m \u001b[43m\u001b[49m\u001b[43m)\u001b[49m\n\u001b[0;32m    726\u001b[0m handle \u001b[38;5;241m=\u001b[39m ioargs\u001b[38;5;241m.\u001b[39mfilepath_or_buffer\n\u001b[0;32m    727\u001b[0m handles: \u001b[38;5;28mlist\u001b[39m[BaseBuffer]\n",
      "File \u001b[1;32mc:\\Users\\labuser\\EddyPro_API\\.venv\\Lib\\site-packages\\pandas\\io\\common.py:397\u001b[0m, in \u001b[0;36m_get_filepath_or_buffer\u001b[1;34m(filepath_or_buffer, encoding, compression, mode, storage_options)\u001b[0m\n\u001b[0;32m    395\u001b[0m \u001b[38;5;28;01mif\u001b[39;00m filepath_or_buffer\u001b[38;5;241m.\u001b[39mstartswith(\u001b[38;5;124m\"\u001b[39m\u001b[38;5;124ms3n://\u001b[39m\u001b[38;5;124m\"\u001b[39m):\n\u001b[0;32m    396\u001b[0m     filepath_or_buffer \u001b[38;5;241m=\u001b[39m filepath_or_buffer\u001b[38;5;241m.\u001b[39mreplace(\u001b[38;5;124m\"\u001b[39m\u001b[38;5;124ms3n://\u001b[39m\u001b[38;5;124m\"\u001b[39m, \u001b[38;5;124m\"\u001b[39m\u001b[38;5;124ms3://\u001b[39m\u001b[38;5;124m\"\u001b[39m)\n\u001b[1;32m--> 397\u001b[0m fsspec \u001b[38;5;241m=\u001b[39m \u001b[43mimport_optional_dependency\u001b[49m\u001b[43m(\u001b[49m\u001b[38;5;124;43m\"\u001b[39;49m\u001b[38;5;124;43mfsspec\u001b[39;49m\u001b[38;5;124;43m\"\u001b[39;49m\u001b[43m)\u001b[49m\n\u001b[0;32m    399\u001b[0m \u001b[38;5;66;03m# If botocore is installed we fallback to reading with anon=True\u001b[39;00m\n\u001b[0;32m    400\u001b[0m \u001b[38;5;66;03m# to allow reads from public buckets\u001b[39;00m\n\u001b[0;32m    401\u001b[0m err_types_to_retry_with_anon: \u001b[38;5;28mlist\u001b[39m[Any] \u001b[38;5;241m=\u001b[39m []\n",
      "File \u001b[1;32mc:\\Users\\labuser\\EddyPro_API\\.venv\\Lib\\site-packages\\pandas\\compat\\_optional.py:135\u001b[0m, in \u001b[0;36mimport_optional_dependency\u001b[1;34m(name, extra, errors, min_version)\u001b[0m\n\u001b[0;32m    133\u001b[0m \u001b[38;5;28;01mexcept\u001b[39;00m \u001b[38;5;167;01mImportError\u001b[39;00m:\n\u001b[0;32m    134\u001b[0m     \u001b[38;5;28;01mif\u001b[39;00m errors \u001b[38;5;241m==\u001b[39m \u001b[38;5;124m\"\u001b[39m\u001b[38;5;124mraise\u001b[39m\u001b[38;5;124m\"\u001b[39m:\n\u001b[1;32m--> 135\u001b[0m         \u001b[38;5;28;01mraise\u001b[39;00m \u001b[38;5;167;01mImportError\u001b[39;00m(msg)\n\u001b[0;32m    136\u001b[0m     \u001b[38;5;28;01mreturn\u001b[39;00m \u001b[38;5;28;01mNone\u001b[39;00m\n\u001b[0;32m    138\u001b[0m \u001b[38;5;66;03m# Handle submodules: if we have submodule, grab parent module from sys.modules\u001b[39;00m\n",
      "\u001b[1;31mImportError\u001b[0m: Missing optional dependency 'fsspec'.  Use pip or conda to install fsspec."
     ]
    }
   ],
   "source": [
    "import eddyProAPI\n",
    "import importlib\n",
    "importlib.reload(eddyProAPI)\n",
    "kwargs = {\n",
    "    'siteID':'BB',\n",
    "    'dateRange':['2024-04-1 10:00','2024-04-3 04:00'],\n",
    "    # 'sourceDir':\"C:/highfreq/BB/raw/2024/04\",\n",
    "    'reset':True,\n",
    "    'metaDataUpdates':'C:/highfreq/BB/Manual_Metadata_Updates.csv',\n",
    "    'priority':'High Priority',\n",
    "    'runMode':'1',\n",
    "    # 'processes':1,\n",
    "    'biometUser':True\n",
    "}\n",
    "kwargs['userDefinedEddyProSettings'] = {\n",
    "        # 'Project':{\n",
    "        #     'hf_meth':'4'\n",
    "        #     }\n",
    "            }\n",
    "eP = eddyProAPI.eddyProAPI(**kwargs)"
   ]
  },
  {
   "cell_type": "code",
   "execution_count": 8,
   "metadata": {},
   "outputs": [
    {
     "name": "stdout",
     "output_type": "stream",
     "text": [
      "Y:\\BB\\metadata\\test.csv\n"
     ]
    }
   ],
   "source": [
    "import pandas as pd\n",
    "import os\n",
    "df = pd.DataFrame(data={'a':[1,2],'b':[3,4]})\n",
    "# pth = 'Y://BB//metadata//BB_biometData_202405010000_202405040000.csv'\n",
    "pth = 'Y://BB/metadata/test.csv'\n",
    "pth = os.path.abspath(pth)\n",
    "# df.to_csv(pth,index=False)\n",
    "print(pth)"
   ]
  },
  {
   "cell_type": "markdown",
   "metadata": {},
   "source": [
    "## Example Command Line Call\n",
    "\n",
    "\n",
    "'One winmet call this before activating .venv\n",
    "```\n",
    "Set-ExecutionPolicy Unrestricted -Scope Process\n",
    "```\n",
    "\n",
    "\n",
    "```\n",
    ".\\.venv\\Scripts\\activate                                                               \n",
    "```                                                                                                     \n",
    "```\n",
    "py eddyProAPI.py --siteID BB --biometUser True --sourceDir Y:/BB/raw/2024/ --metaDataUpdates Y:/BB/Manual_Metadata_Updates.csv --runMode full --eddyProStaticConfig ini_files/ClosedPathStandard.eddypro\n",
    "```\n",
    "\n",
    "```\n",
    "py eddyProAPI.py --siteID BBS --biometUser True --sourceDir C:/data-dump/BBS/EC_Station/2024/ --metaDataTemplate C:/highfreq/BBS/TOA5_BBS.FLUX_2023_06_14_1500.metadata --runMode 1 --eddyProStaticConfig ini_files/OpenPathStandard.eddypro --fileType dat --timeShift 30\n",
    "```\n",
    "\n",
    "# siteID = 'BBS'\n",
    "# kwargs = {\n",
    "#     'dateRange':['2023-06-01','2024-05-31'],\n",
    "#     'sourceDir':\"X:/BBS/EC_Station/2024/20240516/\",\n",
    "#     'searchTag':\"BBS.FLUX\",\n",
    "#     'timeShift':30,\n",
    "#     'fileType':'dat',\n",
    "#     'metaDataTemplate':'Y:/BBS/TOA5_BBS.FLUX_2023_06_14_1500.metadata',\n",
    "# }\n"
   ]
  },
  {
   "cell_type": "code",
   "execution_count": 8,
   "metadata": {},
   "outputs": [
    {
     "data": {
      "text/plain": [
       "MultiIndex([(   'Site',           'site_name'),\n",
       "            (   'Site',            'altitude'),\n",
       "            (   'Site',            'latitude'),\n",
       "            (   'Site',           'longitude'),\n",
       "            (   'Site',       'canopy_height'),\n",
       "            (   'Site', 'displacement_height'),\n",
       "            (   'Site',    'roughness_length'),\n",
       "            ('Station',        'station_name'),\n",
       "            ('Station',           'logger_id'),\n",
       "            ('Station',   'logger_sw_version'),\n",
       "            ...\n",
       "            ( 'Custom',  'col_49_header_name'),\n",
       "            ( 'Custom',  'col_50_header_name'),\n",
       "            ( 'Custom',  'col_51_header_name'),\n",
       "            ( 'Custom',  'col_52_header_name'),\n",
       "            ( 'Custom',  'col_53_header_name'),\n",
       "            ( 'Custom',  'col_54_header_name'),\n",
       "            ( 'Custom',  'col_55_header_name'),\n",
       "            ( 'Custom',  'col_56_header_name'),\n",
       "            ( 'Timing',     'expectedSamples'),\n",
       "            (  'group',                  'ID')],\n",
       "           length=837)"
      ]
     },
     "execution_count": 8,
     "metadata": {},
     "output_type": "execute_result"
    }
   ],
   "source": [
    "import pandas as pd\n",
    "pth = \"C:\\\\temp\\\\BB\\\\metadata\\\\rawDataStatistics.csv\"\n",
    "kwargs = {\n",
    "    'parse_dates': [0],\n",
    "    'index_col': [0],\n",
    "    'header': [0,1,2]\n",
    "}\n",
    "df = pd.read_csv(pth,**kwargs)\n",
    "df.columns[0]\n",
    "\n",
    "eP.metaDataValues.columns"
   ]
  },
  {
   "cell_type": "code",
   "execution_count": 22,
   "metadata": {},
   "outputs": [
    {
     "data": {
      "text/plain": [
       "Index([           ('Seconds', '~', 'count'),\n",
       "                    ('Seconds', '~', 'max'),\n",
       "                   ('Seconds', '~', 'mean'),\n",
       "                 ('Seconds', '~', 'median'),\n",
       "                    ('Seconds', '~', 'min'),\n",
       "                    ('Seconds', '~', 'std'),\n",
       "              ('Nanoseconds', '~', 'count'),\n",
       "                ('Nanoseconds', '~', 'max'),\n",
       "               ('Nanoseconds', '~', 'mean'),\n",
       "             ('Nanoseconds', '~', 'median'),\n",
       "       ...\n",
       "       ('CH4 Drop Rate (%)', '~', 'median'),\n",
       "          ('CH4 Drop Rate (%)', '~', 'min'),\n",
       "          ('CH4 Drop Rate (%)', '~', 'std'),\n",
       "                      ('CHK', '~', 'count'),\n",
       "                        ('CHK', '~', 'max'),\n",
       "                       ('CHK', '~', 'mean'),\n",
       "                     ('CHK', '~', 'median'),\n",
       "                        ('CHK', '~', 'min'),\n",
       "                        ('CHK', '~', 'std'),\n",
       "                       ('group', 'ID', '~')],\n",
       "      dtype='object', length=325)"
      ]
     },
     "execution_count": 22,
     "metadata": {},
     "output_type": "execute_result"
    }
   ],
   "source": [
    "Temp = eP.rawDataStatistics.copy()\n",
    "cols = Temp.columns\n",
    "nuCols = []\n",
    "for c in cols:\n",
    "    c = [a if a != '' else eP.config['stringTags']['NaN'] for a in c]\n",
    "    nuCols.append(tuple(c))\n",
    "# # cols[cols == ''] = eP.config['stringTags']['NaN']\n",
    "# # cols\n",
    "# Temp.columns.set_levels(cols,level=1)\n",
    "Temp.columns = nuCols\n",
    "Temp.columns"
   ]
  },
  {
   "cell_type": "code",
   "execution_count": 1,
   "metadata": {},
   "outputs": [],
   "source": [
    "\n",
    "# Example run for BB on one day in 2024\n",
    "siteID = 'BB'\n",
    "kwargs = {\n",
    "    'dateRange':['2024-04-01','2024-04-02'],\n",
    "    'sourceDir':\"Y:/BB/raw/2024/\",\n",
    "    # 'reset':True,\n",
    "    'metaDataUpdates':'Y:/BB/Manual_Metadata_Updates.csv',\n",
    "    'priority':'High Priority'\n",
    "}\n",
    "\n",
    "# # # Example run for All BBS data from the Datadump Folder 20240516\n",
    "# siteID = 'BBS'\n",
    "# kwargs = {\n",
    "#     'dateRange':['2023-06-01','2024-05-31'],\n",
    "#     'sourceDir':\"X:/BBS/EC_Station/2024/20240516/\",\n",
    "#     'searchTag':\"BBS.FLUX\",\n",
    "#     'timeShift':30,\n",
    "#     'fileType':'dat',\n",
    "#     'metaDataTemplate':'Y:/BBS/TOA5_BBS.FLUX_2023_06_14_1500.metadata',\n",
    "# }\n",
    "\n",
    "\n",
    "# # Cospectral correction options\n",
    "# hf_meth = {\n",
    "#     'Moncrieff et al. (1997)':'1',\n",
    "#     'Horst (1997)':'2',\n",
    "#     'Ibrom et al. (2007)':'3',\n",
    "#     'Fratini et al. (2012)':'4', # Recommended for closed path systems, when sufficient data (>1 month) are available\n",
    "#     'Massman (2000, 2001)':'5'\n",
    "# }\n",
    "\n",
    "# if siteID == 'BBS':\n",
    "#     userDefinedEddyProSettings = {\n",
    "#         'Project':{\n",
    "#             'hf_meth':'1'\n",
    "#             },\n",
    "#         'RawProcess_Settings':{\n",
    "#             'v_offset':0.08,\n",
    "#             'u_offset':-0.04\n",
    "#             },\n",
    "#         }\n",
    "#     kwargs['userDefinedEddyProSettings'] = userDefinedEddyProSettings"
   ]
  },
  {
   "cell_type": "markdown",
   "metadata": {},
   "source": [
    "# Check the configurations"
   ]
  },
  {
   "cell_type": "code",
   "execution_count": 6,
   "metadata": {},
   "outputs": [
    {
     "name": "stdout",
     "output_type": "stream",
     "text": [
      "Deleting contents of : C:/Users/labuser/Temp//BB/metadata/\n",
      "Deleting contents of : C:/Users/labuser/Temp//BB/raw/\n"
     ]
    },
    {
     "data": {
      "text/plain": [
       "{'Biomet.Net': 'C:/Users/labuser/Biomet.net/', 'Database': 'W:/'}"
      ]
     },
     "execution_count": 6,
     "metadata": {},
     "output_type": "execute_result"
    }
   ],
   "source": [
    "# import eddyProAPI\n",
    "# import importlib\n",
    "# importlib.reload(eddyProAPI)\n",
    "# # kwargs['siteID'] = siteID\n",
    "# kwargs = {\n",
    "#     'siteID':'BB',\n",
    "#     'dateRange':['2024-04-01','2024-04-15'],\n",
    "#     'sourceDir':\"Y:/BB/raw/2024/04\",\n",
    "#     'reset':True,\n",
    "#     'metaDataUpdates':'Y:/BB/Manual_Metadata_Updates.csv',\n",
    "#     'priority':'High Priority'\n",
    "# }\n",
    "# kwargs['userDefinedEddyProSettings'] = {\n",
    "#         'Project':{\n",
    "#             'hf_meth':'4'\n",
    "#             }}\n",
    "\n",
    "# eP = eddyProAPI.eddyProAPI(**kwargs)\n",
    "# eP.config['BiometUser']"
   ]
  },
  {
   "cell_type": "markdown",
   "metadata": {},
   "source": [
    "## Run PreProcessing"
   ]
  },
  {
   "cell_type": "code",
   "execution_count": 1,
   "metadata": {},
   "outputs": [
    {
     "name": "stdout",
     "output_type": "stream",
     "text": [
      "Initializing tasks for BB over: ['2024-04-15 00:00' '2024-04-17 00:00']\n",
      "See output: C:/temp//BB/metadata//BB_biometData_202404150000_202404170000.csv\n",
      "canopy_height missing, outputting NaNs\n",
      "See output: C:/temp//BB/metadata//BB_dynamicMetadata_202404150000_202404170000.csv\n",
      "All tasks completed successfully\n",
      "fileInventory {'parse_dates': [0], 'index_col': [0], 'filepath_or_buffer': 'C:/temp//BB/metadata/fileInventory.csv'}\n",
      "rawDataStatistics {'parse_dates': [0], 'index_col': [0], 'header': [0, 1, 2], 'filepath_or_buffer': 'C:/temp//BB/metadata/rawDataStatistics.csv'}\n",
      "metaDataValues {'parse_dates': [0], 'index_col': [0], 'header': [0, 1], 'filepath_or_buffer': 'C:/temp//BB/metadata/metaDataValues.csv'}\n",
      "configurationGroups {'index_col': [0], 'header': [0, 1, 2], 'filepath_or_buffer': 'C:/temp//BB/metadata/configurationGroups.csv'}\n",
      "Searching C:/highfreq/BB/raw/2024/04\n",
      "[████████████████████████████████████████████████████████████] 110/110\n",
      "\n",
      "Files Search Complete, time elapsed:  0.914\n",
      "Reading Data\n",
      "Reading Complete, time elapsed:  0.021\n",
      "Applying Manual Metadata Adjustments\n",
      "Manual Metadata Adjustments Complete\n",
      "Grouping by Configuration\n",
      "Writing Metadata Files\n",
      "Applying Filters:\n",
      "\n",
      " Sonic_Filter :\n",
      "condition_1\n",
      "min variables ['Aux 1 - U (m/s)' 'Aux 2 - V (m/s)' 'Aux 3 - W (m/s)'] criteria Data.loc[groupIX,variables]<-100\n",
      "(0,)\n",
      "max variables ['Aux 1 - U (m/s)' 'Aux 2 - V (m/s)' 'Aux 3 - W (m/s)'] criteria Data.loc[groupIX,variables]>100\n",
      "(0,)\n",
      "\n",
      " LI7200_Filter :\n",
      "condition_1\n",
      "mean variables ['Flow Rate (lpm)'] criteria Data.loc[groupIX,variables]<10\n",
      "(0,)\n",
      "condition_2\n",
      "mean variables ['Average Signal Strength'] criteria Data.loc[groupIX,variables]<90\n",
      "(0,)\n",
      "Pre-Processing complete, time elapsed 2.711 seconds\n"
     ]
    }
   ],
   "source": [
    "import eddyProAPI\n",
    "import importlib\n",
    "importlib.reload(eddyProAPI)\n",
    "kwargs = {\n",
    "    'siteID':'BB',\n",
    "    'dateRange':['2024-04-15','2024-04-17'],\n",
    "    'sourceDir':\"C:/highfreq/BB/raw/2024/04\",\n",
    "    # 'reset':True,\n",
    "    'metaDataUpdates':'C:/highfreq/BB/Manual_Metadata_Updates.csv',\n",
    "    'priority':'High Priority',\n",
    "    'biometUser':True\n",
    "}\n",
    "kwargs['userDefinedEddyProSettings'] = {\n",
    "        'Project':{\n",
    "            'hf_meth':'4'\n",
    "            }}\n",
    "pre = eddyProAPI.preProcessing(**kwargs)"
   ]
  },
  {
   "cell_type": "markdown",
   "metadata": {},
   "source": [
    "# Run EddyPro in Parallel over date range"
   ]
  },
  {
   "cell_type": "code",
   "execution_count": 4,
   "metadata": {},
   "outputs": [
    {
     "name": "stdout",
     "output_type": "stream",
     "text": [
      "Initializing tasks for BB over: ['2024-04-15 00:00' '2024-04-17 00:00']\n",
      "See output: C:/temp//BB/metadata//BB_biometData_202404150000_202404170000.csv\n",
      "canopy_height missing, outputting NaNs\n",
      "See output: C:/temp//BB/metadata//BB_dynamicMetadata_202404150000_202404170000.csv\n",
      "All tasks completed successfully\n",
      "Warning, available data in group 1 is below recommended size for selected settings.\n",
      "1 group_1_rp_A group_1_yyyy-mm-ddTHHMM??_LI-7200.ghg 2024-04-15 00:00:00 2024-04-15 11:30:00 23\n",
      "Creating c:\\MM_Py\\EddyPro_API\\temp\\group_1_rp_A.eddypro for 23 files\n",
      "1 group_1_fcc group_1_yyyy-mm-ddTHHMM??_LI-7200.ghg 2024-04-15 00:00:00 2024-04-15 11:30:00 23\n",
      "Creating c:\\MM_Py\\EddyPro_API\\temp\\group_1_fcc.eddypro for 23 files\n",
      "Initiating EddyPro Runs for group on 1 cores at High Priority priority\n"
     ]
    }
   ],
   "source": [
    "\n",
    "import eddyProAPI\n",
    "import importlib\n",
    "importlib.reload(eddyProAPI)\n",
    "\n",
    "kwargs['dumpToBiometDatabase']=True\n",
    "# if kwargs['reset'] == True:\n",
    "#     kwargs['reset'] = False\n",
    "eP = eddyProAPI.runEP(**kwargs)"
   ]
  },
  {
   "cell_type": "code",
   "execution_count": 20,
   "metadata": {},
   "outputs": [
    {
     "name": "stdout",
     "output_type": "stream",
     "text": [
      "C:\\Users\\labuser\\EddyPro_API\\temp Y:\\BB\\eddyProAPIOutputs\n",
      "True\n",
      "True\n",
      "CompletedProcess(args=['move', 'C:\\\\Users\\\\labuser\\\\EddyPro_API\\\\temp', 'Y:\\\\BB\\\\eddyProAPIOutputs'], returncode=1, stdout=b'', stderr=b'Access is denied.\\r\\n')\n"
     ]
    }
   ],
   "source": [
    "import batchProcessing\n",
    "import importlib\n",
    "importlib.reload(batchProcessing)\n",
    "import os\n",
    "\n",
    "d_out = os.path.abspath('Y:\\\\BB\\\\eddyProAPIOutputs')\n",
    "d_in = os.path.abspath('C:\\\\Users\\\\labuser\\\\EddyPro_API\\\\temp ')\n",
    "print(d_in,d_out)\n",
    "print(os.path.isdir(d_in))\n",
    "print(os.path.isdir(d_out))\n",
    "batchProcessing.pasteWithSubprocess(d_in,d_out,option='xcopy',Verbose=True)"
   ]
  }
 ],
 "metadata": {
  "kernelspec": {
   "display_name": ".venv",
   "language": "python",
   "name": "python3"
  },
  "language_info": {
   "codemirror_mode": {
    "name": "ipython",
    "version": 3
   },
   "file_extension": ".py",
   "mimetype": "text/x-python",
   "name": "python",
   "nbconvert_exporter": "python",
   "pygments_lexer": "ipython3",
   "version": "3.11.5"
  },
  "orig_nbformat": 4,
  "vscode": {
   "interpreter": {
    "hash": "ef0cd03416062db1397a6f4c064b2fd8fe41d0681561742315105bdf1dc915d9"
   }
  }
 },
 "nbformat": 4,
 "nbformat_minor": 2
}
